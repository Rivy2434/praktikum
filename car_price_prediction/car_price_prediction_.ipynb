{
 "cells": [
  {
   "cell_type": "markdown",
   "metadata": {},
   "source": [
    "# Car price prediction\n"
   ]
  },
  {
   "cell_type": "markdown",
   "metadata": {},
   "source": [
    ">The aim of this project is to build a model for car price estimation.<br>\n",
    "The model is supposed to be used in application for quick market price determination. Thus, prediction quality, prediction time, and training time are important. <br>\n",
    "The training data is a set of records with car characteristics and prices, as well as some user data from different countries. \n"
   ]
  },
  {
   "cell_type": "markdown",
   "metadata": {},
   "source": [
    "## Preliminary data processing"
   ]
  },
  {
   "cell_type": "code",
   "execution_count": 1,
   "metadata": {
    "scrolled": true
   },
   "outputs": [],
   "source": [
    "#importing libraries\n",
    "import pandas as pd\n",
    "\n",
    "import matplotlib.pyplot as plt\n",
    "import matplotlib as mpl\n",
    "\n",
    "from sklearn.model_selection import train_test_split, GridSearchCV, cross_val_score\n",
    "from sklearn import linear_model\n",
    "from sklearn.tree import DecisionTreeRegressor\n",
    "from sklearn.metrics import mean_squared_error, r2_score, mean_absolute_error, make_scorer\n",
    "from sklearn.dummy import DummyRegressor\n",
    "import sklearn.metrics\n",
    "\n",
    "import numpy as np\n",
    "\n",
    "from lightgbm import LGBMRegressor"
   ]
  },
  {
   "cell_type": "code",
   "execution_count": 2,
   "metadata": {},
   "outputs": [
    {
     "name": "stdout",
     "output_type": "stream",
     "text": [
      "Using local files\n",
      "\n"
     ]
    }
   ],
   "source": [
    "#file uploading\n",
    "try:\n",
    "    data = pd.read_csv('/datasets/autos.csv')\n",
    "    print('Using cloud files')\n",
    "    print()\n",
    "except:\n",
    "    data = pd.read_csv('D:/Bot/DataScience/Jupyter projects/3 module/project 2/autos.csv')\n",
    "    print('Using local files')\n",
    "    print()"
   ]
  },
  {
   "cell_type": "code",
   "execution_count": 3,
   "metadata": {
    "scrolled": true
   },
   "outputs": [
    {
     "data": {
      "text/html": [
       "<div>\n",
       "<style scoped>\n",
       "    .dataframe tbody tr th:only-of-type {\n",
       "        vertical-align: middle;\n",
       "    }\n",
       "\n",
       "    .dataframe tbody tr th {\n",
       "        vertical-align: top;\n",
       "    }\n",
       "\n",
       "    .dataframe thead th {\n",
       "        text-align: right;\n",
       "    }\n",
       "</style>\n",
       "<table border=\"1\" class=\"dataframe\">\n",
       "  <thead>\n",
       "    <tr style=\"text-align: right;\">\n",
       "      <th></th>\n",
       "      <th>DateCrawled</th>\n",
       "      <th>Price</th>\n",
       "      <th>VehicleType</th>\n",
       "      <th>RegistrationYear</th>\n",
       "      <th>Gearbox</th>\n",
       "      <th>Power</th>\n",
       "      <th>Model</th>\n",
       "      <th>Kilometer</th>\n",
       "      <th>RegistrationMonth</th>\n",
       "      <th>FuelType</th>\n",
       "      <th>Brand</th>\n",
       "      <th>NotRepaired</th>\n",
       "      <th>DateCreated</th>\n",
       "      <th>NumberOfPictures</th>\n",
       "      <th>PostalCode</th>\n",
       "      <th>LastSeen</th>\n",
       "    </tr>\n",
       "  </thead>\n",
       "  <tbody>\n",
       "    <tr>\n",
       "      <th>0</th>\n",
       "      <td>2016-03-24 11:52:17</td>\n",
       "      <td>480</td>\n",
       "      <td>NaN</td>\n",
       "      <td>1993</td>\n",
       "      <td>manual</td>\n",
       "      <td>0</td>\n",
       "      <td>golf</td>\n",
       "      <td>150000</td>\n",
       "      <td>0</td>\n",
       "      <td>petrol</td>\n",
       "      <td>volkswagen</td>\n",
       "      <td>NaN</td>\n",
       "      <td>2016-03-24 00:00:00</td>\n",
       "      <td>0</td>\n",
       "      <td>70435</td>\n",
       "      <td>2016-04-07 03:16:57</td>\n",
       "    </tr>\n",
       "    <tr>\n",
       "      <th>1</th>\n",
       "      <td>2016-03-24 10:58:45</td>\n",
       "      <td>18300</td>\n",
       "      <td>coupe</td>\n",
       "      <td>2011</td>\n",
       "      <td>manual</td>\n",
       "      <td>190</td>\n",
       "      <td>NaN</td>\n",
       "      <td>125000</td>\n",
       "      <td>5</td>\n",
       "      <td>gasoline</td>\n",
       "      <td>audi</td>\n",
       "      <td>yes</td>\n",
       "      <td>2016-03-24 00:00:00</td>\n",
       "      <td>0</td>\n",
       "      <td>66954</td>\n",
       "      <td>2016-04-07 01:46:50</td>\n",
       "    </tr>\n",
       "    <tr>\n",
       "      <th>2</th>\n",
       "      <td>2016-03-14 12:52:21</td>\n",
       "      <td>9800</td>\n",
       "      <td>suv</td>\n",
       "      <td>2004</td>\n",
       "      <td>auto</td>\n",
       "      <td>163</td>\n",
       "      <td>grand</td>\n",
       "      <td>125000</td>\n",
       "      <td>8</td>\n",
       "      <td>gasoline</td>\n",
       "      <td>jeep</td>\n",
       "      <td>NaN</td>\n",
       "      <td>2016-03-14 00:00:00</td>\n",
       "      <td>0</td>\n",
       "      <td>90480</td>\n",
       "      <td>2016-04-05 12:47:46</td>\n",
       "    </tr>\n",
       "    <tr>\n",
       "      <th>3</th>\n",
       "      <td>2016-03-17 16:54:04</td>\n",
       "      <td>1500</td>\n",
       "      <td>small</td>\n",
       "      <td>2001</td>\n",
       "      <td>manual</td>\n",
       "      <td>75</td>\n",
       "      <td>golf</td>\n",
       "      <td>150000</td>\n",
       "      <td>6</td>\n",
       "      <td>petrol</td>\n",
       "      <td>volkswagen</td>\n",
       "      <td>no</td>\n",
       "      <td>2016-03-17 00:00:00</td>\n",
       "      <td>0</td>\n",
       "      <td>91074</td>\n",
       "      <td>2016-03-17 17:40:17</td>\n",
       "    </tr>\n",
       "    <tr>\n",
       "      <th>4</th>\n",
       "      <td>2016-03-31 17:25:20</td>\n",
       "      <td>3600</td>\n",
       "      <td>small</td>\n",
       "      <td>2008</td>\n",
       "      <td>manual</td>\n",
       "      <td>69</td>\n",
       "      <td>fabia</td>\n",
       "      <td>90000</td>\n",
       "      <td>7</td>\n",
       "      <td>gasoline</td>\n",
       "      <td>skoda</td>\n",
       "      <td>no</td>\n",
       "      <td>2016-03-31 00:00:00</td>\n",
       "      <td>0</td>\n",
       "      <td>60437</td>\n",
       "      <td>2016-04-06 10:17:21</td>\n",
       "    </tr>\n",
       "  </tbody>\n",
       "</table>\n",
       "</div>"
      ],
      "text/plain": [
       "           DateCrawled  Price VehicleType  RegistrationYear Gearbox  Power  \\\n",
       "0  2016-03-24 11:52:17    480         NaN              1993  manual      0   \n",
       "1  2016-03-24 10:58:45  18300       coupe              2011  manual    190   \n",
       "2  2016-03-14 12:52:21   9800         suv              2004    auto    163   \n",
       "3  2016-03-17 16:54:04   1500       small              2001  manual     75   \n",
       "4  2016-03-31 17:25:20   3600       small              2008  manual     69   \n",
       "\n",
       "   Model  Kilometer  RegistrationMonth  FuelType       Brand NotRepaired  \\\n",
       "0   golf     150000                  0    petrol  volkswagen         NaN   \n",
       "1    NaN     125000                  5  gasoline        audi         yes   \n",
       "2  grand     125000                  8  gasoline        jeep         NaN   \n",
       "3   golf     150000                  6    petrol  volkswagen          no   \n",
       "4  fabia      90000                  7  gasoline       skoda          no   \n",
       "\n",
       "           DateCreated  NumberOfPictures  PostalCode             LastSeen  \n",
       "0  2016-03-24 00:00:00                 0       70435  2016-04-07 03:16:57  \n",
       "1  2016-03-24 00:00:00                 0       66954  2016-04-07 01:46:50  \n",
       "2  2016-03-14 00:00:00                 0       90480  2016-04-05 12:47:46  \n",
       "3  2016-03-17 00:00:00                 0       91074  2016-03-17 17:40:17  \n",
       "4  2016-03-31 00:00:00                 0       60437  2016-04-06 10:17:21  "
      ]
     },
     "metadata": {},
     "output_type": "display_data"
    },
    {
     "name": "stdout",
     "output_type": "stream",
     "text": [
      "<class 'pandas.core.frame.DataFrame'>\n",
      "RangeIndex: 354369 entries, 0 to 354368\n",
      "Data columns (total 16 columns):\n",
      " #   Column             Non-Null Count   Dtype \n",
      "---  ------             --------------   ----- \n",
      " 0   DateCrawled        354369 non-null  object\n",
      " 1   Price              354369 non-null  int64 \n",
      " 2   VehicleType        316879 non-null  object\n",
      " 3   RegistrationYear   354369 non-null  int64 \n",
      " 4   Gearbox            334536 non-null  object\n",
      " 5   Power              354369 non-null  int64 \n",
      " 6   Model              334664 non-null  object\n",
      " 7   Kilometer          354369 non-null  int64 \n",
      " 8   RegistrationMonth  354369 non-null  int64 \n",
      " 9   FuelType           321474 non-null  object\n",
      " 10  Brand              354369 non-null  object\n",
      " 11  NotRepaired        283215 non-null  object\n",
      " 12  DateCreated        354369 non-null  object\n",
      " 13  NumberOfPictures   354369 non-null  int64 \n",
      " 14  PostalCode         354369 non-null  int64 \n",
      " 15  LastSeen           354369 non-null  object\n",
      "dtypes: int64(7), object(9)\n",
      "memory usage: 43.3+ MB\n"
     ]
    },
    {
     "data": {
      "text/plain": [
       "None"
      ]
     },
     "metadata": {},
     "output_type": "display_data"
    }
   ],
   "source": [
    "#data overview\n",
    "display(data.head())\n",
    "display(data.info())"
   ]
  },
  {
   "cell_type": "markdown",
   "metadata": {},
   "source": [
    "Gaps are present along with wrong data types. Date and time records were written like objects. "
   ]
  },
  {
   "cell_type": "markdown",
   "metadata": {},
   "source": [
    "### Duplicate search\n"
   ]
  },
  {
   "cell_type": "code",
   "execution_count": 4,
   "metadata": {},
   "outputs": [
    {
     "name": "stdout",
     "output_type": "stream",
     "text": [
      "4\n"
     ]
    }
   ],
   "source": [
    "#firstly bring all strings to lowercase\n",
    "strings = ['VehicleType','Gearbox','Model','FuelType','Brand','NotRepaired']\n",
    "for element in strings:\n",
    "    data[element] = data[element].str.lower()\n",
    "\n",
    "print(data.duplicated().sum())"
   ]
  },
  {
   "cell_type": "code",
   "execution_count": 5,
   "metadata": {},
   "outputs": [
    {
     "name": "stdout",
     "output_type": "stream",
     "text": [
      "0\n"
     ]
    }
   ],
   "source": [
    "#delete duplicates\n",
    "data = data.drop_duplicates().reset_index(drop=True)\n",
    "print(data.duplicated().sum())"
   ]
  },
  {
   "cell_type": "markdown",
   "metadata": {},
   "source": [
    "### Changing data types"
   ]
  },
  {
   "cell_type": "code",
   "execution_count": 6,
   "metadata": {},
   "outputs": [],
   "source": [
    "#convert columns with dates to datetime\n",
    "data['DateCrawled'] = pd.to_datetime(data['DateCrawled'],format='%Y-%m-%d %H:%M:%S')\n",
    "data['DateCreated'] = pd.to_datetime(data['DateCreated'],format='%Y-%m-%d %H:%M:%S')\n",
    "data['LastSeen'] = pd.to_datetime(data['LastSeen'],format='%Y-%m-%d %H:%M:%S')"
   ]
  },
  {
   "cell_type": "markdown",
   "metadata": {},
   "source": [
    "### Handling missing data"
   ]
  },
  {
   "cell_type": "code",
   "execution_count": 7,
   "metadata": {
    "scrolled": true
   },
   "outputs": [
    {
     "name": "stdout",
     "output_type": "stream",
     "text": [
      "Percentage of missing values:\n"
     ]
    },
    {
     "data": {
      "text/plain": [
       "DateCrawled           0.000000\n",
       "Price                 0.000000\n",
       "VehicleType          10.579487\n",
       "RegistrationYear      0.000000\n",
       "Gearbox               5.596772\n",
       "Power                 0.000000\n",
       "Model                 5.560651\n",
       "Kilometer             0.000000\n",
       "RegistrationMonth     0.000000\n",
       "FuelType              9.282802\n",
       "Brand                 0.000000\n",
       "NotRepaired          20.079297\n",
       "DateCreated           0.000000\n",
       "NumberOfPictures      0.000000\n",
       "PostalCode            0.000000\n",
       "LastSeen              0.000000\n",
       "dtype: float64"
      ]
     },
     "metadata": {},
     "output_type": "display_data"
    }
   ],
   "source": [
    "#printing gaps info\n",
    "print('Percentage of missing values:')   \n",
    "display(data.isnull().sum()*100/len(data)) #this is to show % of all data"
   ]
  },
  {
   "cell_type": "markdown",
   "metadata": {},
   "source": [
    "#### Gearbox\n"
   ]
  },
  {
   "cell_type": "markdown",
   "metadata": {},
   "source": [
    "As a gearbox is an option its not possible to restore data from the model. We can try to fill in hybrids and electro cars with automated gearboxes.\n"
   ]
  },
  {
   "cell_type": "code",
   "execution_count": 8,
   "metadata": {
    "scrolled": true
   },
   "outputs": [
    {
     "name": "stdout",
     "output_type": "stream",
     "text": [
      "How many gaps we fill:\n",
      "18\n"
     ]
    },
    {
     "data": {
      "text/plain": [
       "1075        auto\n",
       "3244      manual\n",
       "4724        auto\n",
       "5119        auto\n",
       "5307        auto\n",
       "           ...  \n",
       "349200      auto\n",
       "350122      auto\n",
       "350566      auto\n",
       "352032      auto\n",
       "352460    manual\n",
       "Name: Gearbox, Length: 323, dtype: object"
      ]
     },
     "execution_count": 8,
     "metadata": {},
     "output_type": "execute_result"
    }
   ],
   "source": [
    "print('How many gaps we fill:')\n",
    "print(data.query('(FuelType == \"electric\")|(FuelType == \"hybrid\")')['Gearbox'].isna().sum())\n",
    "data.loc[(data['FuelType']==\"electric\")|(data['FuelType']==\"hybrid\")]['Gearbox'].fillna('auto')"
   ]
  },
  {
   "cell_type": "code",
   "execution_count": 9,
   "metadata": {},
   "outputs": [],
   "source": [
    "#fill in the gaps with marker values\n",
    "data['Gearbox'] = data['Gearbox'].fillna('unknown')"
   ]
  },
  {
   "cell_type": "markdown",
   "metadata": {},
   "source": [
    "#### Model"
   ]
  },
  {
   "cell_type": "code",
   "execution_count": 10,
   "metadata": {},
   "outputs": [
    {
     "name": "stdout",
     "output_type": "stream",
     "text": [
      "['100' '145' '147' '156' '159' '1_reihe' '1er' '200' '2_reihe' '300c'\n",
      " '3_reihe' '3er' '4_reihe' '500' '5_reihe' '5er' '601' '6_reihe' '6er'\n",
      " '7er' '80' '850' '90' '900' '9000' '911' 'a1' 'a2' 'a3' 'a4' 'a5' 'a6'\n",
      " 'a8' 'a_klasse' 'accord' 'agila' 'alhambra' 'almera' 'altea' 'amarok'\n",
      " 'antara' 'arosa' 'astra' 'auris' 'avensis' 'aveo' 'aygo' 'b_klasse'\n",
      " 'b_max' 'beetle' 'berlingo' 'bora' 'boxster' 'bravo' 'c1' 'c2' 'c3' 'c4'\n",
      " 'c5' 'c_klasse' 'c_max' 'c_reihe' 'caddy' 'calibra' 'captiva' 'carisma'\n",
      " 'carnival' 'cayenne' 'cc' 'ceed' 'charade' 'cherokee' 'citigo' 'civic'\n",
      " 'cl' 'clio' 'clk' 'clubman' 'colt' 'combo' 'cooper' 'cordoba' 'corolla'\n",
      " 'corsa' 'cr_reihe' 'croma' 'crossfire' 'cuore' 'cx_reihe' 'defender'\n",
      " 'delta' 'discovery' 'doblo' 'ducato' 'duster' 'e_klasse' 'elefantino'\n",
      " 'eos' 'escort' 'espace' 'exeo' 'fabia' 'fiesta' 'focus' 'forester'\n",
      " 'forfour' 'fortwo' 'fox' 'freelander' 'fusion' 'g_klasse' 'galant'\n",
      " 'galaxy' 'getz' 'gl' 'glk' 'golf' 'grand' 'i3' 'i_reihe' 'ibiza'\n",
      " 'impreza' 'insignia' 'jazz' 'jetta' 'jimny' 'juke' 'justy' 'ka' 'kadett'\n",
      " 'kaefer' 'kalina' 'kalos' 'kangoo' 'kappa' 'kuga' 'laguna' 'lancer'\n",
      " 'lanos' 'legacy' 'leon' 'lodgy' 'logan' 'lupo' 'lybra' 'm_klasse'\n",
      " 'm_reihe' 'materia' 'matiz' 'megane' 'meriva' 'micra' 'mii' 'modus'\n",
      " 'mondeo' 'move' 'musa' 'mustang' 'mx_reihe' 'navara' 'niva' 'note'\n",
      " 'nubira' 'octavia' 'omega' 'one' 'other' 'outlander' 'pajero' 'panda'\n",
      " 'passat' 'phaeton' 'picanto' 'polo' 'primera' 'ptcruiser' 'punto' 'q3'\n",
      " 'q5' 'q7' 'qashqai' 'r19' 'range_rover' 'range_rover_evoque'\n",
      " 'range_rover_sport' 'rangerover' 'rav' 'rio' 'roadster' 'roomster'\n",
      " 'rx_reihe' 's60' 's_klasse' 's_max' 's_type' 'samara' 'sandero' 'santa'\n",
      " 'scenic' 'scirocco' 'seicento' 'serie_1' 'serie_2' 'serie_3' 'sharan'\n",
      " 'signum' 'sirion' 'sl' 'slk' 'sorento' 'spark' 'spider' 'sportage'\n",
      " 'sprinter' 'stilo' 'superb' 'swift' 'terios' 'tigra' 'tiguan' 'toledo'\n",
      " 'touareg' 'touran' 'transit' 'transporter' 'tt' 'tucson' 'twingo' 'up'\n",
      " 'v40' 'v50' 'v60' 'v70' 'v_klasse' 'vectra' 'verso' 'viano' 'vito'\n",
      " 'vivaro' 'voyager' 'wrangler' 'x_reihe' 'x_trail' 'x_type' 'xc_reihe'\n",
      " 'yaris' 'yeti' 'ypsilon' 'z_reihe' 'zafira']\n"
     ]
    }
   ],
   "source": [
    "#deleting missing records\n",
    "data = data.dropna(subset=['Model'])\n",
    "#browsing rest names just in case\n",
    "print(data['Model'].sort_values().unique())"
   ]
  },
  {
   "cell_type": "markdown",
   "metadata": {},
   "source": [
    "#### Fuel, repair and body style"
   ]
  },
  {
   "cell_type": "markdown",
   "metadata": {},
   "source": [
    "Fill in the gaps with marker values"
   ]
  },
  {
   "cell_type": "code",
   "execution_count": 11,
   "metadata": {
    "scrolled": true
   },
   "outputs": [],
   "source": [
    "data['FuelType'] = data['FuelType'].fillna('unknown')\n",
    "data['NotRepaired'] = data['NotRepaired'].fillna('unknown')\n",
    "data['VehicleType'] = data['VehicleType'].fillna('unknown')"
   ]
  },
  {
   "cell_type": "markdown",
   "metadata": {},
   "source": [
    "### Check-up\n"
   ]
  },
  {
   "cell_type": "code",
   "execution_count": 12,
   "metadata": {
    "scrolled": true
   },
   "outputs": [
    {
     "name": "stdout",
     "output_type": "stream",
     "text": [
      "Percentage of missing values:\n"
     ]
    },
    {
     "data": {
      "text/plain": [
       "DateCrawled          0.0\n",
       "Price                0.0\n",
       "VehicleType          0.0\n",
       "RegistrationYear     0.0\n",
       "Gearbox              0.0\n",
       "Power                0.0\n",
       "Model                0.0\n",
       "Kilometer            0.0\n",
       "RegistrationMonth    0.0\n",
       "FuelType             0.0\n",
       "Brand                0.0\n",
       "NotRepaired          0.0\n",
       "DateCreated          0.0\n",
       "NumberOfPictures     0.0\n",
       "PostalCode           0.0\n",
       "LastSeen             0.0\n",
       "dtype: float64"
      ]
     },
     "metadata": {},
     "output_type": "display_data"
    }
   ],
   "source": [
    "print('Percentage of missing values:')  \n",
    "display(data.isnull().sum()*100/len(data))"
   ]
  },
  {
   "cell_type": "markdown",
   "metadata": {},
   "source": [
    "### Search of errors and values improvement\n"
   ]
  },
  {
   "cell_type": "code",
   "execution_count": 13,
   "metadata": {
    "scrolled": false
   },
   "outputs": [
    {
     "data": {
      "text/html": [
       "<div>\n",
       "<style scoped>\n",
       "    .dataframe tbody tr th:only-of-type {\n",
       "        vertical-align: middle;\n",
       "    }\n",
       "\n",
       "    .dataframe tbody tr th {\n",
       "        vertical-align: top;\n",
       "    }\n",
       "\n",
       "    .dataframe thead th {\n",
       "        text-align: right;\n",
       "    }\n",
       "</style>\n",
       "<table border=\"1\" class=\"dataframe\">\n",
       "  <thead>\n",
       "    <tr style=\"text-align: right;\">\n",
       "      <th></th>\n",
       "      <th>Price</th>\n",
       "      <th>RegistrationYear</th>\n",
       "      <th>Power</th>\n",
       "      <th>Kilometer</th>\n",
       "      <th>RegistrationMonth</th>\n",
       "      <th>NumberOfPictures</th>\n",
       "      <th>PostalCode</th>\n",
       "    </tr>\n",
       "  </thead>\n",
       "  <tbody>\n",
       "    <tr>\n",
       "      <th>count</th>\n",
       "      <td>334660.000000</td>\n",
       "      <td>334660.000000</td>\n",
       "      <td>334660.000000</td>\n",
       "      <td>334660.000000</td>\n",
       "      <td>334660.000000</td>\n",
       "      <td>334660.0</td>\n",
       "      <td>334660.000000</td>\n",
       "    </tr>\n",
       "    <tr>\n",
       "      <th>mean</th>\n",
       "      <td>4504.372249</td>\n",
       "      <td>2003.924024</td>\n",
       "      <td>111.372659</td>\n",
       "      <td>128562.795076</td>\n",
       "      <td>5.806075</td>\n",
       "      <td>0.0</td>\n",
       "      <td>50671.327365</td>\n",
       "    </tr>\n",
       "    <tr>\n",
       "      <th>std</th>\n",
       "      <td>4531.457109</td>\n",
       "      <td>69.377633</td>\n",
       "      <td>185.157391</td>\n",
       "      <td>37205.638630</td>\n",
       "      <td>3.689157</td>\n",
       "      <td>0.0</td>\n",
       "      <td>25754.527341</td>\n",
       "    </tr>\n",
       "    <tr>\n",
       "      <th>min</th>\n",
       "      <td>0.000000</td>\n",
       "      <td>1000.000000</td>\n",
       "      <td>0.000000</td>\n",
       "      <td>5000.000000</td>\n",
       "      <td>0.000000</td>\n",
       "      <td>0.0</td>\n",
       "      <td>1067.000000</td>\n",
       "    </tr>\n",
       "    <tr>\n",
       "      <th>25%</th>\n",
       "      <td>1150.000000</td>\n",
       "      <td>1999.000000</td>\n",
       "      <td>70.000000</td>\n",
       "      <td>125000.000000</td>\n",
       "      <td>3.000000</td>\n",
       "      <td>0.0</td>\n",
       "      <td>30419.000000</td>\n",
       "    </tr>\n",
       "    <tr>\n",
       "      <th>50%</th>\n",
       "      <td>2800.000000</td>\n",
       "      <td>2003.000000</td>\n",
       "      <td>105.000000</td>\n",
       "      <td>150000.000000</td>\n",
       "      <td>6.000000</td>\n",
       "      <td>0.0</td>\n",
       "      <td>49525.000000</td>\n",
       "    </tr>\n",
       "    <tr>\n",
       "      <th>75%</th>\n",
       "      <td>6500.000000</td>\n",
       "      <td>2008.000000</td>\n",
       "      <td>143.000000</td>\n",
       "      <td>150000.000000</td>\n",
       "      <td>9.000000</td>\n",
       "      <td>0.0</td>\n",
       "      <td>71229.000000</td>\n",
       "    </tr>\n",
       "    <tr>\n",
       "      <th>max</th>\n",
       "      <td>20000.000000</td>\n",
       "      <td>9999.000000</td>\n",
       "      <td>20000.000000</td>\n",
       "      <td>150000.000000</td>\n",
       "      <td>12.000000</td>\n",
       "      <td>0.0</td>\n",
       "      <td>99998.000000</td>\n",
       "    </tr>\n",
       "  </tbody>\n",
       "</table>\n",
       "</div>"
      ],
      "text/plain": [
       "               Price  RegistrationYear          Power      Kilometer  \\\n",
       "count  334660.000000     334660.000000  334660.000000  334660.000000   \n",
       "mean     4504.372249       2003.924024     111.372659  128562.795076   \n",
       "std      4531.457109         69.377633     185.157391   37205.638630   \n",
       "min         0.000000       1000.000000       0.000000    5000.000000   \n",
       "25%      1150.000000       1999.000000      70.000000  125000.000000   \n",
       "50%      2800.000000       2003.000000     105.000000  150000.000000   \n",
       "75%      6500.000000       2008.000000     143.000000  150000.000000   \n",
       "max     20000.000000       9999.000000   20000.000000  150000.000000   \n",
       "\n",
       "       RegistrationMonth  NumberOfPictures     PostalCode  \n",
       "count      334660.000000          334660.0  334660.000000  \n",
       "mean            5.806075               0.0   50671.327365  \n",
       "std             3.689157               0.0   25754.527341  \n",
       "min             0.000000               0.0    1067.000000  \n",
       "25%             3.000000               0.0   30419.000000  \n",
       "50%             6.000000               0.0   49525.000000  \n",
       "75%             9.000000               0.0   71229.000000  \n",
       "max            12.000000               0.0   99998.000000  "
      ]
     },
     "metadata": {},
     "output_type": "display_data"
    }
   ],
   "source": [
    "#owerview of numerical data\n",
    "display(data.describe())"
   ]
  },
  {
   "cell_type": "markdown",
   "metadata": {},
   "source": [
    "There are problems with power, registration year and driven distance (like its limit is 150k kilometres). 0th registration month is also an error. Zero pictures are in the base.  "
   ]
  },
  {
   "cell_type": "markdown",
   "metadata": {},
   "source": [
    "#### Registration month"
   ]
  },
  {
   "cell_type": "code",
   "execution_count": 14,
   "metadata": {},
   "outputs": [
    {
     "name": "stdout",
     "output_type": "stream",
     "text": [
      "Unique values of monthes number\n",
      "[ 0  1  2  3  4  5  6  7  8  9 10 11 12]\n",
      "0 values in total: 30810 , as a % of the total: 9.206358692404232 %\n"
     ]
    }
   ],
   "source": [
    "#how many incorrect records for month\n",
    "print('Unique values of monthes number')\n",
    "print(data['RegistrationMonth'].sort_values().unique())\n",
    "zeros = data.query('RegistrationMonth == 0')['RegistrationMonth'].count()\n",
    "print('0 values in total:',zeros,',', 'as a % of the total:',zeros/len(data)*100,'%')"
   ]
  },
  {
   "cell_type": "code",
   "execution_count": 15,
   "metadata": {
    "scrolled": true
   },
   "outputs": [
    {
     "name": "stdout",
     "output_type": "stream",
     "text": [
      "Rate of each month in total data\n"
     ]
    },
    {
     "data": {
      "text/plain": [
       "3     0.098894\n",
       "0     0.092064\n",
       "6     0.089957\n",
       "4     0.083619\n",
       "5     0.083228\n",
       "7     0.077574\n",
       "10    0.075022\n",
       "11    0.069689\n",
       "12    0.069569\n",
       "9     0.068658\n",
       "1     0.065894\n",
       "8     0.064818\n",
       "2     0.061014\n",
       "Name: RegistrationMonth, dtype: float64"
      ]
     },
     "metadata": {},
     "output_type": "display_data"
    }
   ],
   "source": [
    "#checking percentage of the total for each month number \n",
    "print('Rate of each month in total data')\n",
    "display(data['RegistrationMonth'].value_counts(normalize=True))"
   ]
  },
  {
   "cell_type": "markdown",
   "metadata": {},
   "source": [
    "The amount of incorrect data is very high for deletion, and its hard to figure out a logical replacement for them. "
   ]
  },
  {
   "cell_type": "code",
   "execution_count": 16,
   "metadata": {},
   "outputs": [
    {
     "data": {
      "text/plain": [
       "count     334660\n",
       "unique        13\n",
       "top            3\n",
       "freq       33096\n",
       "Name: RegistrationMonth, dtype: object"
      ]
     },
     "metadata": {},
     "output_type": "display_data"
    }
   ],
   "source": [
    "#convert to another data type to process with one-hot encoding method\n",
    "data['RegistrationMonth'] = data['RegistrationMonth'].astype('str')\n",
    "display(data['RegistrationMonth'].describe())"
   ]
  },
  {
   "cell_type": "markdown",
   "metadata": {},
   "source": [
    "#### Registration year"
   ]
  },
  {
   "cell_type": "code",
   "execution_count": 17,
   "metadata": {
    "scrolled": false
   },
   "outputs": [
    {
     "name": "stdout",
     "output_type": "stream",
     "text": [
      "[1000 1001 1111 1200 1234 1300 1400 1500 1600 1602 1800 1910 1919 1923\n",
      " 1927 1928 1929 1930 1931 1932 1933 1934 1935 1936 1937 1938 1941 1942\n",
      " 1943 1945 1947 1949 1950 1951 1952 1953 1954 1955 1956 1957 1958 1959\n",
      " 1960 1961 1962 1963 1964 1965 1966 1967 1968 1969 1970 1971 1972 1973\n",
      " 1974 1975 1976 1977 1978 1979 1980 1981 1982 1983 1984 1985 1986 1987\n",
      " 1988 1989 1990 1991 1992 1993 1994 1995 1996 1997 1998 1999 2000 2001\n",
      " 2002 2003 2004 2005 2006 2007 2008 2009 2010 2011 2012 2013 2014 2015\n",
      " 2016 2017 2018 2019 2066 2200 2290 2500 2900 3000 3700 4000 4500 5000\n",
      " 5555 5900 5911 6000 6500 7000 7100 7500 7800 8000 8200 8500 9000 9999]\n",
      "\n",
      "Total amount of incorrect records: 96\n"
     ]
    }
   ],
   "source": [
    "#browsing for incorrect registrations year values\n",
    "print(data['RegistrationYear'].sort_values().unique())\n",
    "#since 1910(Wiki) \n",
    "wrong = data[(data['RegistrationYear']<1910)|(data['RegistrationYear']>2019)]['RegistrationYear'].count()\n",
    "print()\n",
    "print('Total amount of incorrect records:',wrong)\n",
    "#deleting\n",
    "data = data.query('(RegistrationYear > 1909)&(RegistrationYear <2020)')\n"
   ]
  },
  {
   "cell_type": "markdown",
   "metadata": {},
   "source": [
    "If we check last users activity, which is data['LastSeen'].max(), we can find out latest possible registration year."
   ]
  },
  {
   "cell_type": "code",
   "execution_count": 18,
   "metadata": {},
   "outputs": [
    {
     "data": {
      "text/plain": [
       "Timestamp('2016-04-07 14:58:51')"
      ]
     },
     "metadata": {},
     "output_type": "display_data"
    }
   ],
   "source": [
    "display(data['LastSeen'].max())\n",
    "data = data.query('RegistrationYear <=2016')"
   ]
  },
  {
   "cell_type": "code",
   "execution_count": 19,
   "metadata": {
    "scrolled": true
   },
   "outputs": [
    {
     "name": "stdout",
     "output_type": "stream",
     "text": [
      "[1910 1919 1923 1927 1928 1929 1930 1931 1932 1933 1934 1935 1936 1937\n",
      " 1938 1941 1942 1943 1945 1947 1949 1950 1951 1952 1953 1954 1955 1956\n",
      " 1957 1958 1959 1960 1961 1962 1963 1964 1965 1966 1967 1968 1969 1970\n",
      " 1971 1972 1973 1974 1975 1976 1977 1978 1979 1980 1981 1982 1983 1984\n",
      " 1985 1986 1987 1988 1989 1990 1991 1992 1993 1994 1995 1996 1997 1998\n",
      " 1999 2000 2001 2002 2003 2004 2005 2006 2007 2008 2009 2010 2011 2012\n",
      " 2013 2014 2015 2016]\n"
     ]
    }
   ],
   "source": [
    "print(data['RegistrationYear'].sort_values().unique()) #checking"
   ]
  },
  {
   "cell_type": "code",
   "execution_count": 20,
   "metadata": {
    "scrolled": true
   },
   "outputs": [
    {
     "data": {
      "image/png": "[encoded data removed]",
      "text/plain": [
       "<Figure size 432x288 with 1 Axes>"
      ]
     },
     "metadata": {
      "needs_background": "light"
     },
     "output_type": "display_data"
    },
    {
     "data": {
      "image/png": "[encoded data removed]",
      "text/plain": [
       "<Figure size 432x288 with 1 Axes>"
      ]
     },
     "metadata": {
      "needs_background": "light"
     },
     "output_type": "display_data"
    }
   ],
   "source": [
    "data['RegistrationYear'].plot(kind = 'hist',bins = 50)\n",
    "plt.show()\n",
    "data.boxplot('RegistrationYear')\n",
    "plt.show()\n"
   ]
  },
  {
   "cell_type": "markdown",
   "metadata": {},
   "source": [
    "#### Driven distance"
   ]
  },
  {
   "cell_type": "code",
   "execution_count": 21,
   "metadata": {
    "scrolled": false
   },
   "outputs": [
    {
     "name": "stdout",
     "output_type": "stream",
     "text": [
      "Unique values of the driven distance: [  5000  10000  20000  30000  40000  50000  60000  70000  80000  90000\n",
      " 100000 125000 150000]\n"
     ]
    },
    {
     "data": {
      "image/png": "[encoded data removed]",
      "text/plain": [
       "<Figure size 432x288 with 1 Axes>"
      ]
     },
     "metadata": {
      "needs_background": "light"
     },
     "output_type": "display_data"
    }
   ],
   "source": [
    "print('Unique values of the driven distance:',data['Kilometer'].sort_values().unique())\n",
    "data['Kilometer'].plot(kind = 'hist',bins = 50)\n",
    "plt.show()"
   ]
  },
  {
   "cell_type": "code",
   "execution_count": 22,
   "metadata": {},
   "outputs": [
    {
     "name": "stdout",
     "output_type": "stream",
     "text": [
      "-0.2455009347912855\n"
     ]
    }
   ],
   "source": [
    "#correlation of driven distance and registration year \n",
    "print(data['Kilometer'].corr(data['RegistrationYear']))"
   ]
  },
  {
   "cell_type": "markdown",
   "metadata": {},
   "source": [
    "#### Power"
   ]
  },
  {
   "cell_type": "code",
   "execution_count": 23,
   "metadata": {
    "scrolled": true
   },
   "outputs": [
    {
     "name": "stdout",
     "output_type": "stream",
     "text": [
      "overpowered: 82\n",
      "bicycle: 30886\n"
     ]
    },
    {
     "data": {
      "image/png": "[encoded data removed]",
      "text/plain": [
       "<Figure size 432x288 with 1 Axes>"
      ]
     },
     "metadata": {
      "needs_background": "light"
     },
     "output_type": "display_data"
    }
   ],
   "source": [
    "#print(data['Power'].sort_values().unique()) #too long list\n",
    "data['Power'].plot(kind='hist', bins=200)\n",
    "plt.yscale('log')\n",
    "#how many records are bigger than 2,5k?\n",
    "overpowered = data.query('Power > 2500')['Power'].count()\n",
    "print('overpowered:',overpowered)\n",
    "bicycle = data.query('Power == 0')['Power'].count()\n",
    "print('bicycle:',bicycle)\n",
    "data = data.query('Power <=2500') #removing anomalies"
   ]
  },
  {
   "cell_type": "markdown",
   "metadata": {},
   "source": [
    "Seems, that a lot of cars got wrong near-zero powers. Will try to improve that. "
   ]
  },
  {
   "cell_type": "code",
   "execution_count": 24,
   "metadata": {
    "scrolled": true
   },
   "outputs": [
    {
     "data": {
      "text/html": [
       "<div>\n",
       "<style scoped>\n",
       "    .dataframe tbody tr th:only-of-type {\n",
       "        vertical-align: middle;\n",
       "    }\n",
       "\n",
       "    .dataframe tbody tr th {\n",
       "        vertical-align: top;\n",
       "    }\n",
       "\n",
       "    .dataframe thead th {\n",
       "        text-align: right;\n",
       "    }\n",
       "</style>\n",
       "<table border=\"1\" class=\"dataframe\">\n",
       "  <thead>\n",
       "    <tr style=\"text-align: right;\">\n",
       "      <th></th>\n",
       "      <th></th>\n",
       "      <th></th>\n",
       "      <th>Power</th>\n",
       "    </tr>\n",
       "    <tr>\n",
       "      <th>Brand</th>\n",
       "      <th>Model</th>\n",
       "      <th>VehicleType</th>\n",
       "      <th></th>\n",
       "    </tr>\n",
       "  </thead>\n",
       "  <tbody>\n",
       "    <tr>\n",
       "      <th rowspan=\"5\" valign=\"top\">alfa_romeo</th>\n",
       "      <th rowspan=\"5\" valign=\"top\">145</th>\n",
       "      <th>coupe</th>\n",
       "      <td>103.0</td>\n",
       "    </tr>\n",
       "    <tr>\n",
       "      <th>other</th>\n",
       "      <td>100.0</td>\n",
       "    </tr>\n",
       "    <tr>\n",
       "      <th>sedan</th>\n",
       "      <td>111.0</td>\n",
       "    </tr>\n",
       "    <tr>\n",
       "      <th>small</th>\n",
       "      <td>103.0</td>\n",
       "    </tr>\n",
       "    <tr>\n",
       "      <th>unknown</th>\n",
       "      <td>103.5</td>\n",
       "    </tr>\n",
       "    <tr>\n",
       "      <th>...</th>\n",
       "      <th>...</th>\n",
       "      <th>...</th>\n",
       "      <td>...</td>\n",
       "    </tr>\n",
       "    <tr>\n",
       "      <th rowspan=\"5\" valign=\"top\">volvo</th>\n",
       "      <th>v70</th>\n",
       "      <th>wagon</th>\n",
       "      <td>163.0</td>\n",
       "    </tr>\n",
       "    <tr>\n",
       "      <th rowspan=\"4\" valign=\"top\">xc_reihe</th>\n",
       "      <th>sedan</th>\n",
       "      <td>160.0</td>\n",
       "    </tr>\n",
       "    <tr>\n",
       "      <th>suv</th>\n",
       "      <td>185.0</td>\n",
       "    </tr>\n",
       "    <tr>\n",
       "      <th>unknown</th>\n",
       "      <td>185.0</td>\n",
       "    </tr>\n",
       "    <tr>\n",
       "      <th>wagon</th>\n",
       "      <td>185.0</td>\n",
       "    </tr>\n",
       "  </tbody>\n",
       "</table>\n",
       "<p>1612 rows × 1 columns</p>\n",
       "</div>"
      ],
      "text/plain": [
       "                                 Power\n",
       "Brand      Model    VehicleType       \n",
       "alfa_romeo 145      coupe        103.0\n",
       "                    other        100.0\n",
       "                    sedan        111.0\n",
       "                    small        103.0\n",
       "                    unknown      103.5\n",
       "...                                ...\n",
       "volvo      v70      wagon        163.0\n",
       "           xc_reihe sedan        160.0\n",
       "                    suv          185.0\n",
       "                    unknown      185.0\n",
       "                    wagon        185.0\n",
       "\n",
       "[1612 rows x 1 columns]"
      ]
     },
     "metadata": {},
     "output_type": "display_data"
    }
   ],
   "source": [
    "#power spectrum for each model exclusive of 0-powered\n",
    "#for median value\n",
    "power_spectrum = data.query('Power !=0').pivot_table(index=['Brand','Model','VehicleType'],values='Power',aggfunc='median')\n",
    "\n",
    "display(power_spectrum)   \n"
   ]
  },
  {
   "cell_type": "code",
   "execution_count": 25,
   "metadata": {},
   "outputs": [
    {
     "name": "stdout",
     "output_type": "stream",
     "text": [
      "rest bicycles: 31011\n",
      "rest overpowered: 168\n"
     ]
    }
   ],
   "source": [
    "#how many records with very low powers? \n",
    "rest_bicycles = data.query('Power <=15')['Power'].count()\n",
    "print('rest bicycles:',rest_bicycles)\n",
    "#lets process also overpowered \n",
    "rest_overpowered = data.query('Power >= 1000')['Power'].count()\n",
    "print('rest overpowered:',rest_overpowered)"
   ]
  },
  {
   "cell_type": "code",
   "execution_count": 26,
   "metadata": {},
   "outputs": [],
   "source": [
    "#function for the row which substitutes values bove and below the threshhold\n",
    "#with median values from the power spectrum table\n",
    "def power2(row):\n",
    "    power = row['Power'] \n",
    "    brand = row['Brand']\n",
    "    model = row['Model']\n",
    "    body = row['VehicleType']\n",
    "    new_power = power\n",
    "    if model != 'serie_1':\n",
    "        if (power <= 15)|(power >= 1000): #убираем также и очень большие значения\n",
    "            try:\n",
    "                new_power = power_spectrum.loc[(brand, model, body)].iloc[0]\n",
    "            except:\n",
    "                new_power = power\n",
    "    return new_power"
   ]
  },
  {
   "cell_type": "code",
   "execution_count": 27,
   "metadata": {
    "scrolled": false
   },
   "outputs": [
    {
     "data": {
      "image/png": "[encoded data removed]",
      "text/plain": [
       "<Figure size 432x288 with 1 Axes>"
      ]
     },
     "metadata": {
      "needs_background": "light"
     },
     "output_type": "display_data"
    },
    {
     "name": "stdout",
     "output_type": "stream",
     "text": [
      "Wall time: 16.6 s\n"
     ]
    }
   ],
   "source": [
    "%%time\n",
    "#using the function\n",
    "data['Power'] = data.apply(power2, axis = 1)\n",
    "data['Power'].plot(kind='hist', bins=200)\n",
    "plt.show()"
   ]
  },
  {
   "cell_type": "markdown",
   "metadata": {},
   "source": [
    "The distribution has improved."
   ]
  },
  {
   "cell_type": "code",
   "execution_count": 28,
   "metadata": {
    "scrolled": false
   },
   "outputs": [
    {
     "name": "stdout",
     "output_type": "stream",
     "text": [
      "rest bicycles: 181\n",
      "rest overpowered: 3\n",
      "\n",
      "Power info:\n"
     ]
    },
    {
     "data": {
      "text/plain": [
       "count    322062.000000\n",
       "mean        119.203434\n",
       "std          53.779644\n",
       "min           0.000000\n",
       "25%          75.000000\n",
       "50%         110.000000\n",
       "75%         145.000000\n",
       "max        1992.000000\n",
       "Name: Power, dtype: float64"
      ]
     },
     "metadata": {},
     "output_type": "display_data"
    }
   ],
   "source": [
    "#examine rest low-powered and overpowered cars\n",
    "print('rest bicycles:',data.query('Power <=15')['Power'].count())\n",
    "print('rest overpowered:',data.query('Power >= 1000')['Power'].count())\n",
    "print()\n",
    "print('Power info:')\n",
    "display(data['Power'].describe())"
   ]
  },
  {
   "cell_type": "markdown",
   "metadata": {},
   "source": [
    "The rest is negligible."
   ]
  },
  {
   "cell_type": "markdown",
   "metadata": {},
   "source": [
    "#### Categories"
   ]
  },
  {
   "cell_type": "code",
   "execution_count": 29,
   "metadata": {
    "scrolled": true
   },
   "outputs": [
    {
     "name": "stdout",
     "output_type": "stream",
     "text": [
      "VehicleType:\n",
      "['bus' 'convertible' 'coupe' 'other' 'sedan' 'small' 'suv' 'unknown'\n",
      " 'wagon']\n",
      "Gearbox:\n",
      "['auto' 'manual' 'unknown']\n",
      "Model:\n",
      "['100' '145' '147' '156' '159' '1_reihe' '1er' '200' '2_reihe' '300c'\n",
      " '3_reihe' '3er' '4_reihe' '500' '5_reihe' '5er' '601' '6_reihe' '6er'\n",
      " '7er' '80' '850' '90' '900' '9000' '911' 'a1' 'a2' 'a3' 'a4' 'a5' 'a6'\n",
      " 'a8' 'a_klasse' 'accord' 'agila' 'alhambra' 'almera' 'altea' 'amarok'\n",
      " 'antara' 'arosa' 'astra' 'auris' 'avensis' 'aveo' 'aygo' 'b_klasse'\n",
      " 'b_max' 'beetle' 'berlingo' 'bora' 'boxster' 'bravo' 'c1' 'c2' 'c3' 'c4'\n",
      " 'c5' 'c_klasse' 'c_max' 'c_reihe' 'caddy' 'calibra' 'captiva' 'carisma'\n",
      " 'carnival' 'cayenne' 'cc' 'ceed' 'charade' 'cherokee' 'citigo' 'civic'\n",
      " 'cl' 'clio' 'clk' 'clubman' 'colt' 'combo' 'cooper' 'cordoba' 'corolla'\n",
      " 'corsa' 'cr_reihe' 'croma' 'crossfire' 'cuore' 'cx_reihe' 'defender'\n",
      " 'delta' 'discovery' 'doblo' 'ducato' 'duster' 'e_klasse' 'elefantino'\n",
      " 'eos' 'escort' 'espace' 'exeo' 'fabia' 'fiesta' 'focus' 'forester'\n",
      " 'forfour' 'fortwo' 'fox' 'freelander' 'fusion' 'g_klasse' 'galant'\n",
      " 'galaxy' 'getz' 'gl' 'glk' 'golf' 'grand' 'i3' 'i_reihe' 'ibiza'\n",
      " 'impreza' 'insignia' 'jazz' 'jetta' 'jimny' 'juke' 'justy' 'ka' 'kadett'\n",
      " 'kaefer' 'kalina' 'kalos' 'kangoo' 'kappa' 'kuga' 'laguna' 'lancer'\n",
      " 'lanos' 'legacy' 'leon' 'lodgy' 'logan' 'lupo' 'lybra' 'm_klasse'\n",
      " 'm_reihe' 'materia' 'matiz' 'megane' 'meriva' 'micra' 'mii' 'modus'\n",
      " 'mondeo' 'move' 'musa' 'mustang' 'mx_reihe' 'navara' 'niva' 'note'\n",
      " 'nubira' 'octavia' 'omega' 'one' 'other' 'outlander' 'pajero' 'panda'\n",
      " 'passat' 'phaeton' 'picanto' 'polo' 'primera' 'ptcruiser' 'punto' 'q3'\n",
      " 'q5' 'q7' 'qashqai' 'r19' 'range_rover' 'range_rover_evoque'\n",
      " 'range_rover_sport' 'rangerover' 'rav' 'rio' 'roadster' 'roomster'\n",
      " 'rx_reihe' 's60' 's_klasse' 's_max' 's_type' 'samara' 'sandero' 'santa'\n",
      " 'scenic' 'scirocco' 'seicento' 'serie_1' 'serie_2' 'serie_3' 'sharan'\n",
      " 'signum' 'sirion' 'sl' 'slk' 'sorento' 'spark' 'spider' 'sportage'\n",
      " 'sprinter' 'stilo' 'superb' 'swift' 'terios' 'tigra' 'tiguan' 'toledo'\n",
      " 'touareg' 'touran' 'transit' 'transporter' 'tt' 'tucson' 'twingo' 'up'\n",
      " 'v40' 'v50' 'v60' 'v70' 'v_klasse' 'vectra' 'verso' 'viano' 'vito'\n",
      " 'vivaro' 'voyager' 'wrangler' 'x_reihe' 'x_trail' 'x_type' 'xc_reihe'\n",
      " 'yaris' 'yeti' 'ypsilon' 'z_reihe' 'zafira']\n",
      "FuelType:\n",
      "['cng' 'electric' 'gasoline' 'hybrid' 'lpg' 'other' 'petrol' 'unknown']\n",
      "Brand:\n",
      "['alfa_romeo' 'audi' 'bmw' 'chevrolet' 'chrysler' 'citroen' 'dacia'\n",
      " 'daewoo' 'daihatsu' 'fiat' 'ford' 'honda' 'hyundai' 'jaguar' 'jeep' 'kia'\n",
      " 'lada' 'lancia' 'land_rover' 'mazda' 'mercedes_benz' 'mini' 'mitsubishi'\n",
      " 'nissan' 'opel' 'peugeot' 'porsche' 'renault' 'rover' 'saab' 'seat'\n",
      " 'skoda' 'smart' 'subaru' 'suzuki' 'toyota' 'trabant' 'volkswagen' 'volvo']\n",
      "NotRepaired:\n",
      "['no' 'unknown' 'yes']\n"
     ]
    }
   ],
   "source": [
    "#display unique categories\n",
    "for element in strings:\n",
    "    print(str(element + ':'))\n",
    "    print(data[element].sort_values().unique())"
   ]
  },
  {
   "cell_type": "markdown",
   "metadata": {},
   "source": [
    "Seems everything is ok."
   ]
  },
  {
   "cell_type": "markdown",
   "metadata": {},
   "source": [
    "#### Pictures"
   ]
  },
  {
   "cell_type": "code",
   "execution_count": 30,
   "metadata": {
    "scrolled": true
   },
   "outputs": [
    {
     "data": {
      "text/plain": [
       "count    322062.0\n",
       "mean          0.0\n",
       "std           0.0\n",
       "min           0.0\n",
       "25%           0.0\n",
       "50%           0.0\n",
       "75%           0.0\n",
       "max           0.0\n",
       "Name: NumberOfPictures, dtype: float64"
      ]
     },
     "metadata": {},
     "output_type": "display_data"
    }
   ],
   "source": [
    "display(data['NumberOfPictures'].describe())"
   ]
  },
  {
   "cell_type": "markdown",
   "metadata": {},
   "source": [
    "Everything is zero, deleting that."
   ]
  },
  {
   "cell_type": "code",
   "execution_count": 31,
   "metadata": {},
   "outputs": [],
   "source": [
    "data = data.drop('NumberOfPictures',axis=1)"
   ]
  },
  {
   "cell_type": "markdown",
   "metadata": {},
   "source": [
    "#### Postal code"
   ]
  },
  {
   "cell_type": "code",
   "execution_count": 32,
   "metadata": {
    "scrolled": false
   },
   "outputs": [
    {
     "name": "stdout",
     "output_type": "stream",
     "text": [
      "Unique codes:\n"
     ]
    },
    {
     "data": {
      "text/plain": [
       "8128"
      ]
     },
     "metadata": {},
     "output_type": "display_data"
    }
   ],
   "source": [
    "print('Unique codes:')\n",
    "display(len(data['PostalCode'].unique()))"
   ]
  },
  {
   "cell_type": "markdown",
   "metadata": {},
   "source": [
    "For representation of territory dependence 2 first code digits will be kept."
   ]
  },
  {
   "cell_type": "code",
   "execution_count": 33,
   "metadata": {},
   "outputs": [],
   "source": [
    "def truncate(number):\n",
    "    string = str(number)\n",
    "    new = string[:2]\n",
    "    return new\n",
    "data['PostalCode'] = data['PostalCode'].apply(truncate)\n",
    "    "
   ]
  },
  {
   "cell_type": "code",
   "execution_count": 34,
   "metadata": {},
   "outputs": [
    {
     "data": {
      "text/plain": [
       "count     322062\n",
       "unique        90\n",
       "top           45\n",
       "freq        7820\n",
       "Name: PostalCode, dtype: object"
      ]
     },
     "metadata": {},
     "output_type": "display_data"
    },
    {
     "name": "stdout",
     "output_type": "stream",
     "text": [
      "Unique prefixes: 90\n"
     ]
    }
   ],
   "source": [
    "display(data['PostalCode'].describe())\n",
    "print('Unique prefixes:',len(data['PostalCode'].unique()))"
   ]
  },
  {
   "cell_type": "markdown",
   "metadata": {},
   "source": [
    "### Data analysis"
   ]
  },
  {
   "cell_type": "code",
   "execution_count": 35,
   "metadata": {
    "scrolled": true
   },
   "outputs": [
    {
     "data": {
      "text/html": [
       "<div>\n",
       "<style scoped>\n",
       "    .dataframe tbody tr th:only-of-type {\n",
       "        vertical-align: middle;\n",
       "    }\n",
       "\n",
       "    .dataframe tbody tr th {\n",
       "        vertical-align: top;\n",
       "    }\n",
       "\n",
       "    .dataframe thead th {\n",
       "        text-align: right;\n",
       "    }\n",
       "</style>\n",
       "<table border=\"1\" class=\"dataframe\">\n",
       "  <thead>\n",
       "    <tr style=\"text-align: right;\">\n",
       "      <th></th>\n",
       "      <th>Price</th>\n",
       "      <th>RegistrationYear</th>\n",
       "      <th>Power</th>\n",
       "      <th>Kilometer</th>\n",
       "    </tr>\n",
       "  </thead>\n",
       "  <tbody>\n",
       "    <tr>\n",
       "      <th>Price</th>\n",
       "      <td>1.000000</td>\n",
       "      <td>0.465312</td>\n",
       "      <td>0.485615</td>\n",
       "      <td>-0.356504</td>\n",
       "    </tr>\n",
       "    <tr>\n",
       "      <th>RegistrationYear</th>\n",
       "      <td>0.465312</td>\n",
       "      <td>1.000000</td>\n",
       "      <td>0.128314</td>\n",
       "      <td>-0.245562</td>\n",
       "    </tr>\n",
       "    <tr>\n",
       "      <th>Power</th>\n",
       "      <td>0.485615</td>\n",
       "      <td>0.128314</td>\n",
       "      <td>1.000000</td>\n",
       "      <td>0.096837</td>\n",
       "    </tr>\n",
       "    <tr>\n",
       "      <th>Kilometer</th>\n",
       "      <td>-0.356504</td>\n",
       "      <td>-0.245562</td>\n",
       "      <td>0.096837</td>\n",
       "      <td>1.000000</td>\n",
       "    </tr>\n",
       "  </tbody>\n",
       "</table>\n",
       "</div>"
      ],
      "text/plain": [
       "                     Price  RegistrationYear     Power  Kilometer\n",
       "Price             1.000000          0.465312  0.485615  -0.356504\n",
       "RegistrationYear  0.465312          1.000000  0.128314  -0.245562\n",
       "Power             0.485615          0.128314  1.000000   0.096837\n",
       "Kilometer        -0.356504         -0.245562  0.096837   1.000000"
      ]
     },
     "execution_count": 35,
     "metadata": {},
     "output_type": "execute_result"
    }
   ],
   "source": [
    "#review of correlation table\n",
    "data.corr()"
   ]
  },
  {
   "cell_type": "markdown",
   "metadata": {},
   "source": [
    "Checking target."
   ]
  },
  {
   "cell_type": "code",
   "execution_count": 36,
   "metadata": {
    "scrolled": true
   },
   "outputs": [
    {
     "data": {
      "text/plain": [
       "count    322062.000000\n",
       "mean       4556.022719\n",
       "std        4560.708670\n",
       "min           0.000000\n",
       "25%        1150.000000\n",
       "50%        2899.000000\n",
       "75%        6550.000000\n",
       "max       20000.000000\n",
       "Name: Price, dtype: float64"
      ]
     },
     "metadata": {},
     "output_type": "display_data"
    },
    {
     "name": "stdout",
     "output_type": "stream",
     "text": [
      "Outgiving: 8016 %: 2.488961752706001\n"
     ]
    }
   ],
   "source": [
    "display(data['Price'].describe())\n",
    "#how many records are for outgiving\n",
    "print('Outgiving:',data.query('Price==0')['Price'].count(),'%:',100*data.query('Price==0')['Price'].count()/len(data))"
   ]
  },
  {
   "cell_type": "markdown",
   "metadata": {},
   "source": [
    "One can observe strange Price values. However, it is not yet clear what leads to this result, and should be discussed with client."
   ]
  },
  {
   "cell_type": "markdown",
   "metadata": {},
   "source": [
    "#### Categosizing car age"
   ]
  },
  {
   "cell_type": "code",
   "execution_count": 37,
   "metadata": {},
   "outputs": [
    {
     "data": {
      "text/html": [
       "<div>\n",
       "<style scoped>\n",
       "    .dataframe tbody tr th:only-of-type {\n",
       "        vertical-align: middle;\n",
       "    }\n",
       "\n",
       "    .dataframe tbody tr th {\n",
       "        vertical-align: top;\n",
       "    }\n",
       "\n",
       "    .dataframe thead th {\n",
       "        text-align: right;\n",
       "    }\n",
       "</style>\n",
       "<table border=\"1\" class=\"dataframe\">\n",
       "  <thead>\n",
       "    <tr style=\"text-align: right;\">\n",
       "      <th></th>\n",
       "      <th>Price</th>\n",
       "    </tr>\n",
       "    <tr>\n",
       "      <th>Age</th>\n",
       "      <th></th>\n",
       "    </tr>\n",
       "  </thead>\n",
       "  <tbody>\n",
       "    <tr>\n",
       "      <th>0</th>\n",
       "      <td>980.0</td>\n",
       "    </tr>\n",
       "    <tr>\n",
       "      <th>1</th>\n",
       "      <td>13500.0</td>\n",
       "    </tr>\n",
       "    <tr>\n",
       "      <th>2</th>\n",
       "      <td>13864.5</td>\n",
       "    </tr>\n",
       "    <tr>\n",
       "      <th>3</th>\n",
       "      <td>12900.0</td>\n",
       "    </tr>\n",
       "    <tr>\n",
       "      <th>4</th>\n",
       "      <td>11800.0</td>\n",
       "    </tr>\n",
       "  </tbody>\n",
       "</table>\n",
       "</div>"
      ],
      "text/plain": [
       "       Price\n",
       "Age         \n",
       "0      980.0\n",
       "1    13500.0\n",
       "2    13864.5\n",
       "3    12900.0\n",
       "4    11800.0"
      ]
     },
     "metadata": {},
     "output_type": "display_data"
    }
   ],
   "source": [
    "#creating Age feature\n",
    "data['Age'] = 2016 - data['RegistrationYear']\n",
    "#grouping by age\n",
    "price_by_age = data.pivot_table(index='Age',values='Price',aggfunc='median')\n",
    "display(price_by_age.head())\n"
   ]
  },
  {
   "cell_type": "code",
   "execution_count": 38,
   "metadata": {
    "scrolled": true
   },
   "outputs": [
    {
     "data": {
      "image/png": "[encoded data removed]",
      "text/plain": [
       "<Figure size 1440x432 with 1 Axes>"
      ]
     },
     "metadata": {
      "needs_background": "light"
     },
     "output_type": "display_data"
    }
   ],
   "source": [
    "#cheking out relationship between average price and age\n",
    "price_by_age.plot(kind='bar',figsize=(20,6))\n",
    "plt.show()\n",
    "#removing 2016 years data as they are incomplete\n",
    "data = data.query('RegistrationYear <2016')"
   ]
  },
  {
   "cell_type": "markdown",
   "metadata": {},
   "source": [
    "One should try the following  intervals: 0-6, 7-10, 11-20, 21-30, 31-55, 56-100."
   ]
  },
  {
   "cell_type": "code",
   "execution_count": 39,
   "metadata": {},
   "outputs": [],
   "source": [
    "#function for creation age category\n",
    "def age_group(age):\n",
    "    age_group = None\n",
    "    if age <=6:\n",
    "        age_group = 'young'\n",
    "    elif 7 < age <= 10:\n",
    "        age_group = 'medium'\n",
    "    elif 11 < age <= 20:\n",
    "        age_group = 'aged'\n",
    "    elif 21 < age <= 30:\n",
    "        age_group = 'classic'\n",
    "    elif 31 < age <= 55:\n",
    "        age_group = 'antique'\n",
    "    else:\n",
    "        age_group = 'vintage'\n",
    "    return age_group"
   ]
  },
  {
   "cell_type": "code",
   "execution_count": 40,
   "metadata": {},
   "outputs": [
    {
     "data": {
      "text/plain": [
       "array(['classic', 'aged', 'medium', 'vintage', 'antique', 'young'],\n",
       "      dtype=object)"
      ]
     },
     "metadata": {},
     "output_type": "display_data"
    }
   ],
   "source": [
    "#adding Age feature\n",
    "data['age_group'] = data['Age'].apply(age_group)\n",
    "display(data['age_group'].unique())"
   ]
  },
  {
   "cell_type": "markdown",
   "metadata": {},
   "source": [
    "## Model trainig"
   ]
  },
  {
   "cell_type": "markdown",
   "metadata": {},
   "source": [
    "### Features processing"
   ]
  },
  {
   "cell_type": "markdown",
   "metadata": {},
   "source": [
    "Applying one-hot encoding to non-numeric data. As we duplicated registration year with age, one should be deleted. We keep the age."
   ]
  },
  {
   "cell_type": "code",
   "execution_count": 41,
   "metadata": {
    "scrolled": true
   },
   "outputs": [
    {
     "data": {
      "text/html": [
       "<div>\n",
       "<style scoped>\n",
       "    .dataframe tbody tr th:only-of-type {\n",
       "        vertical-align: middle;\n",
       "    }\n",
       "\n",
       "    .dataframe tbody tr th {\n",
       "        vertical-align: top;\n",
       "    }\n",
       "\n",
       "    .dataframe thead th {\n",
       "        text-align: right;\n",
       "    }\n",
       "</style>\n",
       "<table border=\"1\" class=\"dataframe\">\n",
       "  <thead>\n",
       "    <tr style=\"text-align: right;\">\n",
       "      <th></th>\n",
       "      <th>Price</th>\n",
       "      <th>Power</th>\n",
       "      <th>Kilometer</th>\n",
       "      <th>Age</th>\n",
       "      <th>VehicleType_convertible</th>\n",
       "      <th>VehicleType_coupe</th>\n",
       "      <th>VehicleType_other</th>\n",
       "      <th>VehicleType_sedan</th>\n",
       "      <th>VehicleType_small</th>\n",
       "      <th>VehicleType_suv</th>\n",
       "      <th>...</th>\n",
       "      <th>PostalCode_95</th>\n",
       "      <th>PostalCode_96</th>\n",
       "      <th>PostalCode_97</th>\n",
       "      <th>PostalCode_98</th>\n",
       "      <th>PostalCode_99</th>\n",
       "      <th>age_group_antique</th>\n",
       "      <th>age_group_classic</th>\n",
       "      <th>age_group_medium</th>\n",
       "      <th>age_group_vintage</th>\n",
       "      <th>age_group_young</th>\n",
       "    </tr>\n",
       "  </thead>\n",
       "  <tbody>\n",
       "    <tr>\n",
       "      <th>0</th>\n",
       "      <td>480</td>\n",
       "      <td>90.0</td>\n",
       "      <td>150000</td>\n",
       "      <td>23</td>\n",
       "      <td>0</td>\n",
       "      <td>0</td>\n",
       "      <td>0</td>\n",
       "      <td>0</td>\n",
       "      <td>0</td>\n",
       "      <td>0</td>\n",
       "      <td>...</td>\n",
       "      <td>0</td>\n",
       "      <td>0</td>\n",
       "      <td>0</td>\n",
       "      <td>0</td>\n",
       "      <td>0</td>\n",
       "      <td>0</td>\n",
       "      <td>1</td>\n",
       "      <td>0</td>\n",
       "      <td>0</td>\n",
       "      <td>0</td>\n",
       "    </tr>\n",
       "    <tr>\n",
       "      <th>2</th>\n",
       "      <td>9800</td>\n",
       "      <td>163.0</td>\n",
       "      <td>125000</td>\n",
       "      <td>12</td>\n",
       "      <td>0</td>\n",
       "      <td>0</td>\n",
       "      <td>0</td>\n",
       "      <td>0</td>\n",
       "      <td>0</td>\n",
       "      <td>1</td>\n",
       "      <td>...</td>\n",
       "      <td>0</td>\n",
       "      <td>0</td>\n",
       "      <td>0</td>\n",
       "      <td>0</td>\n",
       "      <td>0</td>\n",
       "      <td>0</td>\n",
       "      <td>0</td>\n",
       "      <td>0</td>\n",
       "      <td>0</td>\n",
       "      <td>0</td>\n",
       "    </tr>\n",
       "    <tr>\n",
       "      <th>3</th>\n",
       "      <td>1500</td>\n",
       "      <td>75.0</td>\n",
       "      <td>150000</td>\n",
       "      <td>15</td>\n",
       "      <td>0</td>\n",
       "      <td>0</td>\n",
       "      <td>0</td>\n",
       "      <td>0</td>\n",
       "      <td>1</td>\n",
       "      <td>0</td>\n",
       "      <td>...</td>\n",
       "      <td>0</td>\n",
       "      <td>0</td>\n",
       "      <td>0</td>\n",
       "      <td>0</td>\n",
       "      <td>0</td>\n",
       "      <td>0</td>\n",
       "      <td>0</td>\n",
       "      <td>0</td>\n",
       "      <td>0</td>\n",
       "      <td>0</td>\n",
       "    </tr>\n",
       "    <tr>\n",
       "      <th>4</th>\n",
       "      <td>3600</td>\n",
       "      <td>69.0</td>\n",
       "      <td>90000</td>\n",
       "      <td>8</td>\n",
       "      <td>0</td>\n",
       "      <td>0</td>\n",
       "      <td>0</td>\n",
       "      <td>0</td>\n",
       "      <td>1</td>\n",
       "      <td>0</td>\n",
       "      <td>...</td>\n",
       "      <td>0</td>\n",
       "      <td>0</td>\n",
       "      <td>0</td>\n",
       "      <td>0</td>\n",
       "      <td>0</td>\n",
       "      <td>0</td>\n",
       "      <td>0</td>\n",
       "      <td>1</td>\n",
       "      <td>0</td>\n",
       "      <td>0</td>\n",
       "    </tr>\n",
       "    <tr>\n",
       "      <th>5</th>\n",
       "      <td>650</td>\n",
       "      <td>102.0</td>\n",
       "      <td>150000</td>\n",
       "      <td>21</td>\n",
       "      <td>0</td>\n",
       "      <td>0</td>\n",
       "      <td>0</td>\n",
       "      <td>1</td>\n",
       "      <td>0</td>\n",
       "      <td>0</td>\n",
       "      <td>...</td>\n",
       "      <td>0</td>\n",
       "      <td>0</td>\n",
       "      <td>0</td>\n",
       "      <td>0</td>\n",
       "      <td>0</td>\n",
       "      <td>0</td>\n",
       "      <td>0</td>\n",
       "      <td>0</td>\n",
       "      <td>1</td>\n",
       "      <td>0</td>\n",
       "    </tr>\n",
       "  </tbody>\n",
       "</table>\n",
       "<p>5 rows × 416 columns</p>\n",
       "</div>"
      ],
      "text/plain": [
       "   Price  Power  Kilometer  Age  VehicleType_convertible  VehicleType_coupe  \\\n",
       "0    480   90.0     150000   23                        0                  0   \n",
       "2   9800  163.0     125000   12                        0                  0   \n",
       "3   1500   75.0     150000   15                        0                  0   \n",
       "4   3600   69.0      90000    8                        0                  0   \n",
       "5    650  102.0     150000   21                        0                  0   \n",
       "\n",
       "   VehicleType_other  VehicleType_sedan  VehicleType_small  VehicleType_suv  \\\n",
       "0                  0                  0                  0                0   \n",
       "2                  0                  0                  0                1   \n",
       "3                  0                  0                  1                0   \n",
       "4                  0                  0                  1                0   \n",
       "5                  0                  1                  0                0   \n",
       "\n",
       "   ...  PostalCode_95  PostalCode_96  PostalCode_97  PostalCode_98  \\\n",
       "0  ...              0              0              0              0   \n",
       "2  ...              0              0              0              0   \n",
       "3  ...              0              0              0              0   \n",
       "4  ...              0              0              0              0   \n",
       "5  ...              0              0              0              0   \n",
       "\n",
       "   PostalCode_99  age_group_antique  age_group_classic  age_group_medium  \\\n",
       "0              0                  0                  1                 0   \n",
       "2              0                  0                  0                 0   \n",
       "3              0                  0                  0                 0   \n",
       "4              0                  0                  0                 1   \n",
       "5              0                  0                  0                 0   \n",
       "\n",
       "   age_group_vintage  age_group_young  \n",
       "0                  0                0  \n",
       "2                  0                0  \n",
       "3                  0                0  \n",
       "4                  0                0  \n",
       "5                  1                0  \n",
       "\n",
       "[5 rows x 416 columns]"
      ]
     },
     "metadata": {},
     "output_type": "display_data"
    },
    {
     "name": "stdout",
     "output_type": "stream",
     "text": [
      "Wall time: 983 ms\n"
     ]
    }
   ],
   "source": [
    "%%time\n",
    "#deleting useless timestamps\n",
    "data = data.drop(['DateCrawled','LastSeen','DateCreated','RegistrationYear'],axis=1)\n",
    "data_ohe = pd.get_dummies(data, drop_first=True)\n",
    "display(data_ohe.head())"
   ]
  },
  {
   "cell_type": "markdown",
   "metadata": {},
   "source": [
    "### Splitting data"
   ]
  },
  {
   "cell_type": "code",
   "execution_count": 42,
   "metadata": {},
   "outputs": [],
   "source": [
    "#splitting data into target and features\n",
    "target_ohe = data_ohe['Price']\n",
    "\n",
    "#removing target from features \n",
    "#as well as useless dates\n",
    "features_ohe = data_ohe.drop(['Price'],axis=1) \n",
    "features = data.drop(['Price'],axis=1)\n",
    "features_train_ohe, features_test_ohe, target_train_ohe, target_test_ohe = train_test_split(features_ohe,target_ohe,test_size=0.25,random_state=12345)\n"
   ]
  },
  {
   "cell_type": "code",
   "execution_count": 43,
   "metadata": {
    "scrolled": true
   },
   "outputs": [
    {
     "name": "stdout",
     "output_type": "stream",
     "text": [
      "(235332, 415)\n",
      "(78444, 415)\n",
      "(235332,)\n",
      "(78444,)\n"
     ]
    }
   ],
   "source": [
    "#checking subsets sizes\n",
    "print(features_train_ohe.shape)\n",
    "print(features_test_ohe.shape)\n",
    "print(target_train_ohe.shape)\n",
    "print(target_test_ohe.shape)"
   ]
  },
  {
   "cell_type": "markdown",
   "metadata": {},
   "source": [
    "### Models\n"
   ]
  },
  {
   "cell_type": "code",
   "execution_count": 44,
   "metadata": {},
   "outputs": [],
   "source": [
    "#accessory function for feature importance bar charts\n",
    "\n",
    "def importance_plot(model,start,stop): #model name, start and end numbers of features in descending order\n",
    "    #from feature_importances for model we make Series,where indexes = features names\n",
    "    model_importance = pd.Series(model.feature_importances_,index=features_train_ohe.columns) \n",
    "    #sor descending, slicing by start-stop numbers\n",
    "    model_imp = model_importance.sort_values(ascending=False)[start:stop]\n",
    "    fig, ax = plt.subplots(figsize=(12,10))\n",
    "    model_imp.plot.bar()\n",
    "    ax.set_title(\"Feature importances\")\n",
    "    fig.tight_layout()"
   ]
  },
  {
   "cell_type": "code",
   "execution_count": 45,
   "metadata": {},
   "outputs": [],
   "source": [
    "#accessory function for chosing certain amount of features in descending order of feature importance\n",
    "def importance_filter(model,num_features):\n",
    "    model_importance = pd.Series(model.feature_importances_,index=features_train_ohe.columns)\n",
    "    model_imp = model_importance.sort_values(ascending=False)[:num_features]\n",
    "    return model_imp.index"
   ]
  },
  {
   "cell_type": "markdown",
   "metadata": {},
   "source": [
    "#### Linear regression"
   ]
  },
  {
   "cell_type": "code",
   "execution_count": 46,
   "metadata": {
    "scrolled": true
   },
   "outputs": [
    {
     "name": "stdout",
     "output_type": "stream",
     "text": [
      "RMSE of cross-validation: [2311.43031018 2287.75045654 2295.98239455 2307.42763836 2300.82131614]\n",
      "worst RMSE of cross-validation: 2311.4303101832465\n",
      "Wall time: 20 s\n"
     ]
    }
   ],
   "source": [
    "%%time\n",
    "model1 = linear_model.LinearRegression()\n",
    "lin1_scores = (-cross_val_score(model1, features_train_ohe, target_train_ohe,scoring='neg_mean_squared_error', cv=5))**0.5\n",
    "rmse_lin1 = lin1_scores.max()\n",
    "print('RMSE of cross-validation:',lin1_scores)\n",
    "print('worst RMSE of cross-validation:',rmse_lin1)"
   ]
  },
  {
   "cell_type": "code",
   "execution_count": 47,
   "metadata": {},
   "outputs": [
    {
     "name": "stdout",
     "output_type": "stream",
     "text": [
      "Wall time: 4.55 s\n"
     ]
    },
    {
     "data": {
      "text/plain": [
       "LinearRegression()"
      ]
     },
     "execution_count": 47,
     "metadata": {},
     "output_type": "execute_result"
    }
   ],
   "source": [
    "%%time\n",
    "#training model \n",
    "model1.fit(features_train_ohe, target_train_ohe)"
   ]
  },
  {
   "cell_type": "code",
   "execution_count": 48,
   "metadata": {},
   "outputs": [
    {
     "name": "stdout",
     "output_type": "stream",
     "text": [
      "test RMSE: 2299.11765571419\n",
      "Wall time: 148 ms\n"
     ]
    }
   ],
   "source": [
    "%%time\n",
    "#getting predictions on test\n",
    "predictions1 = model1.predict(features_test_ohe)\n",
    "rmse_lin1_test = mean_squared_error(target_test_ohe,predictions1)**0.5\n",
    "print('test RMSE:',rmse_lin1_test)"
   ]
  },
  {
   "cell_type": "markdown",
   "metadata": {},
   "source": [
    "#### Decision tree"
   ]
  },
  {
   "cell_type": "code",
   "execution_count": 49,
   "metadata": {},
   "outputs": [
    {
     "name": "stdout",
     "output_type": "stream",
     "text": [
      "{'max_depth': 12}\n",
      "Wall time: 28.8 s\n"
     ]
    }
   ],
   "source": [
    "%%time \n",
    "#using GridSearchCV from sklearn we go over set of parameters\n",
    "\n",
    "parameters_tree = {\n",
    "    \n",
    "    'max_depth':[2,12],\n",
    "       \n",
    "}\n",
    "model2 = DecisionTreeRegressor(random_state=12345)\n",
    "gsearch_1 = GridSearchCV(model2,parameters_tree,scoring='neg_mean_squared_error',n_jobs=-1,cv=5)\n",
    "gsearch_1.fit(features_train_ohe,target_train_ohe)\n",
    "print(gsearch_1.best_params_)"
   ]
  },
  {
   "cell_type": "code",
   "execution_count": 50,
   "metadata": {},
   "outputs": [
    {
     "name": "stdout",
     "output_type": "stream",
     "text": [
      "RMSE of cross-validation: [2013.94453829 2019.75300977 1985.99827422 2018.94262111 2006.01526495]\n",
      "worst RMSE of cross-validation: 2019.7530097697625\n",
      "Wall time: 37.1 s\n"
     ]
    }
   ],
   "source": [
    "%%time\n",
    "tree2_scores = (-cross_val_score(gsearch_1.best_estimator_, features_train_ohe, target_train_ohe,scoring='neg_mean_squared_error', cv=5))**0.5\n",
    "rmse_tree2 = tree2_scores.max()\n",
    "print('RMSE of cross-validation:',tree2_scores)\n",
    "print('worst RMSE of cross-validation:',rmse_tree2)"
   ]
  },
  {
   "cell_type": "code",
   "execution_count": 51,
   "metadata": {},
   "outputs": [
    {
     "name": "stdout",
     "output_type": "stream",
     "text": [
      "Wall time: 9.16 s\n"
     ]
    },
    {
     "data": {
      "text/plain": [
       "DecisionTreeRegressor(max_depth=12, random_state=12345)"
      ]
     },
     "execution_count": 51,
     "metadata": {},
     "output_type": "execute_result"
    }
   ],
   "source": [
    "%%time\n",
    "#checking learning time on train \n",
    "\n",
    "model_tree_test = DecisionTreeRegressor(max_depth=12,random_state=12345)\n",
    "model_tree_test.fit(features_train_ohe,target_train_ohe)"
   ]
  },
  {
   "cell_type": "code",
   "execution_count": 52,
   "metadata": {},
   "outputs": [
    {
     "name": "stdout",
     "output_type": "stream",
     "text": [
      "RMSE on test: 1998.2441488356149\n",
      "Wall time: 218 ms\n"
     ]
    }
   ],
   "source": [
    "%%time\n",
    "#getting predictions of the best model on test\n",
    "predictions2 = gsearch_1.best_estimator_.predict(features_test_ohe)\n",
    "rmse_tree2_test = mean_squared_error(target_test_ohe,predictions2)**0.5\n",
    "print('RMSE on test:',rmse_tree2_test)"
   ]
  },
  {
   "cell_type": "code",
   "execution_count": 53,
   "metadata": {},
   "outputs": [
    {
     "data": {
      "image/png": "[encoded data removed]",
      "text/plain": [
       "<Figure size 864x720 with 1 Axes>"
      ]
     },
     "metadata": {
      "needs_background": "light"
     },
     "output_type": "display_data"
    }
   ],
   "source": [
    "#can we reduce learning time if we omit unimportant features\n",
    "\n",
    "importance_plot(gsearch_1.best_estimator_,0,50)"
   ]
  },
  {
   "cell_type": "code",
   "execution_count": 54,
   "metadata": {},
   "outputs": [
    {
     "name": "stdout",
     "output_type": "stream",
     "text": [
      "(235332, 45)\n"
     ]
    }
   ],
   "source": [
    "#making sorted features list of desired lenght\n",
    "filtered_features_tree = importance_filter(gsearch_1.best_estimator_,45) \n",
    "features_train_tree_imp = features_train_ohe[filtered_features_tree]\n",
    "print(features_train_tree_imp.shape)"
   ]
  },
  {
   "cell_type": "code",
   "execution_count": 55,
   "metadata": {},
   "outputs": [
    {
     "name": "stdout",
     "output_type": "stream",
     "text": [
      "RMSE of cross-validation: [2016.73063251 2012.59753722 1970.82867528 2010.84655406 2007.12554136]\n",
      "worst RMSE of cross-validation: 2016.7306325115223\n",
      "Wall time: 5.65 s\n"
     ]
    }
   ],
   "source": [
    "%%time\n",
    "model3 = DecisionTreeRegressor(max_depth = 12, random_state=12345)\n",
    "tree3_scores = (-cross_val_score(model3, features_train_tree_imp, target_train_ohe,scoring='neg_mean_squared_error', cv=5))**0.5\n",
    "rmse_tree3 = tree3_scores.max()\n",
    "print('RMSE of cross-validation:',tree3_scores)\n",
    "print('worst RMSE of cross-validation:',rmse_tree3)"
   ]
  },
  {
   "cell_type": "code",
   "execution_count": 56,
   "metadata": {},
   "outputs": [
    {
     "name": "stdout",
     "output_type": "stream",
     "text": [
      "RMSE on test: 1986.6936625825783\n",
      "Wall time: 1.33 s\n"
     ]
    }
   ],
   "source": [
    "%%time\n",
    "features_test_tree_imp = features_test_ohe[filtered_features_tree]\n",
    "model3.fit(features_train_tree_imp, target_train_ohe)\n",
    "predictions3 = model3.predict(features_test_tree_imp)\n",
    "rmse_tree3_test = mean_squared_error(target_test_ohe,predictions3)**0.5\n",
    "print('RMSE on test:',rmse_tree3_test)"
   ]
  },
  {
   "cell_type": "markdown",
   "metadata": {},
   "source": [
    "#### Gradient boosting"
   ]
  },
  {
   "cell_type": "code",
   "execution_count": 57,
   "metadata": {},
   "outputs": [
    {
     "name": "stdout",
     "output_type": "stream",
     "text": [
      "{'boosting_type': 'goss', 'max_depth': 40, 'num_leaves': 30}\n",
      "Wall time: 1min 39s\n"
     ]
    }
   ],
   "source": [
    "%%time\n",
    "model6 = LGBMRegressor(random_state = 12345)\n",
    "parameters_LGBMR = {\n",
    "    'boosting_type':('gbdt','dart','goss'),\n",
    "    'max_depth':[5,40],\n",
    "    'num_leaves':[5,30]  \n",
    "}\n",
    "gsearch_2 = GridSearchCV(model6,parameters_LGBMR,scoring='neg_mean_squared_error',n_jobs=-1,cv=5)\n",
    "gsearch_2.fit(features_train_ohe,target_train_ohe)\n",
    "print(gsearch_2.best_params_)"
   ]
  },
  {
   "cell_type": "code",
   "execution_count": 58,
   "metadata": {},
   "outputs": [
    {
     "name": "stdout",
     "output_type": "stream",
     "text": [
      "RMSE of the best model: 1748.2346292366985\n"
     ]
    }
   ],
   "source": [
    "rmse_lgbmr6 = (-gsearch_2.best_score_)**0.5\n",
    "print('RMSE of the best model:',rmse_lgbmr6)"
   ]
  },
  {
   "cell_type": "code",
   "execution_count": 59,
   "metadata": {},
   "outputs": [
    {
     "name": "stdout",
     "output_type": "stream",
     "text": [
      "RMSE on test: 1747.0392894065405\n",
      "Wall time: 518 ms\n"
     ]
    }
   ],
   "source": [
    "%%time\n",
    "#получение предсказаний на тестовой выборке\n",
    "predictions6 = gsearch_2.best_estimator_.predict(features_test_ohe)\n",
    "rmse_lgbmr6_test = mean_squared_error(target_test_ohe,predictions6)**0.5\n",
    "print('RMSE on test:',rmse_lgbmr6_test)"
   ]
  },
  {
   "cell_type": "code",
   "execution_count": 60,
   "metadata": {},
   "outputs": [
    {
     "name": "stdout",
     "output_type": "stream",
     "text": [
      "Wall time: 3.3 s\n"
     ]
    },
    {
     "data": {
      "text/plain": [
       "LGBMRegressor(boosting_type='goss', max_depth=40, num_leaves=30,\n",
       "              random_state=12345)"
      ]
     },
     "execution_count": 60,
     "metadata": {},
     "output_type": "execute_result"
    }
   ],
   "source": [
    "%%time\n",
    "#проверим время обучения модели с уже известными параметрами\n",
    "test_model = gsearch_2.best_estimator_\n",
    "test_model.fit(features_train_ohe,target_train_ohe)"
   ]
  },
  {
   "cell_type": "code",
   "execution_count": 61,
   "metadata": {},
   "outputs": [
    {
     "data": {
      "image/png": "[encoded data removed]",
      "text/plain": [
       "<Figure size 864x720 with 1 Axes>"
      ]
     },
     "metadata": {
      "needs_background": "light"
     },
     "output_type": "display_data"
    },
    {
     "data": {
      "image/png": "[encoded data removed]",
      "text/plain": [
       "<Figure size 864x720 with 1 Axes>"
      ]
     },
     "metadata": {
      "needs_background": "light"
     },
     "output_type": "display_data"
    },
    {
     "data": {
      "image/png": "[encoded data removed]",
      "text/plain": [
       "<Figure size 864x720 with 1 Axes>"
      ]
     },
     "metadata": {
      "needs_background": "light"
     },
     "output_type": "display_data"
    }
   ],
   "source": [
    "#попытаемся избавиться от лишних признаков, чтобы уменьшить время обучения и предсказания\n",
    "importance_plot(gsearch_2.best_estimator_,0,100)\n",
    "importance_plot(gsearch_2.best_estimator_,100,200)\n",
    "importance_plot(gsearch_2.best_estimator_,200,300)"
   ]
  },
  {
   "cell_type": "code",
   "execution_count": 62,
   "metadata": {},
   "outputs": [
    {
     "name": "stdout",
     "output_type": "stream",
     "text": [
      "(235332, 180)\n"
     ]
    }
   ],
   "source": [
    "#cоздаем отсортированный список фич нужной длины\n",
    "filtered_features_lgbmr = importance_filter(gsearch_2.best_estimator_,180) \n",
    "features_train_lgbmr_imp = features_train_ohe[filtered_features_lgbmr]\n",
    "print(features_train_lgbmr_imp.shape)"
   ]
  },
  {
   "cell_type": "code",
   "execution_count": 63,
   "metadata": {},
   "outputs": [
    {
     "name": "stdout",
     "output_type": "stream",
     "text": [
      "RMSE on cross-validation: [1758.15228591 1754.11020278 1722.30487258 1755.00614621 1758.63277954]\n",
      "worst RMSE on cross-validation: 1758.632779535748\n",
      "Wall time: 12.8 s\n"
     ]
    }
   ],
   "source": [
    "%%time\n",
    "model7 = LGBMRegressor(boosting_type='goss', max_depth = 40, num_leaves=30,random_state = 12345)\n",
    "lgbmr_scores = (-cross_val_score(model7, features_train_lgbmr_imp, target_train_ohe,scoring='neg_mean_squared_error', cv=5))**0.5\n",
    "rmse_lgbmr7 = lgbmr_scores.max()\n",
    "print('RMSE on cross-validation:',lgbmr_scores)\n",
    "print('worst RMSE on cross-validation:',rmse_lgbmr7)\n"
   ]
  },
  {
   "cell_type": "code",
   "execution_count": 64,
   "metadata": {},
   "outputs": [
    {
     "name": "stdout",
     "output_type": "stream",
     "text": [
      "Wall time: 2.42 s\n"
     ]
    },
    {
     "data": {
      "text/plain": [
       "LGBMRegressor(boosting_type='goss', max_depth=40, num_leaves=30,\n",
       "              random_state=12345)"
      ]
     },
     "execution_count": 64,
     "metadata": {},
     "output_type": "execute_result"
    }
   ],
   "source": [
    "%%time\n",
    "#training model\n",
    "features_test_lgbmr_imp = features_test_ohe[filtered_features_lgbmr]\n",
    "model7.fit(features_train_lgbmr_imp, target_train_ohe)\n"
   ]
  },
  {
   "cell_type": "code",
   "execution_count": 65,
   "metadata": {},
   "outputs": [
    {
     "name": "stdout",
     "output_type": "stream",
     "text": [
      "RMSE on test: 1748.6968805381819\n",
      "Wall time: 327 ms\n"
     ]
    }
   ],
   "source": [
    "%%time\n",
    "#getting predictions time\n",
    "predictions7 = model7.predict(features_test_lgbmr_imp)\n",
    "rmse_lgbmr7_test = mean_squared_error(target_test_ohe,predictions7)**0.5\n",
    "print('RMSE on test:',rmse_lgbmr7_test)"
   ]
  },
  {
   "cell_type": "markdown",
   "metadata": {},
   "source": [
    "\n",
    "#### Comparison with dummy models"
   ]
  },
  {
   "cell_type": "code",
   "execution_count": 66,
   "metadata": {},
   "outputs": [
    {
     "data": {
      "text/html": [
       "<div>\n",
       "<style scoped>\n",
       "    .dataframe tbody tr th:only-of-type {\n",
       "        vertical-align: middle;\n",
       "    }\n",
       "\n",
       "    .dataframe tbody tr th {\n",
       "        vertical-align: top;\n",
       "    }\n",
       "\n",
       "    .dataframe thead th {\n",
       "        text-align: right;\n",
       "    }\n",
       "</style>\n",
       "<table border=\"1\" class=\"dataframe\">\n",
       "  <thead>\n",
       "    <tr style=\"text-align: right;\">\n",
       "      <th></th>\n",
       "      <th></th>\n",
       "      <th></th>\n",
       "      <th>Price</th>\n",
       "    </tr>\n",
       "    <tr>\n",
       "      <th>Brand</th>\n",
       "      <th>Model</th>\n",
       "      <th>VehicleType</th>\n",
       "      <th></th>\n",
       "    </tr>\n",
       "  </thead>\n",
       "  <tbody>\n",
       "    <tr>\n",
       "      <th rowspan=\"5\" valign=\"top\">alfa_romeo</th>\n",
       "      <th rowspan=\"5\" valign=\"top\">145</th>\n",
       "      <th>coupe</th>\n",
       "      <td>600.0</td>\n",
       "    </tr>\n",
       "    <tr>\n",
       "      <th>other</th>\n",
       "      <td>500.0</td>\n",
       "    </tr>\n",
       "    <tr>\n",
       "      <th>sedan</th>\n",
       "      <td>880.0</td>\n",
       "    </tr>\n",
       "    <tr>\n",
       "      <th>small</th>\n",
       "      <td>600.0</td>\n",
       "    </tr>\n",
       "    <tr>\n",
       "      <th>unknown</th>\n",
       "      <td>100.0</td>\n",
       "    </tr>\n",
       "    <tr>\n",
       "      <th>...</th>\n",
       "      <th>...</th>\n",
       "      <th>...</th>\n",
       "      <td>...</td>\n",
       "    </tr>\n",
       "    <tr>\n",
       "      <th rowspan=\"5\" valign=\"top\">volvo</th>\n",
       "      <th>v70</th>\n",
       "      <th>wagon</th>\n",
       "      <td>2800.0</td>\n",
       "    </tr>\n",
       "    <tr>\n",
       "      <th rowspan=\"4\" valign=\"top\">xc_reihe</th>\n",
       "      <th>sedan</th>\n",
       "      <td>6500.0</td>\n",
       "    </tr>\n",
       "    <tr>\n",
       "      <th>suv</th>\n",
       "      <td>10825.0</td>\n",
       "    </tr>\n",
       "    <tr>\n",
       "      <th>unknown</th>\n",
       "      <td>0.0</td>\n",
       "    </tr>\n",
       "    <tr>\n",
       "      <th>wagon</th>\n",
       "      <td>10499.0</td>\n",
       "    </tr>\n",
       "  </tbody>\n",
       "</table>\n",
       "<p>1680 rows × 1 columns</p>\n",
       "</div>"
      ],
      "text/plain": [
       "                                   Price\n",
       "Brand      Model    VehicleType         \n",
       "alfa_romeo 145      coupe          600.0\n",
       "                    other          500.0\n",
       "                    sedan          880.0\n",
       "                    small          600.0\n",
       "                    unknown        100.0\n",
       "...                                  ...\n",
       "volvo      v70      wagon         2800.0\n",
       "           xc_reihe sedan         6500.0\n",
       "                    suv          10825.0\n",
       "                    unknown          0.0\n",
       "                    wagon        10499.0\n",
       "\n",
       "[1680 rows x 1 columns]"
      ]
     },
     "metadata": {},
     "output_type": "display_data"
    }
   ],
   "source": [
    "#compare model predictions with median prediction of brand/model/body type\n",
    "\n",
    "#using slightly modified function for power replacement\n",
    "prices = data.pivot_table(index=['Brand','Model','VehicleType'],values='Price',aggfunc='median')\n",
    "display(prices)"
   ]
  },
  {
   "cell_type": "code",
   "execution_count": 67,
   "metadata": {},
   "outputs": [],
   "source": [
    "def new_price(row):\n",
    "    price = row['Price'] \n",
    "    brand = row['Brand']\n",
    "    model = row['Model']\n",
    "    body = row['VehicleType']    \n",
    "    new_price = prices.loc[(brand, model, body)].iloc[0]\n",
    "    return new_price"
   ]
  },
  {
   "cell_type": "code",
   "execution_count": 68,
   "metadata": {
    "scrolled": true
   },
   "outputs": [
    {
     "name": "stdout",
     "output_type": "stream",
     "text": [
      "Wall time: 55 s\n"
     ]
    }
   ],
   "source": [
    "%%time\n",
    "data['NewPrice'] = data.apply(new_price,axis=1)"
   ]
  },
  {
   "cell_type": "code",
   "execution_count": 69,
   "metadata": {
    "scrolled": false
   },
   "outputs": [
    {
     "name": "stdout",
     "output_type": "stream",
     "text": [
      "<class 'pandas.core.frame.DataFrame'>\n",
      "Int64Index: 313776 entries, 0 to 354364\n",
      "Data columns (total 14 columns):\n",
      " #   Column             Non-Null Count   Dtype  \n",
      "---  ------             --------------   -----  \n",
      " 0   Price              313776 non-null  int64  \n",
      " 1   VehicleType        313776 non-null  object \n",
      " 2   Gearbox            313776 non-null  object \n",
      " 3   Power              313776 non-null  float64\n",
      " 4   Model              313776 non-null  object \n",
      " 5   Kilometer          313776 non-null  int64  \n",
      " 6   RegistrationMonth  313776 non-null  object \n",
      " 7   FuelType           313776 non-null  object \n",
      " 8   Brand              313776 non-null  object \n",
      " 9   NotRepaired        313776 non-null  object \n",
      " 10  PostalCode         313776 non-null  object \n",
      " 11  Age                313776 non-null  int64  \n",
      " 12  age_group          313776 non-null  object \n",
      " 13  NewPrice           313776 non-null  float64\n",
      "dtypes: float64(2), int64(3), object(9)\n",
      "memory usage: 35.9+ MB\n"
     ]
    }
   ],
   "source": [
    "#checking out\n",
    "data.info()"
   ]
  },
  {
   "cell_type": "code",
   "execution_count": 70,
   "metadata": {
    "scrolled": false
   },
   "outputs": [
    {
     "name": "stdout",
     "output_type": "stream",
     "text": [
      "RMSE of the \"model\": 3843.140923102329\n",
      "Wall time: 7.98 ms\n"
     ]
    }
   ],
   "source": [
    "%%time\n",
    "#RMSE of median model\n",
    "rmse_median = (mean_squared_error(data['Price'],data['NewPrice'])**0.5)\n",
    "print('RMSE of the \"model\":',rmse_median)"
   ]
  },
  {
   "cell_type": "markdown",
   "metadata": {},
   "source": [
    "## Models analysis"
   ]
  },
  {
   "cell_type": "markdown",
   "metadata": {},
   "source": [
    "Lets collect obtained models information."
   ]
  },
  {
   "cell_type": "code",
   "execution_count": 71,
   "metadata": {
    "scrolled": true
   },
   "outputs": [
    {
     "data": {
      "text/html": [
       "<div>\n",
       "<style scoped>\n",
       "    .dataframe tbody tr th:only-of-type {\n",
       "        vertical-align: middle;\n",
       "    }\n",
       "\n",
       "    .dataframe tbody tr th {\n",
       "        vertical-align: top;\n",
       "    }\n",
       "\n",
       "    .dataframe thead th {\n",
       "        text-align: right;\n",
       "    }\n",
       "</style>\n",
       "<table border=\"1\" class=\"dataframe\">\n",
       "  <thead>\n",
       "    <tr style=\"text-align: right;\">\n",
       "      <th></th>\n",
       "      <th>rmse</th>\n",
       "      <th>test rmse</th>\n",
       "      <th>learning time(train)</th>\n",
       "      <th>prediction time(test)</th>\n",
       "    </tr>\n",
       "  </thead>\n",
       "  <tbody>\n",
       "    <tr>\n",
       "      <th>linear</th>\n",
       "      <td>2311.430310</td>\n",
       "      <td>2299.117656</td>\n",
       "      <td>18.6 s</td>\n",
       "      <td>149 ms</td>\n",
       "    </tr>\n",
       "    <tr>\n",
       "      <th>decision tree</th>\n",
       "      <td>2019.753010</td>\n",
       "      <td>1998.244149</td>\n",
       "      <td>8.89 s</td>\n",
       "      <td>174 ms</td>\n",
       "    </tr>\n",
       "    <tr>\n",
       "      <th>LGBMRegressor</th>\n",
       "      <td>1748.234629</td>\n",
       "      <td>1747.039289</td>\n",
       "      <td>2.86 s</td>\n",
       "      <td>494 ms</td>\n",
       "    </tr>\n",
       "    <tr>\n",
       "      <th>median</th>\n",
       "      <td>3843.140923</td>\n",
       "      <td>3843.140923</td>\n",
       "      <td>1min 7s</td>\n",
       "      <td>4.99 ms</td>\n",
       "    </tr>\n",
       "  </tbody>\n",
       "</table>\n",
       "</div>"
      ],
      "text/plain": [
       "                      rmse    test rmse learning time(train)  \\\n",
       "linear         2311.430310  2299.117656               18.6 s   \n",
       "decision tree  2019.753010  1998.244149               8.89 s   \n",
       "LGBMRegressor  1748.234629  1747.039289               2.86 s   \n",
       "median         3843.140923  3843.140923              1min 7s   \n",
       "\n",
       "              prediction time(test)  \n",
       "linear                       149 ms  \n",
       "decision tree                174 ms  \n",
       "LGBMRegressor                494 ms  \n",
       "median                      4.99 ms  "
      ]
     },
     "metadata": {},
     "output_type": "display_data"
    }
   ],
   "source": [
    "model_datas = {\n",
    "    'rmse':[rmse_lin1,rmse_tree2,rmse_lgbmr6,rmse_median],\n",
    "    'test rmse':[rmse_lin1_test,rmse_tree2_test,rmse_lgbmr6_test,rmse_median],\n",
    "    'learning time(train)':['18.6 s','8.89 s','2.86 s','1min 7s'],\n",
    "    'prediction time(test)':['149 ms','174 ms','494 ms','4.99 ms']\n",
    "}\n",
    "models = ['linear','decision tree','LGBMRegressor','median']\n",
    "models_info = pd.DataFrame(model_datas,index=models)\n",
    "display(models_info)"
   ]
  },
  {
   "cell_type": "markdown",
   "metadata": {},
   "source": [
    "## Results"
   ]
  },
  {
   "cell_type": "markdown",
   "metadata": {},
   "source": [
    "- Data were uploaded and preprocessed\n",
    "    - duplicates were removed, data types were changed, where it is necessary\n",
    "    - missing and wrong data were treated\n",
    "    - some features were replaced for subsequent processing facilitation (postal codes)\n",
    "- Categorical features were processed by the one-hot encoding method\n",
    "- Data were splitted into train and test subsets in a 1 to 4 ratio\n",
    "- Linear regression, decision tree and gradient boosting models were trained\n",
    "    - RMSE metrics was used for quality estimation\n",
    "    - predictions time was not significantly differen among models \n",
    "    - best RMSE score was obtained for gradient boosting model and decision tree after that\n",
    "    - each trained model notably outperformed prediction by median value\n",
    "- As a result, gradient boosting model is ahead as most precise"
   ]
  }
 ],
 "metadata": {
  "ExecuteTimeLog": [
   {
    "duration": 1068,
    "start_time": "2021-09-30T19:26:38.061Z"
   },
   {
    "duration": 775,
    "start_time": "2021-09-30T19:26:39.131Z"
   },
   {
    "duration": 144,
    "start_time": "2021-09-30T19:26:39.907Z"
   },
   {
    "duration": 1052,
    "start_time": "2021-09-30T19:26:40.052Z"
   },
   {
    "duration": 1034,
    "start_time": "2021-09-30T19:26:41.106Z"
   },
   {
    "duration": 360,
    "start_time": "2021-09-30T19:26:42.142Z"
   },
   {
    "duration": 96,
    "start_time": "2021-09-30T19:26:42.504Z"
   },
   {
    "duration": 53,
    "start_time": "2021-09-30T19:26:42.603Z"
   },
   {
    "duration": 46,
    "start_time": "2021-09-30T19:26:42.658Z"
   },
   {
    "duration": 597,
    "start_time": "2021-09-30T19:26:42.706Z"
   },
   {
    "duration": 79,
    "start_time": "2021-09-30T19:26:43.305Z"
   },
   {
    "duration": 92,
    "start_time": "2021-09-30T19:26:43.386Z"
   },
   {
    "duration": 102,
    "start_time": "2021-09-30T19:26:43.479Z"
   },
   {
    "duration": 59,
    "start_time": "2021-09-30T19:26:43.582Z"
   },
   {
    "duration": 8,
    "start_time": "2021-09-30T19:26:43.642Z"
   },
   {
    "duration": 282,
    "start_time": "2021-09-30T19:26:43.652Z"
   },
   {
    "duration": 196,
    "start_time": "2021-09-30T19:26:43.935Z"
   },
   {
    "duration": 30,
    "start_time": "2021-09-30T19:26:44.133Z"
   },
   {
    "duration": 442,
    "start_time": "2021-09-30T19:26:44.166Z"
   },
   {
    "duration": 300,
    "start_time": "2021-09-30T19:26:44.610Z"
   },
   {
    "duration": 8,
    "start_time": "2021-09-30T19:26:44.912Z"
   },
   {
    "duration": 1160,
    "start_time": "2021-09-30T19:26:44.922Z"
   },
   {
    "duration": 186,
    "start_time": "2021-09-30T19:26:46.085Z"
   },
   {
    "duration": 4,
    "start_time": "2021-09-30T19:26:46.273Z"
   },
   {
    "duration": 18622,
    "start_time": "2021-09-30T19:26:46.278Z"
   },
   {
    "duration": 606,
    "start_time": "2021-09-30T19:27:04.902Z"
   },
   {
    "duration": 121,
    "start_time": "2021-09-30T19:27:05.510Z"
   },
   {
    "duration": 2328,
    "start_time": "2021-09-30T19:27:05.633Z"
   },
   {
    "duration": 13,
    "start_time": "2021-09-30T19:27:07.963Z"
   },
   {
    "duration": 76,
    "start_time": "2021-09-30T19:27:07.977Z"
   },
   {
    "duration": 6,
    "start_time": "2021-09-30T19:27:08.054Z"
   },
   {
    "duration": 152,
    "start_time": "2021-09-30T19:27:08.061Z"
   },
   {
    "duration": 65,
    "start_time": "2021-09-30T19:27:08.215Z"
   },
   {
    "duration": 160,
    "start_time": "2021-09-30T19:27:08.282Z"
   },
   {
    "duration": 3,
    "start_time": "2021-09-30T19:27:08.444Z"
   },
   {
    "duration": 1027,
    "start_time": "2021-09-30T19:27:08.448Z"
   },
   {
    "duration": 1207,
    "start_time": "2021-09-30T19:27:09.476Z"
   },
   {
    "duration": 129320,
    "start_time": "2021-09-30T19:27:10.685Z"
   },
   {
    "duration": 99,
    "start_time": "2021-09-30T19:29:20.007Z"
   },
   {
    "duration": 162670,
    "start_time": "2021-09-30T19:34:15.398Z"
   },
   {
    "duration": 167881,
    "start_time": "2021-09-30T19:37:51.925Z"
   },
   {
    "duration": 1146,
    "start_time": "2021-09-30T21:16:00.207Z"
   },
   {
    "duration": 873,
    "start_time": "2021-09-30T21:16:01.355Z"
   },
   {
    "duration": 158,
    "start_time": "2021-09-30T21:16:02.230Z"
   },
   {
    "duration": 1147,
    "start_time": "2021-09-30T21:16:02.390Z"
   },
   {
    "duration": 1049,
    "start_time": "2021-09-30T21:16:03.539Z"
   },
   {
    "duration": 378,
    "start_time": "2021-09-30T21:16:04.590Z"
   },
   {
    "duration": 132,
    "start_time": "2021-09-30T21:16:04.970Z"
   },
   {
    "duration": 80,
    "start_time": "2021-09-30T21:16:05.104Z"
   },
   {
    "duration": 52,
    "start_time": "2021-09-30T21:16:05.200Z"
   },
   {
    "duration": 766,
    "start_time": "2021-09-30T21:16:05.256Z"
   },
   {
    "duration": 111,
    "start_time": "2021-09-30T21:16:06.026Z"
   },
   {
    "duration": 96,
    "start_time": "2021-09-30T21:16:06.139Z"
   },
   {
    "duration": 113,
    "start_time": "2021-09-30T21:16:06.237Z"
   },
   {
    "duration": 64,
    "start_time": "2021-09-30T21:16:06.352Z"
   },
   {
    "duration": 11,
    "start_time": "2021-09-30T21:16:06.419Z"
   },
   {
    "duration": 322,
    "start_time": "2021-09-30T21:16:06.432Z"
   },
   {
    "duration": 194,
    "start_time": "2021-09-30T21:16:06.756Z"
   },
   {
    "duration": 37,
    "start_time": "2021-09-30T21:16:06.951Z"
   },
   {
    "duration": 480,
    "start_time": "2021-09-30T21:16:07.004Z"
   },
   {
    "duration": 340,
    "start_time": "2021-09-30T21:16:07.486Z"
   },
   {
    "duration": 9,
    "start_time": "2021-09-30T21:16:07.828Z"
   },
   {
    "duration": 1239,
    "start_time": "2021-09-30T21:16:07.839Z"
   },
   {
    "duration": 176,
    "start_time": "2021-09-30T21:16:09.080Z"
   },
   {
    "duration": 4,
    "start_time": "2021-09-30T21:16:09.258Z"
   },
   {
    "duration": 20615,
    "start_time": "2021-09-30T21:16:09.265Z"
   },
   {
    "duration": 768,
    "start_time": "2021-09-30T21:16:29.882Z"
   },
   {
    "duration": 197,
    "start_time": "2021-09-30T21:16:30.657Z"
   },
   {
    "duration": 2934,
    "start_time": "2021-09-30T21:16:30.857Z"
   },
   {
    "duration": 16,
    "start_time": "2021-09-30T21:16:33.799Z"
   },
   {
    "duration": 55,
    "start_time": "2021-09-30T21:16:33.817Z"
   },
   {
    "duration": 31,
    "start_time": "2021-09-30T21:16:33.873Z"
   },
   {
    "duration": 162,
    "start_time": "2021-09-30T21:16:33.905Z"
   },
   {
    "duration": 82,
    "start_time": "2021-09-30T21:16:34.069Z"
   },
   {
    "duration": 159,
    "start_time": "2021-09-30T21:16:34.153Z"
   },
   {
    "duration": 5,
    "start_time": "2021-09-30T21:16:34.314Z"
   },
   {
    "duration": 1096,
    "start_time": "2021-09-30T21:16:34.321Z"
   },
   {
    "duration": 1334,
    "start_time": "2021-09-30T21:16:35.420Z"
   },
   {
    "duration": 260170,
    "start_time": "2021-09-30T21:16:36.756Z"
   },
   {
    "duration": 305391,
    "start_time": "2021-09-30T21:20:56.929Z"
   },
   {
    "duration": 77,
    "start_time": "2021-09-30T21:26:02.327Z"
   },
   {
    "duration": 14,
    "start_time": "2021-09-30T21:26:02.405Z"
   },
   {
    "duration": 316,
    "start_time": "2021-09-30T21:26:02.421Z"
   },
   {
    "duration": 41146,
    "start_time": "2021-09-30T21:31:12.991Z"
   },
   {
    "duration": 2265,
    "start_time": "2021-09-30T21:38:02.672Z"
   },
   {
    "duration": 27,
    "start_time": "2021-09-30T22:08:17.314Z"
   },
   {
    "duration": 127,
    "start_time": "2021-09-30T22:15:31.896Z"
   },
   {
    "duration": 895294,
    "start_time": "2021-09-30T22:16:25.313Z"
   },
   {
    "duration": 196,
    "start_time": "2021-09-30T23:01:45.549Z"
   },
   {
    "duration": 10253,
    "start_time": "2021-09-30T23:02:16.549Z"
   },
   {
    "duration": 40207,
    "start_time": "2021-09-30T23:11:16.207Z"
   },
   {
    "duration": 46301,
    "start_time": "2021-09-30T23:11:56.416Z"
   },
   {
    "duration": 55748,
    "start_time": "2021-09-30T23:14:16.595Z"
   },
   {
    "duration": 79475,
    "start_time": "2021-09-30T23:15:44.530Z"
   },
   {
    "duration": 1083,
    "start_time": "2021-09-30T23:26:26.274Z"
   },
   {
    "duration": 1878,
    "start_time": "2021-09-30T23:26:27.359Z"
   },
   {
    "duration": 13,
    "start_time": "2021-09-30T23:26:29.239Z"
   },
   {
    "duration": 759,
    "start_time": "2021-09-30T23:26:29.254Z"
   },
   {
    "duration": 144,
    "start_time": "2021-09-30T23:26:30.015Z"
   },
   {
    "duration": 1089,
    "start_time": "2021-09-30T23:26:30.161Z"
   },
   {
    "duration": 1012,
    "start_time": "2021-09-30T23:26:31.251Z"
   },
   {
    "duration": 312,
    "start_time": "2021-09-30T23:26:32.265Z"
   },
   {
    "duration": 91,
    "start_time": "2021-09-30T23:26:32.580Z"
   },
   {
    "duration": 82,
    "start_time": "2021-09-30T23:26:32.672Z"
   },
   {
    "duration": 29,
    "start_time": "2021-09-30T23:26:32.756Z"
   },
   {
    "duration": 570,
    "start_time": "2021-09-30T23:26:32.787Z"
   },
   {
    "duration": 79,
    "start_time": "2021-09-30T23:26:33.359Z"
   },
   {
    "duration": 81,
    "start_time": "2021-09-30T23:26:33.439Z"
   },
   {
    "duration": 89,
    "start_time": "2021-09-30T23:26:33.522Z"
   },
   {
    "duration": 48,
    "start_time": "2021-09-30T23:26:33.613Z"
   },
   {
    "duration": 8,
    "start_time": "2021-09-30T23:26:33.663Z"
   },
   {
    "duration": 268,
    "start_time": "2021-09-30T23:26:33.672Z"
   },
   {
    "duration": 259,
    "start_time": "2021-09-30T23:26:33.941Z"
   },
   {
    "duration": 29,
    "start_time": "2021-09-30T23:26:34.202Z"
   },
   {
    "duration": 486,
    "start_time": "2021-09-30T23:26:34.233Z"
   },
   {
    "duration": 294,
    "start_time": "2021-09-30T23:26:34.721Z"
   },
   {
    "duration": 9,
    "start_time": "2021-09-30T23:26:35.019Z"
   },
   {
    "duration": 1191,
    "start_time": "2021-09-30T23:26:35.030Z"
   },
   {
    "duration": 178,
    "start_time": "2021-09-30T23:26:36.223Z"
   },
   {
    "duration": 3,
    "start_time": "2021-09-30T23:26:36.403Z"
   },
   {
    "duration": 18294,
    "start_time": "2021-09-30T23:26:36.407Z"
   },
   {
    "duration": 539,
    "start_time": "2021-09-30T23:26:54.702Z"
   },
   {
    "duration": 113,
    "start_time": "2021-09-30T23:26:55.243Z"
   },
   {
    "duration": 2400,
    "start_time": "2021-09-30T23:26:55.358Z"
   },
   {
    "duration": 45,
    "start_time": "2021-09-30T23:26:57.760Z"
   },
   {
    "duration": 58,
    "start_time": "2021-09-30T23:26:57.807Z"
   },
   {
    "duration": 6,
    "start_time": "2021-09-30T23:26:57.867Z"
   },
   {
    "duration": 187,
    "start_time": "2021-09-30T23:26:57.875Z"
   },
   {
    "duration": 107,
    "start_time": "2021-09-30T23:26:58.064Z"
   },
   {
    "duration": 144,
    "start_time": "2021-09-30T23:26:58.173Z"
   },
   {
    "duration": 4,
    "start_time": "2021-09-30T23:26:58.319Z"
   },
   {
    "duration": 1041,
    "start_time": "2021-09-30T23:26:58.326Z"
   },
   {
    "duration": 1572,
    "start_time": "2021-09-30T23:26:59.369Z"
   },
   {
    "duration": 126765,
    "start_time": "2021-09-30T23:27:00.942Z"
   },
   {
    "duration": 93,
    "start_time": "2021-09-30T23:29:07.709Z"
   },
   {
    "duration": 1061,
    "start_time": "2021-09-30T23:47:02.844Z"
   },
   {
    "duration": 1880,
    "start_time": "2021-09-30T23:47:03.907Z"
   },
   {
    "duration": 13,
    "start_time": "2021-09-30T23:47:05.789Z"
   },
   {
    "duration": 760,
    "start_time": "2021-09-30T23:47:05.804Z"
   },
   {
    "duration": 142,
    "start_time": "2021-09-30T23:47:06.565Z"
   },
   {
    "duration": 1001,
    "start_time": "2021-09-30T23:47:06.709Z"
   },
   {
    "duration": 1000,
    "start_time": "2021-09-30T23:47:07.712Z"
   },
   {
    "duration": 319,
    "start_time": "2021-09-30T23:47:08.715Z"
   },
   {
    "duration": 91,
    "start_time": "2021-09-30T23:47:09.036Z"
   },
   {
    "duration": 73,
    "start_time": "2021-09-30T23:47:09.129Z"
   },
   {
    "duration": 28,
    "start_time": "2021-09-30T23:47:09.203Z"
   },
   {
    "duration": 626,
    "start_time": "2021-09-30T23:47:09.233Z"
   },
   {
    "duration": 86,
    "start_time": "2021-09-30T23:47:09.861Z"
   },
   {
    "duration": 88,
    "start_time": "2021-09-30T23:47:09.949Z"
   },
   {
    "duration": 97,
    "start_time": "2021-09-30T23:47:10.038Z"
   },
   {
    "duration": 47,
    "start_time": "2021-09-30T23:47:10.136Z"
   },
   {
    "duration": 20,
    "start_time": "2021-09-30T23:47:10.185Z"
   },
   {
    "duration": 256,
    "start_time": "2021-09-30T23:47:10.207Z"
   },
   {
    "duration": 187,
    "start_time": "2021-09-30T23:47:10.465Z"
   },
   {
    "duration": 30,
    "start_time": "2021-09-30T23:47:10.653Z"
   },
   {
    "duration": 471,
    "start_time": "2021-09-30T23:47:10.685Z"
   },
   {
    "duration": 304,
    "start_time": "2021-09-30T23:47:11.158Z"
   },
   {
    "duration": 8,
    "start_time": "2021-09-30T23:47:11.466Z"
   },
   {
    "duration": 1164,
    "start_time": "2021-09-30T23:47:11.476Z"
   },
   {
    "duration": 185,
    "start_time": "2021-09-30T23:47:12.641Z"
   },
   {
    "duration": 5,
    "start_time": "2021-09-30T23:47:12.828Z"
   },
   {
    "duration": 18510,
    "start_time": "2021-09-30T23:47:12.835Z"
   },
   {
    "duration": 547,
    "start_time": "2021-09-30T23:47:31.348Z"
   },
   {
    "duration": 118,
    "start_time": "2021-09-30T23:47:31.897Z"
   },
   {
    "duration": 2234,
    "start_time": "2021-09-30T23:47:32.018Z"
   },
   {
    "duration": 14,
    "start_time": "2021-09-30T23:47:34.254Z"
   },
   {
    "duration": 78,
    "start_time": "2021-09-30T23:47:34.270Z"
   },
   {
    "duration": 8,
    "start_time": "2021-09-30T23:47:34.350Z"
   },
   {
    "duration": 173,
    "start_time": "2021-09-30T23:47:34.360Z"
   },
   {
    "duration": 112,
    "start_time": "2021-09-30T23:47:34.534Z"
   },
   {
    "duration": 157,
    "start_time": "2021-09-30T23:47:34.648Z"
   },
   {
    "duration": 4,
    "start_time": "2021-09-30T23:47:34.807Z"
   },
   {
    "duration": 1060,
    "start_time": "2021-09-30T23:47:34.813Z"
   },
   {
    "duration": 1554,
    "start_time": "2021-09-30T23:47:35.875Z"
   },
   {
    "duration": 126177,
    "start_time": "2021-09-30T23:47:37.430Z"
   },
   {
    "duration": 93,
    "start_time": "2021-09-30T23:49:43.609Z"
   },
   {
    "duration": 1138,
    "start_time": "2021-10-01T00:02:14.576Z"
   },
   {
    "duration": 2023,
    "start_time": "2021-10-01T00:02:15.716Z"
   },
   {
    "duration": 12,
    "start_time": "2021-10-01T00:02:17.742Z"
   },
   {
    "duration": 760,
    "start_time": "2021-10-01T00:02:17.757Z"
   },
   {
    "duration": 148,
    "start_time": "2021-10-01T00:02:18.519Z"
   },
   {
    "duration": 1022,
    "start_time": "2021-10-01T00:02:18.670Z"
   },
   {
    "duration": 1014,
    "start_time": "2021-10-01T00:02:19.694Z"
   },
   {
    "duration": 324,
    "start_time": "2021-10-01T00:02:20.711Z"
   },
   {
    "duration": 95,
    "start_time": "2021-10-01T00:02:21.038Z"
   },
   {
    "duration": 88,
    "start_time": "2021-10-01T00:02:21.135Z"
   },
   {
    "duration": 31,
    "start_time": "2021-10-01T00:02:21.225Z"
   },
   {
    "duration": 628,
    "start_time": "2021-10-01T00:02:21.258Z"
   },
   {
    "duration": 82,
    "start_time": "2021-10-01T00:02:21.888Z"
   },
   {
    "duration": 91,
    "start_time": "2021-10-01T00:02:21.971Z"
   },
   {
    "duration": 102,
    "start_time": "2021-10-01T00:02:22.064Z"
   },
   {
    "duration": 56,
    "start_time": "2021-10-01T00:02:22.168Z"
   },
   {
    "duration": 9,
    "start_time": "2021-10-01T00:02:22.226Z"
   },
   {
    "duration": 256,
    "start_time": "2021-10-01T00:02:22.237Z"
   },
   {
    "duration": 183,
    "start_time": "2021-10-01T00:02:22.495Z"
   },
   {
    "duration": 42,
    "start_time": "2021-10-01T00:02:22.680Z"
   },
   {
    "duration": 474,
    "start_time": "2021-10-01T00:02:22.724Z"
   },
   {
    "duration": 294,
    "start_time": "2021-10-01T00:02:23.200Z"
   },
   {
    "duration": 9,
    "start_time": "2021-10-01T00:02:23.502Z"
   },
   {
    "duration": 1152,
    "start_time": "2021-10-01T00:02:23.513Z"
   },
   {
    "duration": 188,
    "start_time": "2021-10-01T00:02:24.667Z"
   },
   {
    "duration": 4,
    "start_time": "2021-10-01T00:02:24.857Z"
   },
   {
    "duration": 18430,
    "start_time": "2021-10-01T00:02:24.863Z"
   },
   {
    "duration": 546,
    "start_time": "2021-10-01T00:02:43.299Z"
   },
   {
    "duration": 116,
    "start_time": "2021-10-01T00:02:43.848Z"
   },
   {
    "duration": 2363,
    "start_time": "2021-10-01T00:02:43.966Z"
   },
   {
    "duration": 13,
    "start_time": "2021-10-01T00:02:46.330Z"
   },
   {
    "duration": 72,
    "start_time": "2021-10-01T00:02:46.344Z"
   },
   {
    "duration": 6,
    "start_time": "2021-10-01T00:02:46.418Z"
   },
   {
    "duration": 173,
    "start_time": "2021-10-01T00:02:46.426Z"
   },
   {
    "duration": 114,
    "start_time": "2021-10-01T00:02:46.601Z"
   },
   {
    "duration": 152,
    "start_time": "2021-10-01T00:02:46.717Z"
   },
   {
    "duration": 4,
    "start_time": "2021-10-01T00:02:46.870Z"
   },
   {
    "duration": 982,
    "start_time": "2021-10-01T00:02:46.875Z"
   },
   {
    "duration": 1519,
    "start_time": "2021-10-01T00:02:47.858Z"
   },
   {
    "duration": 125327,
    "start_time": "2021-10-01T00:02:49.379Z"
   },
   {
    "duration": 93,
    "start_time": "2021-10-01T00:04:54.708Z"
   },
   {
    "duration": 54813,
    "start_time": "2021-10-01T00:04:54.804Z"
   },
   {
    "duration": 36515,
    "start_time": "2021-10-01T00:05:49.618Z"
   },
   {
    "duration": 48090,
    "start_time": "2021-10-01T00:06:26.135Z"
   },
   {
    "duration": 546,
    "start_time": "2021-10-01T00:07:14.226Z"
   },
   {
    "duration": 39741,
    "start_time": "2021-10-01T00:07:14.775Z"
   },
   {
    "duration": 45898,
    "start_time": "2021-10-01T00:07:54.517Z"
   },
   {
    "duration": 4,
    "start_time": "2021-10-01T00:08:40.417Z"
   },
   {
    "duration": 1150,
    "start_time": "2021-10-01T09:27:48.842Z"
   },
   {
    "duration": 2470,
    "start_time": "2021-10-01T09:27:49.994Z"
   },
   {
    "duration": 14,
    "start_time": "2021-10-01T09:27:52.467Z"
   },
   {
    "duration": 855,
    "start_time": "2021-10-01T09:27:52.483Z"
   },
   {
    "duration": 140,
    "start_time": "2021-10-01T09:27:53.339Z"
   },
   {
    "duration": 1176,
    "start_time": "2021-10-01T09:27:53.481Z"
   },
   {
    "duration": 1034,
    "start_time": "2021-10-01T09:27:54.658Z"
   },
   {
    "duration": 330,
    "start_time": "2021-10-01T09:27:55.694Z"
   },
   {
    "duration": 102,
    "start_time": "2021-10-01T09:27:56.026Z"
   },
   {
    "duration": 70,
    "start_time": "2021-10-01T09:27:56.130Z"
   },
   {
    "duration": 30,
    "start_time": "2021-10-01T09:27:56.202Z"
   },
   {
    "duration": 700,
    "start_time": "2021-10-01T09:27:56.234Z"
   },
   {
    "duration": 91,
    "start_time": "2021-10-01T09:27:56.936Z"
   },
   {
    "duration": 88,
    "start_time": "2021-10-01T09:27:57.029Z"
   },
   {
    "duration": 110,
    "start_time": "2021-10-01T09:27:57.119Z"
   },
   {
    "duration": 60,
    "start_time": "2021-10-01T09:27:57.230Z"
   },
   {
    "duration": 7,
    "start_time": "2021-10-01T09:27:57.292Z"
   },
   {
    "duration": 243,
    "start_time": "2021-10-01T09:27:57.301Z"
   },
   {
    "duration": 210,
    "start_time": "2021-10-01T09:27:57.545Z"
   },
   {
    "duration": 32,
    "start_time": "2021-10-01T09:27:57.757Z"
   },
   {
    "duration": 603,
    "start_time": "2021-10-01T09:27:57.791Z"
   },
   {
    "duration": 296,
    "start_time": "2021-10-01T09:27:58.396Z"
   },
   {
    "duration": 9,
    "start_time": "2021-10-01T09:27:58.696Z"
   },
   {
    "duration": 1121,
    "start_time": "2021-10-01T09:27:58.707Z"
   },
   {
    "duration": 189,
    "start_time": "2021-10-01T09:27:59.830Z"
   },
   {
    "duration": 3,
    "start_time": "2021-10-01T09:28:00.021Z"
   },
   {
    "duration": 18789,
    "start_time": "2021-10-01T09:28:00.026Z"
   },
   {
    "duration": 507,
    "start_time": "2021-10-01T09:28:18.816Z"
   },
   {
    "duration": 115,
    "start_time": "2021-10-01T09:28:19.325Z"
   },
   {
    "duration": 2540,
    "start_time": "2021-10-01T09:28:19.442Z"
   },
   {
    "duration": 13,
    "start_time": "2021-10-01T09:28:21.984Z"
   },
   {
    "duration": 74,
    "start_time": "2021-10-01T09:28:21.999Z"
   },
   {
    "duration": 6,
    "start_time": "2021-10-01T09:28:22.075Z"
   },
   {
    "duration": 168,
    "start_time": "2021-10-01T09:28:22.083Z"
   },
   {
    "duration": 116,
    "start_time": "2021-10-01T09:28:22.253Z"
   },
   {
    "duration": 179,
    "start_time": "2021-10-01T09:28:22.371Z"
   },
   {
    "duration": 3,
    "start_time": "2021-10-01T09:28:22.551Z"
   },
   {
    "duration": 1259,
    "start_time": "2021-10-01T09:28:22.556Z"
   },
   {
    "duration": 1573,
    "start_time": "2021-10-01T09:28:23.817Z"
   },
   {
    "duration": 141464,
    "start_time": "2021-10-01T09:28:25.391Z"
   },
   {
    "duration": 93,
    "start_time": "2021-10-01T09:30:46.858Z"
   },
   {
    "duration": 64241,
    "start_time": "2021-10-01T09:30:46.953Z"
   },
   {
    "duration": 43800,
    "start_time": "2021-10-01T09:31:51.196Z"
   },
   {
    "duration": 56367,
    "start_time": "2021-10-01T09:32:34.998Z"
   },
   {
    "duration": 534,
    "start_time": "2021-10-01T09:33:31.449Z"
   },
   {
    "duration": 38681,
    "start_time": "2021-10-01T09:33:31.985Z"
   },
   {
    "duration": 43996,
    "start_time": "2021-10-01T09:34:10.668Z"
   },
   {
    "duration": 86,
    "start_time": "2021-10-01T09:34:54.666Z"
   },
   {
    "duration": 150421,
    "start_time": "2021-10-01T09:39:35.933Z"
   },
   {
    "duration": 735653,
    "start_time": "2021-10-01T09:52:06.188Z"
   },
   {
    "duration": 1619719,
    "start_time": "2021-10-01T10:12:12.137Z"
   },
   {
    "duration": 4,
    "start_time": "2021-10-01T10:49:12.137Z"
   },
   {
    "duration": 4,
    "start_time": "2021-10-01T13:06:18.684Z"
   },
   {
    "duration": 212,
    "start_time": "2021-10-01T13:23:41.024Z"
   },
   {
    "duration": 122,
    "start_time": "2021-10-01T13:23:52.795Z"
   },
   {
    "duration": 4,
    "start_time": "2021-10-01T13:25:07.447Z"
   },
   {
    "duration": 66430,
    "start_time": "2021-10-01T13:27:12.640Z"
   },
   {
    "duration": 142,
    "start_time": "2021-10-01T13:32:28.154Z"
   },
   {
    "duration": 256,
    "start_time": "2021-10-01T13:40:07.540Z"
   },
   {
    "duration": 244,
    "start_time": "2021-10-01T13:40:42.666Z"
   },
   {
    "duration": 6,
    "start_time": "2021-10-01T13:41:00.951Z"
   },
   {
    "duration": 268,
    "start_time": "2021-10-01T13:46:59.150Z"
   },
   {
    "duration": 151,
    "start_time": "2021-10-01T13:47:19.060Z"
   },
   {
    "duration": 154,
    "start_time": "2021-10-01T13:47:31.663Z"
   },
   {
    "duration": 146,
    "start_time": "2021-10-01T13:48:29.594Z"
   },
   {
    "duration": 121,
    "start_time": "2021-10-01T13:50:19.997Z"
   },
   {
    "duration": 140394,
    "start_time": "2021-10-01T13:53:47.659Z"
   },
   {
    "duration": 3,
    "start_time": "2021-10-01T13:58:57.733Z"
   },
   {
    "duration": 456,
    "start_time": "2021-10-01T14:03:17.464Z"
   },
   {
    "duration": 239,
    "start_time": "2021-10-01T14:03:25.931Z"
   },
   {
    "duration": 286,
    "start_time": "2021-10-01T14:03:52.702Z"
   },
   {
    "duration": 79,
    "start_time": "2021-10-01T14:05:04.895Z"
   },
   {
    "duration": 260,
    "start_time": "2021-10-01T14:05:08.075Z"
   },
   {
    "duration": 1630,
    "start_time": "2021-10-01T19:35:45.646Z"
   },
   {
    "duration": 2645,
    "start_time": "2021-10-01T19:35:47.278Z"
   },
   {
    "duration": 18,
    "start_time": "2021-10-01T19:35:49.927Z"
   },
   {
    "duration": 1057,
    "start_time": "2021-10-01T19:35:49.947Z"
   },
   {
    "duration": 230,
    "start_time": "2021-10-01T19:35:51.006Z"
   },
   {
    "duration": 1477,
    "start_time": "2021-10-01T19:35:51.244Z"
   },
   {
    "duration": 1257,
    "start_time": "2021-10-01T19:35:52.723Z"
   },
   {
    "duration": 430,
    "start_time": "2021-10-01T19:35:53.982Z"
   },
   {
    "duration": 159,
    "start_time": "2021-10-01T19:35:54.416Z"
   },
   {
    "duration": 73,
    "start_time": "2021-10-01T19:35:54.578Z"
   },
   {
    "duration": 25,
    "start_time": "2021-10-01T19:35:54.653Z"
   },
   {
    "duration": 960,
    "start_time": "2021-10-01T19:35:54.680Z"
   },
   {
    "duration": 111,
    "start_time": "2021-10-01T19:35:55.645Z"
   },
   {
    "duration": 139,
    "start_time": "2021-10-01T19:35:55.759Z"
   },
   {
    "duration": 128,
    "start_time": "2021-10-01T19:35:55.900Z"
   },
   {
    "duration": 68,
    "start_time": "2021-10-01T19:35:56.030Z"
   },
   {
    "duration": 10,
    "start_time": "2021-10-01T19:35:56.100Z"
   },
   {
    "duration": 450,
    "start_time": "2021-10-01T19:35:56.112Z"
   },
   {
    "duration": 193,
    "start_time": "2021-10-01T19:35:56.564Z"
   },
   {
    "duration": 41,
    "start_time": "2021-10-01T19:35:56.760Z"
   },
   {
    "duration": 729,
    "start_time": "2021-10-01T19:35:56.804Z"
   },
   {
    "duration": 474,
    "start_time": "2021-10-01T19:35:57.536Z"
   },
   {
    "duration": 9,
    "start_time": "2021-10-01T19:35:58.013Z"
   },
   {
    "duration": 1024,
    "start_time": "2021-10-01T19:35:58.025Z"
   },
   {
    "duration": 153,
    "start_time": "2021-10-01T19:35:59.050Z"
   },
   {
    "duration": 4,
    "start_time": "2021-10-01T19:35:59.204Z"
   },
   {
    "duration": 17414,
    "start_time": "2021-10-01T19:35:59.212Z"
   },
   {
    "duration": 531,
    "start_time": "2021-10-01T19:36:16.628Z"
   },
   {
    "duration": 112,
    "start_time": "2021-10-01T19:36:17.160Z"
   },
   {
    "duration": 2079,
    "start_time": "2021-10-01T19:36:17.274Z"
   },
   {
    "duration": 12,
    "start_time": "2021-10-01T19:36:19.355Z"
   },
   {
    "duration": 45,
    "start_time": "2021-10-01T19:36:19.368Z"
   },
   {
    "duration": 6,
    "start_time": "2021-10-01T19:36:19.414Z"
   },
   {
    "duration": 172,
    "start_time": "2021-10-01T19:36:19.421Z"
   },
   {
    "duration": 86,
    "start_time": "2021-10-01T19:36:19.594Z"
   },
   {
    "duration": 123,
    "start_time": "2021-10-01T19:36:19.682Z"
   },
   {
    "duration": 961,
    "start_time": "2021-10-01T19:36:19.807Z"
   },
   {
    "duration": 1135,
    "start_time": "2021-10-01T19:36:20.770Z"
   },
   {
    "duration": 126940,
    "start_time": "2021-10-01T19:36:21.907Z"
   },
   {
    "duration": 341,
    "start_time": "2021-10-01T19:38:28.849Z"
   },
   {
    "duration": -100,
    "start_time": "2021-10-01T19:38:29.292Z"
   },
   {
    "duration": -103,
    "start_time": "2021-10-01T19:38:29.296Z"
   },
   {
    "duration": -106,
    "start_time": "2021-10-01T19:38:29.300Z"
   },
   {
    "duration": -109,
    "start_time": "2021-10-01T19:38:29.304Z"
   },
   {
    "duration": -111,
    "start_time": "2021-10-01T19:38:29.307Z"
   },
   {
    "duration": -128,
    "start_time": "2021-10-01T19:38:29.325Z"
   },
   {
    "duration": -144,
    "start_time": "2021-10-01T19:38:29.342Z"
   },
   {
    "duration": -147,
    "start_time": "2021-10-01T19:38:29.346Z"
   },
   {
    "duration": -149,
    "start_time": "2021-10-01T19:38:29.349Z"
   },
   {
    "duration": -151,
    "start_time": "2021-10-01T19:38:29.352Z"
   },
   {
    "duration": -153,
    "start_time": "2021-10-01T19:38:29.355Z"
   },
   {
    "duration": -154,
    "start_time": "2021-10-01T19:38:29.358Z"
   },
   {
    "duration": -159,
    "start_time": "2021-10-01T19:38:29.364Z"
   },
   {
    "duration": -165,
    "start_time": "2021-10-01T19:38:29.372Z"
   },
   {
    "duration": 272,
    "start_time": "2021-10-01T19:40:17.802Z"
   },
   {
    "duration": -187,
    "start_time": "2021-10-01T19:40:18.264Z"
   },
   {
    "duration": -192,
    "start_time": "2021-10-01T19:40:18.270Z"
   },
   {
    "duration": -197,
    "start_time": "2021-10-01T19:40:18.276Z"
   },
   {
    "duration": -206,
    "start_time": "2021-10-01T19:40:18.286Z"
   },
   {
    "duration": -212,
    "start_time": "2021-10-01T19:40:18.293Z"
   },
   {
    "duration": -217,
    "start_time": "2021-10-01T19:40:18.299Z"
   },
   {
    "duration": -227,
    "start_time": "2021-10-01T19:40:18.310Z"
   },
   {
    "duration": -236,
    "start_time": "2021-10-01T19:40:18.320Z"
   },
   {
    "duration": -243,
    "start_time": "2021-10-01T19:40:18.328Z"
   },
   {
    "duration": -249,
    "start_time": "2021-10-01T19:40:18.335Z"
   },
   {
    "duration": -253,
    "start_time": "2021-10-01T19:40:18.340Z"
   },
   {
    "duration": -257,
    "start_time": "2021-10-01T19:40:18.344Z"
   },
   {
    "duration": -261,
    "start_time": "2021-10-01T19:40:18.349Z"
   },
   {
    "duration": -263,
    "start_time": "2021-10-01T19:40:18.353Z"
   },
   {
    "duration": 4,
    "start_time": "2021-10-01T19:40:27.896Z"
   },
   {
    "duration": 54221,
    "start_time": "2021-10-01T19:40:27.903Z"
   },
   {
    "duration": 36770,
    "start_time": "2021-10-01T19:41:22.127Z"
   },
   {
    "duration": 168352,
    "start_time": "2021-10-01T19:41:58.899Z"
   },
   {
    "duration": 46196,
    "start_time": "2021-10-01T19:44:47.253Z"
   },
   {
    "duration": 37806,
    "start_time": "2021-10-01T19:45:33.451Z"
   },
   {
    "duration": 43201,
    "start_time": "2021-10-01T19:46:11.259Z"
   },
   {
    "duration": 562892,
    "start_time": "2021-10-01T19:46:54.462Z"
   },
   {
    "duration": 3,
    "start_time": "2021-10-01T19:56:17.356Z"
   },
   {
    "duration": 107,
    "start_time": "2021-10-01T19:56:17.445Z"
   },
   {
    "duration": 3,
    "start_time": "2021-10-01T19:56:17.554Z"
   },
   {
    "duration": 62000,
    "start_time": "2021-10-01T19:56:17.558Z"
   },
   {
    "duration": 105,
    "start_time": "2021-10-01T19:57:19.560Z"
   },
   {
    "duration": 5,
    "start_time": "2021-10-01T19:57:19.667Z"
   },
   {
    "duration": 1262,
    "start_time": "2021-10-02T21:06:59.808Z"
   },
   {
    "duration": 3127,
    "start_time": "2021-10-02T21:07:01.072Z"
   },
   {
    "duration": 16,
    "start_time": "2021-10-02T21:07:04.202Z"
   },
   {
    "duration": 830,
    "start_time": "2021-10-02T21:07:04.220Z"
   },
   {
    "duration": 148,
    "start_time": "2021-10-02T21:07:05.052Z"
   },
   {
    "duration": 1109,
    "start_time": "2021-10-02T21:07:05.202Z"
   },
   {
    "duration": 1119,
    "start_time": "2021-10-02T21:07:06.312Z"
   },
   {
    "duration": 356,
    "start_time": "2021-10-02T21:07:07.433Z"
   },
   {
    "duration": 104,
    "start_time": "2021-10-02T21:07:07.793Z"
   },
   {
    "duration": 80,
    "start_time": "2021-10-02T21:07:07.900Z"
   },
   {
    "duration": 34,
    "start_time": "2021-10-02T21:07:07.982Z"
   },
   {
    "duration": 745,
    "start_time": "2021-10-02T21:07:08.019Z"
   },
   {
    "duration": 102,
    "start_time": "2021-10-02T21:07:08.767Z"
   },
   {
    "duration": 91,
    "start_time": "2021-10-02T21:07:08.871Z"
   },
   {
    "duration": 112,
    "start_time": "2021-10-02T21:07:08.965Z"
   },
   {
    "duration": 55,
    "start_time": "2021-10-02T21:07:09.078Z"
   },
   {
    "duration": 22,
    "start_time": "2021-10-02T21:07:09.134Z"
   },
   {
    "duration": 254,
    "start_time": "2021-10-02T21:07:09.158Z"
   },
   {
    "duration": 230,
    "start_time": "2021-10-02T21:07:09.414Z"
   },
   {
    "duration": 33,
    "start_time": "2021-10-02T21:07:09.649Z"
   },
   {
    "duration": 467,
    "start_time": "2021-10-02T21:07:09.684Z"
   },
   {
    "duration": 296,
    "start_time": "2021-10-02T21:07:10.153Z"
   },
   {
    "duration": 9,
    "start_time": "2021-10-02T21:07:10.451Z"
   },
   {
    "duration": 1182,
    "start_time": "2021-10-02T21:07:10.461Z"
   },
   {
    "duration": 195,
    "start_time": "2021-10-02T21:07:11.649Z"
   },
   {
    "duration": 5,
    "start_time": "2021-10-02T21:07:11.849Z"
   },
   {
    "duration": 18634,
    "start_time": "2021-10-02T21:07:11.859Z"
   },
   {
    "duration": 613,
    "start_time": "2021-10-02T21:07:30.495Z"
   },
   {
    "duration": 116,
    "start_time": "2021-10-02T21:07:31.110Z"
   },
   {
    "duration": 2632,
    "start_time": "2021-10-02T21:07:31.227Z"
   },
   {
    "duration": 14,
    "start_time": "2021-10-02T21:07:33.861Z"
   },
   {
    "duration": 78,
    "start_time": "2021-10-02T21:07:33.877Z"
   },
   {
    "duration": 6,
    "start_time": "2021-10-02T21:07:33.957Z"
   },
   {
    "duration": 179,
    "start_time": "2021-10-02T21:07:33.965Z"
   },
   {
    "duration": 120,
    "start_time": "2021-10-02T21:07:34.146Z"
   },
   {
    "duration": 188,
    "start_time": "2021-10-02T21:07:34.268Z"
   },
   {
    "duration": 1275,
    "start_time": "2021-10-02T21:07:34.458Z"
   },
   {
    "duration": 1241,
    "start_time": "2021-10-02T21:07:35.735Z"
   },
   {
    "duration": 143671,
    "start_time": "2021-10-02T21:07:36.978Z"
   },
   {
    "duration": 354,
    "start_time": "2021-10-02T21:10:00.652Z"
   },
   {
    "duration": 85,
    "start_time": "2021-10-02T21:10:00.923Z"
   },
   {
    "duration": 78,
    "start_time": "2021-10-02T21:10:00.931Z"
   },
   {
    "duration": 69,
    "start_time": "2021-10-02T21:10:00.941Z"
   },
   {
    "duration": 31,
    "start_time": "2021-10-02T21:10:00.980Z"
   },
   {
    "duration": 11,
    "start_time": "2021-10-02T21:10:01.001Z"
   },
   {
    "duration": 5,
    "start_time": "2021-10-02T21:10:01.008Z"
   },
   {
    "duration": -35,
    "start_time": "2021-10-02T21:10:01.049Z"
   },
   {
    "duration": -41,
    "start_time": "2021-10-02T21:10:01.056Z"
   },
   {
    "duration": -50,
    "start_time": "2021-10-02T21:10:01.065Z"
   },
   {
    "duration": -56,
    "start_time": "2021-10-02T21:10:01.072Z"
   },
   {
    "duration": -97,
    "start_time": "2021-10-02T21:10:01.114Z"
   },
   {
    "duration": -116,
    "start_time": "2021-10-02T21:10:01.134Z"
   },
   {
    "duration": -156,
    "start_time": "2021-10-02T21:10:01.176Z"
   },
   {
    "duration": -163,
    "start_time": "2021-10-02T21:10:01.184Z"
   },
   {
    "duration": 5,
    "start_time": "2021-10-02T21:10:16.503Z"
   },
   {
    "duration": 63822,
    "start_time": "2021-10-02T21:10:16.556Z"
   },
   {
    "duration": 43803,
    "start_time": "2021-10-02T21:11:20.380Z"
   },
   {
    "duration": 47480,
    "start_time": "2021-10-02T21:12:04.185Z"
   },
   {
    "duration": 47398,
    "start_time": "2021-10-02T21:12:51.668Z"
   },
   {
    "duration": 37884,
    "start_time": "2021-10-02T21:13:39.068Z"
   },
   {
    "duration": 47513,
    "start_time": "2021-10-02T21:14:16.954Z"
   },
   {
    "duration": 595690,
    "start_time": "2021-10-02T21:15:04.469Z"
   },
   {
    "duration": 3,
    "start_time": "2021-10-02T21:25:00.161Z"
   },
   {
    "duration": 143,
    "start_time": "2021-10-02T21:25:00.251Z"
   },
   {
    "duration": 4,
    "start_time": "2021-10-02T21:25:00.396Z"
   },
   {
    "duration": 64794,
    "start_time": "2021-10-02T21:25:00.401Z"
   },
   {
    "duration": 136,
    "start_time": "2021-10-02T21:26:05.198Z"
   },
   {
    "duration": 12,
    "start_time": "2021-10-02T21:26:05.337Z"
   },
   {
    "duration": 6,
    "start_time": "2021-10-02T21:28:29.329Z"
   },
   {
    "duration": 226,
    "start_time": "2021-10-02T21:30:02.951Z"
   },
   {
    "duration": 35959,
    "start_time": "2021-10-02T21:30:29.393Z"
   },
   {
    "duration": 1120,
    "start_time": "2021-10-03T07:28:20.194Z"
   },
   {
    "duration": 2636,
    "start_time": "2021-10-03T07:28:21.316Z"
   },
   {
    "duration": 14,
    "start_time": "2021-10-03T07:28:23.954Z"
   },
   {
    "duration": 884,
    "start_time": "2021-10-03T07:28:23.970Z"
   },
   {
    "duration": 154,
    "start_time": "2021-10-03T07:28:24.856Z"
   },
   {
    "duration": 1148,
    "start_time": "2021-10-03T07:28:25.012Z"
   },
   {
    "duration": 1117,
    "start_time": "2021-10-03T07:28:26.162Z"
   },
   {
    "duration": 340,
    "start_time": "2021-10-03T07:28:27.282Z"
   },
   {
    "duration": 97,
    "start_time": "2021-10-03T07:28:27.625Z"
   },
   {
    "duration": 79,
    "start_time": "2021-10-03T07:28:27.724Z"
   },
   {
    "duration": 33,
    "start_time": "2021-10-03T07:28:27.804Z"
   },
   {
    "duration": 756,
    "start_time": "2021-10-03T07:28:27.838Z"
   },
   {
    "duration": 93,
    "start_time": "2021-10-03T07:28:28.597Z"
   },
   {
    "duration": 88,
    "start_time": "2021-10-03T07:28:28.692Z"
   },
   {
    "duration": 105,
    "start_time": "2021-10-03T07:28:28.781Z"
   },
   {
    "duration": 61,
    "start_time": "2021-10-03T07:28:28.888Z"
   },
   {
    "duration": 8,
    "start_time": "2021-10-03T07:28:28.951Z"
   },
   {
    "duration": 241,
    "start_time": "2021-10-03T07:28:28.961Z"
   },
   {
    "duration": 220,
    "start_time": "2021-10-03T07:28:29.204Z"
   },
   {
    "duration": 41,
    "start_time": "2021-10-03T07:28:29.426Z"
   },
   {
    "duration": 482,
    "start_time": "2021-10-03T07:28:29.469Z"
   },
   {
    "duration": 300,
    "start_time": "2021-10-03T07:28:29.953Z"
   },
   {
    "duration": 10,
    "start_time": "2021-10-03T07:28:30.257Z"
   },
   {
    "duration": 1189,
    "start_time": "2021-10-03T07:28:30.269Z"
   },
   {
    "duration": 200,
    "start_time": "2021-10-03T07:28:31.460Z"
   },
   {
    "duration": 4,
    "start_time": "2021-10-03T07:28:31.662Z"
   },
   {
    "duration": 18537,
    "start_time": "2021-10-03T07:28:31.667Z"
   },
   {
    "duration": 500,
    "start_time": "2021-10-03T07:28:50.206Z"
   },
   {
    "duration": 114,
    "start_time": "2021-10-03T07:28:50.707Z"
   },
   {
    "duration": 2556,
    "start_time": "2021-10-03T07:28:50.822Z"
   },
   {
    "duration": 15,
    "start_time": "2021-10-03T07:28:53.380Z"
   },
   {
    "duration": 82,
    "start_time": "2021-10-03T07:28:53.397Z"
   },
   {
    "duration": 8,
    "start_time": "2021-10-03T07:28:53.481Z"
   },
   {
    "duration": 190,
    "start_time": "2021-10-03T07:28:53.491Z"
   },
   {
    "duration": 112,
    "start_time": "2021-10-03T07:28:53.683Z"
   },
   {
    "duration": 183,
    "start_time": "2021-10-03T07:28:53.797Z"
   },
   {
    "duration": 1242,
    "start_time": "2021-10-03T07:28:53.982Z"
   },
   {
    "duration": 1255,
    "start_time": "2021-10-03T07:28:55.226Z"
   },
   {
    "duration": 4,
    "start_time": "2021-10-03T07:28:56.482Z"
   },
   {
    "duration": 144770,
    "start_time": "2021-10-03T07:28:56.488Z"
   },
   {
    "duration": 34300,
    "start_time": "2021-10-03T07:31:21.350Z"
   },
   {
    "duration": 5,
    "start_time": "2021-10-03T07:31:55.653Z"
   },
   {
    "duration": 64377,
    "start_time": "2021-10-03T07:31:55.748Z"
   },
   {
    "duration": 43803,
    "start_time": "2021-10-03T07:33:00.127Z"
   },
   {
    "duration": 45527,
    "start_time": "2021-10-03T07:33:43.931Z"
   },
   {
    "duration": 46411,
    "start_time": "2021-10-03T07:34:29.459Z"
   },
   {
    "duration": 38581,
    "start_time": "2021-10-03T07:35:15.872Z"
   },
   {
    "duration": 43796,
    "start_time": "2021-10-03T07:35:54.455Z"
   },
   {
    "duration": 599999,
    "start_time": "2021-10-03T07:36:38.253Z"
   },
   {
    "duration": 4,
    "start_time": "2021-10-03T07:46:38.254Z"
   },
   {
    "duration": 162,
    "start_time": "2021-10-03T07:46:38.259Z"
   },
   {
    "duration": 3,
    "start_time": "2021-10-03T07:46:38.423Z"
   },
   {
    "duration": 63709,
    "start_time": "2021-10-03T07:46:38.428Z"
   },
   {
    "duration": 120,
    "start_time": "2021-10-03T07:47:42.139Z"
   },
   {
    "duration": 6,
    "start_time": "2021-10-03T07:47:42.262Z"
   },
   {
    "duration": 44589,
    "start_time": "2021-10-03T09:27:02.912Z"
   },
   {
    "duration": 192,
    "start_time": "2021-10-03T09:28:28.518Z"
   },
   {
    "duration": 189,
    "start_time": "2021-10-03T10:49:28.312Z"
   },
   {
    "duration": 322,
    "start_time": "2021-10-03T10:50:02.693Z"
   },
   {
    "duration": 11257,
    "start_time": "2021-10-03T10:50:22.494Z"
   },
   {
    "duration": 8758,
    "start_time": "2021-10-03T11:24:00.008Z"
   },
   {
    "duration": 10779,
    "start_time": "2021-10-03T11:24:26.581Z"
   },
   {
    "duration": 298,
    "start_time": "2021-10-03T11:25:30.142Z"
   },
   {
    "duration": 228,
    "start_time": "2021-10-03T11:25:42.815Z"
   },
   {
    "duration": 290,
    "start_time": "2021-10-03T11:25:48.406Z"
   },
   {
    "duration": 1046,
    "start_time": "2021-10-03T11:27:11.209Z"
   },
   {
    "duration": 648776,
    "start_time": "2021-10-03T11:54:19.279Z"
   },
   {
    "duration": 4,
    "start_time": "2021-10-03T12:05:08.057Z"
   },
   {
    "duration": 606954,
    "start_time": "2021-10-03T12:06:38.211Z"
   },
   {
    "duration": 3,
    "start_time": "2021-10-03T12:16:45.167Z"
   },
   {
    "duration": 76,
    "start_time": "2021-10-03T12:17:09.863Z"
   },
   {
    "duration": 73,
    "start_time": "2021-10-03T12:17:17.562Z"
   },
   {
    "duration": 9,
    "start_time": "2021-10-03T12:17:38.541Z"
   },
   {
    "duration": 242,
    "start_time": "2021-10-03T13:21:42.630Z"
   },
   {
    "duration": 144760,
    "start_time": "2021-10-03T13:22:13.596Z"
   },
   {
    "duration": 34293,
    "start_time": "2021-10-03T13:24:38.358Z"
   },
   {
    "duration": 95,
    "start_time": "2021-10-03T13:25:12.654Z"
   },
   {
    "duration": 64305,
    "start_time": "2021-10-03T13:25:12.752Z"
   },
   {
    "duration": 43717,
    "start_time": "2021-10-03T13:26:17.059Z"
   },
   {
    "duration": 210,
    "start_time": "2021-10-03T13:27:00.778Z"
   },
   {
    "duration": 6,
    "start_time": "2021-10-03T13:27:00.990Z"
   },
   {
    "duration": 313,
    "start_time": "2021-10-03T13:27:00.999Z"
   },
   {
    "duration": -30895,
    "start_time": "2021-10-03T13:27:32.209Z"
   },
   {
    "duration": -30904,
    "start_time": "2021-10-03T13:27:32.219Z"
   },
   {
    "duration": -30916,
    "start_time": "2021-10-03T13:27:32.232Z"
   },
   {
    "duration": -35647,
    "start_time": "2021-10-03T13:27:36.964Z"
   },
   {
    "duration": -35660,
    "start_time": "2021-10-03T13:27:36.978Z"
   },
   {
    "duration": -40389,
    "start_time": "2021-10-03T13:27:41.708Z"
   },
   {
    "duration": -40401,
    "start_time": "2021-10-03T13:27:41.721Z"
   },
   {
    "duration": 295,
    "start_time": "2021-10-03T13:34:51.002Z"
   },
   {
    "duration": 240,
    "start_time": "2021-10-03T13:36:23.267Z"
   },
   {
    "duration": 1173,
    "start_time": "2021-10-03T13:37:13.507Z"
   },
   {
    "duration": 2093,
    "start_time": "2021-10-03T13:37:14.682Z"
   },
   {
    "duration": 15,
    "start_time": "2021-10-03T13:37:16.778Z"
   },
   {
    "duration": 823,
    "start_time": "2021-10-03T13:37:16.795Z"
   },
   {
    "duration": 144,
    "start_time": "2021-10-03T13:37:17.620Z"
   },
   {
    "duration": 1084,
    "start_time": "2021-10-03T13:37:17.766Z"
   },
   {
    "duration": 1066,
    "start_time": "2021-10-03T13:37:18.852Z"
   },
   {
    "duration": 330,
    "start_time": "2021-10-03T13:37:19.919Z"
   },
   {
    "duration": 104,
    "start_time": "2021-10-03T13:37:20.252Z"
   },
   {
    "duration": 65,
    "start_time": "2021-10-03T13:37:20.359Z"
   },
   {
    "duration": 45,
    "start_time": "2021-10-03T13:37:20.426Z"
   },
   {
    "duration": 736,
    "start_time": "2021-10-03T13:37:20.473Z"
   },
   {
    "duration": 95,
    "start_time": "2021-10-03T13:37:21.212Z"
   },
   {
    "duration": 89,
    "start_time": "2021-10-03T13:37:21.309Z"
   },
   {
    "duration": 137,
    "start_time": "2021-10-03T13:37:21.401Z"
   },
   {
    "duration": 77,
    "start_time": "2021-10-03T13:37:21.540Z"
   },
   {
    "duration": 12,
    "start_time": "2021-10-03T13:37:21.619Z"
   },
   {
    "duration": 424,
    "start_time": "2021-10-03T13:37:21.633Z"
   },
   {
    "duration": 252,
    "start_time": "2021-10-03T13:37:22.059Z"
   },
   {
    "duration": 41,
    "start_time": "2021-10-03T13:37:22.313Z"
   },
   {
    "duration": 454,
    "start_time": "2021-10-03T13:37:22.356Z"
   },
   {
    "duration": 284,
    "start_time": "2021-10-03T13:37:22.812Z"
   },
   {
    "duration": 9,
    "start_time": "2021-10-03T13:37:23.098Z"
   },
   {
    "duration": 1132,
    "start_time": "2021-10-03T13:37:23.109Z"
   },
   {
    "duration": 191,
    "start_time": "2021-10-03T13:37:24.243Z"
   },
   {
    "duration": 4,
    "start_time": "2021-10-03T13:37:24.436Z"
   },
   {
    "duration": 19004,
    "start_time": "2021-10-03T13:37:24.451Z"
   },
   {
    "duration": 604,
    "start_time": "2021-10-03T13:37:43.457Z"
   },
   {
    "duration": 125,
    "start_time": "2021-10-03T13:37:44.063Z"
   },
   {
    "duration": 2792,
    "start_time": "2021-10-03T13:37:44.190Z"
   },
   {
    "duration": 15,
    "start_time": "2021-10-03T13:37:46.983Z"
   },
   {
    "duration": 77,
    "start_time": "2021-10-03T13:37:46.999Z"
   },
   {
    "duration": 6,
    "start_time": "2021-10-03T13:37:47.078Z"
   },
   {
    "duration": 183,
    "start_time": "2021-10-03T13:37:47.086Z"
   },
   {
    "duration": 113,
    "start_time": "2021-10-03T13:37:47.270Z"
   },
   {
    "duration": 185,
    "start_time": "2021-10-03T13:37:47.385Z"
   },
   {
    "duration": 1321,
    "start_time": "2021-10-03T13:37:47.571Z"
   },
   {
    "duration": 1256,
    "start_time": "2021-10-03T13:37:48.894Z"
   },
   {
    "duration": 4,
    "start_time": "2021-10-03T13:37:50.152Z"
   },
   {
    "duration": 177000,
    "start_time": "2021-10-03T13:37:50.157Z"
   },
   {
    "duration": 44493,
    "start_time": "2021-10-03T13:40:47.160Z"
   },
   {
    "duration": 12,
    "start_time": "2021-10-03T13:41:31.657Z"
   },
   {
    "duration": 74065,
    "start_time": "2021-10-03T13:41:31.671Z"
   },
   {
    "duration": 44978,
    "start_time": "2021-10-03T13:42:45.738Z"
   },
   {
    "duration": 201,
    "start_time": "2021-10-03T13:43:30.718Z"
   },
   {
    "duration": 270,
    "start_time": "2021-10-03T14:14:10.595Z"
   },
   {
    "duration": 389,
    "start_time": "2021-10-03T14:14:10.478Z"
   },
   {
    "duration": 367,
    "start_time": "2021-10-03T14:14:10.501Z"
   },
   {
    "duration": 351,
    "start_time": "2021-10-03T14:14:10.518Z"
   },
   {
    "duration": 339,
    "start_time": "2021-10-03T14:14:10.531Z"
   },
   {
    "duration": 326,
    "start_time": "2021-10-03T14:14:10.545Z"
   },
   {
    "duration": 277,
    "start_time": "2021-10-03T14:14:10.595Z"
   },
   {
    "duration": 259,
    "start_time": "2021-10-03T14:14:10.614Z"
   },
   {
    "duration": 247,
    "start_time": "2021-10-03T14:14:10.627Z"
   },
   {
    "duration": 518743,
    "start_time": "2021-10-03T14:38:08.787Z"
   },
   {
    "duration": 4329,
    "start_time": "2021-10-03T14:47:47.223Z"
   },
   {
    "duration": 841,
    "start_time": "2021-10-03T14:49:17.441Z"
   }
  ],
  "kernelspec": {
   "display_name": "Python 3",
   "language": "python",
   "name": "python3"
  },
  "language_info": {
   "codemirror_mode": {
    "name": "ipython",
    "version": 3
   },
   "file_extension": ".py",
   "mimetype": "text/x-python",
   "name": "python",
   "nbconvert_exporter": "python",
   "pygments_lexer": "ipython3",
   "version": "3.7.10"
  },
  "toc": {
   "base_numbering": 1,
   "nav_menu": {},
   "number_sections": true,
   "sideBar": true,
   "skip_h1_title": true,
   "title_cell": "Table of Contents",
   "title_sidebar": "Contents",
   "toc_cell": false,
   "toc_position": {
    "height": "calc(100% - 180px)",
    "left": "10px",
    "top": "150px",
    "width": "384px"
   },
   "toc_section_display": true,
   "toc_window_display": true
  }
 },
 "nbformat": 4,
 "nbformat_minor": 2
}

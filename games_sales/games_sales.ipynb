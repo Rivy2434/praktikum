{
 "cells": [
  {
   "cell_type": "markdown",
   "metadata": {},
   "source": [
    "# Video games sales"
   ]
  },
  {
   "cell_type": "markdown",
   "metadata": {},
   "source": [
    "**Project description**\n",
    "\n",
    ">There are open-source data of video games sales, which can include users and critics ratings, genres and platforms, >for which games were developed. The aim of the project is to determine concurrent factors of successfull games sales. \n"
   ]
  },
  {
   "cell_type": "markdown",
   "metadata": {},
   "source": [
    "## Data overview\n"
   ]
  },
  {
   "cell_type": "code",
   "execution_count": 1,
   "metadata": {
    "scrolled": true
   },
   "outputs": [
    {
     "name": "stdout",
     "output_type": "stream",
     "text": [
      "Using local files\n",
      "\n"
     ]
    },
    {
     "data": {
      "text/html": [
       "<div>\n",
       "<style scoped>\n",
       "    .dataframe tbody tr th:only-of-type {\n",
       "        vertical-align: middle;\n",
       "    }\n",
       "\n",
       "    .dataframe tbody tr th {\n",
       "        vertical-align: top;\n",
       "    }\n",
       "\n",
       "    .dataframe thead th {\n",
       "        text-align: right;\n",
       "    }\n",
       "</style>\n",
       "<table border=\"1\" class=\"dataframe\">\n",
       "  <thead>\n",
       "    <tr style=\"text-align: right;\">\n",
       "      <th></th>\n",
       "      <th>Name</th>\n",
       "      <th>Platform</th>\n",
       "      <th>Year_of_Release</th>\n",
       "      <th>Genre</th>\n",
       "      <th>NA_sales</th>\n",
       "      <th>EU_sales</th>\n",
       "      <th>JP_sales</th>\n",
       "      <th>Other_sales</th>\n",
       "      <th>Critic_Score</th>\n",
       "      <th>User_Score</th>\n",
       "      <th>Rating</th>\n",
       "    </tr>\n",
       "  </thead>\n",
       "  <tbody>\n",
       "    <tr>\n",
       "      <th>0</th>\n",
       "      <td>Wii Sports</td>\n",
       "      <td>Wii</td>\n",
       "      <td>2006.0</td>\n",
       "      <td>Sports</td>\n",
       "      <td>41.36</td>\n",
       "      <td>28.96</td>\n",
       "      <td>3.77</td>\n",
       "      <td>8.45</td>\n",
       "      <td>76.0</td>\n",
       "      <td>8</td>\n",
       "      <td>E</td>\n",
       "    </tr>\n",
       "    <tr>\n",
       "      <th>1</th>\n",
       "      <td>Super Mario Bros.</td>\n",
       "      <td>NES</td>\n",
       "      <td>1985.0</td>\n",
       "      <td>Platform</td>\n",
       "      <td>29.08</td>\n",
       "      <td>3.58</td>\n",
       "      <td>6.81</td>\n",
       "      <td>0.77</td>\n",
       "      <td>NaN</td>\n",
       "      <td>NaN</td>\n",
       "      <td>NaN</td>\n",
       "    </tr>\n",
       "    <tr>\n",
       "      <th>2</th>\n",
       "      <td>Mario Kart Wii</td>\n",
       "      <td>Wii</td>\n",
       "      <td>2008.0</td>\n",
       "      <td>Racing</td>\n",
       "      <td>15.68</td>\n",
       "      <td>12.76</td>\n",
       "      <td>3.79</td>\n",
       "      <td>3.29</td>\n",
       "      <td>82.0</td>\n",
       "      <td>8.3</td>\n",
       "      <td>E</td>\n",
       "    </tr>\n",
       "    <tr>\n",
       "      <th>3</th>\n",
       "      <td>Wii Sports Resort</td>\n",
       "      <td>Wii</td>\n",
       "      <td>2009.0</td>\n",
       "      <td>Sports</td>\n",
       "      <td>15.61</td>\n",
       "      <td>10.93</td>\n",
       "      <td>3.28</td>\n",
       "      <td>2.95</td>\n",
       "      <td>80.0</td>\n",
       "      <td>8</td>\n",
       "      <td>E</td>\n",
       "    </tr>\n",
       "    <tr>\n",
       "      <th>4</th>\n",
       "      <td>Pokemon Red/Pokemon Blue</td>\n",
       "      <td>GB</td>\n",
       "      <td>1996.0</td>\n",
       "      <td>Role-Playing</td>\n",
       "      <td>11.27</td>\n",
       "      <td>8.89</td>\n",
       "      <td>10.22</td>\n",
       "      <td>1.00</td>\n",
       "      <td>NaN</td>\n",
       "      <td>NaN</td>\n",
       "      <td>NaN</td>\n",
       "    </tr>\n",
       "    <tr>\n",
       "      <th>5</th>\n",
       "      <td>Tetris</td>\n",
       "      <td>GB</td>\n",
       "      <td>1989.0</td>\n",
       "      <td>Puzzle</td>\n",
       "      <td>23.20</td>\n",
       "      <td>2.26</td>\n",
       "      <td>4.22</td>\n",
       "      <td>0.58</td>\n",
       "      <td>NaN</td>\n",
       "      <td>NaN</td>\n",
       "      <td>NaN</td>\n",
       "    </tr>\n",
       "    <tr>\n",
       "      <th>6</th>\n",
       "      <td>New Super Mario Bros.</td>\n",
       "      <td>DS</td>\n",
       "      <td>2006.0</td>\n",
       "      <td>Platform</td>\n",
       "      <td>11.28</td>\n",
       "      <td>9.14</td>\n",
       "      <td>6.50</td>\n",
       "      <td>2.88</td>\n",
       "      <td>89.0</td>\n",
       "      <td>8.5</td>\n",
       "      <td>E</td>\n",
       "    </tr>\n",
       "    <tr>\n",
       "      <th>7</th>\n",
       "      <td>Wii Play</td>\n",
       "      <td>Wii</td>\n",
       "      <td>2006.0</td>\n",
       "      <td>Misc</td>\n",
       "      <td>13.96</td>\n",
       "      <td>9.18</td>\n",
       "      <td>2.93</td>\n",
       "      <td>2.84</td>\n",
       "      <td>58.0</td>\n",
       "      <td>6.6</td>\n",
       "      <td>E</td>\n",
       "    </tr>\n",
       "    <tr>\n",
       "      <th>8</th>\n",
       "      <td>New Super Mario Bros. Wii</td>\n",
       "      <td>Wii</td>\n",
       "      <td>2009.0</td>\n",
       "      <td>Platform</td>\n",
       "      <td>14.44</td>\n",
       "      <td>6.94</td>\n",
       "      <td>4.70</td>\n",
       "      <td>2.24</td>\n",
       "      <td>87.0</td>\n",
       "      <td>8.4</td>\n",
       "      <td>E</td>\n",
       "    </tr>\n",
       "    <tr>\n",
       "      <th>9</th>\n",
       "      <td>Duck Hunt</td>\n",
       "      <td>NES</td>\n",
       "      <td>1984.0</td>\n",
       "      <td>Shooter</td>\n",
       "      <td>26.93</td>\n",
       "      <td>0.63</td>\n",
       "      <td>0.28</td>\n",
       "      <td>0.47</td>\n",
       "      <td>NaN</td>\n",
       "      <td>NaN</td>\n",
       "      <td>NaN</td>\n",
       "    </tr>\n",
       "  </tbody>\n",
       "</table>\n",
       "</div>"
      ],
      "text/plain": [
       "                        Name Platform  Year_of_Release         Genre  \\\n",
       "0                 Wii Sports      Wii           2006.0        Sports   \n",
       "1          Super Mario Bros.      NES           1985.0      Platform   \n",
       "2             Mario Kart Wii      Wii           2008.0        Racing   \n",
       "3          Wii Sports Resort      Wii           2009.0        Sports   \n",
       "4   Pokemon Red/Pokemon Blue       GB           1996.0  Role-Playing   \n",
       "5                     Tetris       GB           1989.0        Puzzle   \n",
       "6      New Super Mario Bros.       DS           2006.0      Platform   \n",
       "7                   Wii Play      Wii           2006.0          Misc   \n",
       "8  New Super Mario Bros. Wii      Wii           2009.0      Platform   \n",
       "9                  Duck Hunt      NES           1984.0       Shooter   \n",
       "\n",
       "   NA_sales  EU_sales  JP_sales  Other_sales  Critic_Score User_Score Rating  \n",
       "0     41.36     28.96      3.77         8.45          76.0          8      E  \n",
       "1     29.08      3.58      6.81         0.77           NaN        NaN    NaN  \n",
       "2     15.68     12.76      3.79         3.29          82.0        8.3      E  \n",
       "3     15.61     10.93      3.28         2.95          80.0          8      E  \n",
       "4     11.27      8.89     10.22         1.00           NaN        NaN    NaN  \n",
       "5     23.20      2.26      4.22         0.58           NaN        NaN    NaN  \n",
       "6     11.28      9.14      6.50         2.88          89.0        8.5      E  \n",
       "7     13.96      9.18      2.93         2.84          58.0        6.6      E  \n",
       "8     14.44      6.94      4.70         2.24          87.0        8.4      E  \n",
       "9     26.93      0.63      0.28         0.47           NaN        NaN    NaN  "
      ]
     },
     "metadata": {},
     "output_type": "display_data"
    },
    {
     "name": "stdout",
     "output_type": "stream",
     "text": [
      "<class 'pandas.core.frame.DataFrame'>\n",
      "RangeIndex: 16715 entries, 0 to 16714\n",
      "Data columns (total 11 columns):\n",
      " #   Column           Non-Null Count  Dtype  \n",
      "---  ------           --------------  -----  \n",
      " 0   Name             16713 non-null  object \n",
      " 1   Platform         16715 non-null  object \n",
      " 2   Year_of_Release  16446 non-null  float64\n",
      " 3   Genre            16713 non-null  object \n",
      " 4   NA_sales         16715 non-null  float64\n",
      " 5   EU_sales         16715 non-null  float64\n",
      " 6   JP_sales         16715 non-null  float64\n",
      " 7   Other_sales      16715 non-null  float64\n",
      " 8   Critic_Score     8137 non-null   float64\n",
      " 9   User_Score       10014 non-null  object \n",
      " 10  Rating           9949 non-null   object \n",
      "dtypes: float64(6), object(5)\n",
      "memory usage: 1.4+ MB\n"
     ]
    },
    {
     "data": {
      "text/plain": [
       "None"
      ]
     },
     "metadata": {},
     "output_type": "display_data"
    }
   ],
   "source": [
    "#importimg libraries\n",
    "import pandas as pd\n",
    "import matplotlib.pyplot as plt\n",
    "import numpy as np\n",
    "from scipy import stats as st\n",
    "\n",
    "try:\n",
    "    games = pd.read_csv('/datasets/games.csv')\n",
    "    print('Using cloud files')\n",
    "    print()\n",
    "except:\n",
    "    games = pd.read_csv('D:/Bot/DataScience/Jupyter projects/1 module/big project/games.csv')\n",
    "    print('Using local files')\n",
    "    print()\n",
    "\n",
    "games.name = 'games'\n",
    "display(games.head(10)) #looking at data and summary\n",
    "display(games.info())"
   ]
  },
  {
   "cell_type": "markdown",
   "metadata": {},
   "source": [
    "There are many missing values as well as wrong data types."
   ]
  },
  {
   "cell_type": "markdown",
   "metadata": {},
   "source": [
    "## Data preprocessing"
   ]
  },
  {
   "cell_type": "code",
   "execution_count": 2,
   "metadata": {},
   "outputs": [
    {
     "data": {
      "text/plain": [
       "Index(['name', 'platform', 'release_year', 'genre', 'na_sales', 'eu_sales',\n",
       "       'jp_sales', 'other_sales', 'critic_score', 'user_score', 'rating'],\n",
       "      dtype='object')"
      ]
     },
     "metadata": {},
     "output_type": "display_data"
    }
   ],
   "source": [
    "#changing column names\n",
    "games.columns = games.columns.str.lower()\n",
    "games = games.rename(columns={'year_of_release':'release_year'}) \n",
    "display(games.columns)"
   ]
  },
  {
   "cell_type": "markdown",
   "metadata": {},
   "source": [
    "### Removing duplicates"
   ]
  },
  {
   "cell_type": "code",
   "execution_count": 3,
   "metadata": {},
   "outputs": [
    {
     "name": "stdout",
     "output_type": "stream",
     "text": [
      "Дубликатов в 0                           wii sports\n",
      "1                    super mario bros.\n",
      "2                       mario kart wii\n",
      "3                    wii sports resort\n",
      "4             pokemon red/pokemon blue\n",
      "                     ...              \n",
      "16710    samurai warriors: sanada maru\n",
      "16711                 lma manager 2007\n",
      "16712          haitaka no psychedelica\n",
      "16713                 spirits & spells\n",
      "16714              winning post 8 2016\n",
      "Name: name, Length: 16715, dtype: object : 0\n"
     ]
    }
   ],
   "source": [
    "#prior duplicates search we lowercase every row for duplicate \n",
    "column_list_upper = ['name','platform','genre','user_score','rating']\n",
    "for element in column_list_upper:\n",
    "    games[element] = games[element].str.lower()\n",
    "print('Дубликатов в',games.name,':',games.duplicated().sum())"
   ]
  },
  {
   "cell_type": "markdown",
   "metadata": {},
   "source": [
    "### Changind data types"
   ]
  },
  {
   "cell_type": "markdown",
   "metadata": {},
   "source": [
    "#### Users rating"
   ]
  },
  {
   "cell_type": "markdown",
   "metadata": {},
   "source": [
    "Column with user_score has \"object\" type, although it should have numbers instead, lets check."
   ]
  },
  {
   "cell_type": "code",
   "execution_count": 4,
   "metadata": {
    "scrolled": true
   },
   "outputs": [
    {
     "data": {
      "text/plain": [
       "array(['8', nan, '8.3', '8.5', '6.6', '8.4', '8.6', '7.7', '6.3', '7.4',\n",
       "       '8.2', '9', '7.9', '8.1', '8.7', '7.1', '3.4', '5.3', '4.8', '3.2',\n",
       "       '8.9', '6.4', '7.8', '7.5', '2.6', '7.2', '9.2', '7', '7.3', '4.3',\n",
       "       '7.6', '5.7', '5', '9.1', '6.5', 'tbd', '8.8', '6.9', '9.4', '6.8',\n",
       "       '6.1', '6.7', '5.4', '4', '4.9', '4.5', '9.3', '6.2', '4.2', '6',\n",
       "       '3.7', '4.1', '5.8', '5.6', '5.5', '4.4', '4.6', '5.9', '3.9',\n",
       "       '3.1', '2.9', '5.2', '3.3', '4.7', '5.1', '3.5', '2.5', '1.9', '3',\n",
       "       '2.7', '2.2', '2', '9.5', '2.1', '3.6', '2.8', '1.8', '3.8', '0',\n",
       "       '1.6', '9.6', '2.4', '1.7', '1.1', '0.3', '1.5', '0.7', '1.2',\n",
       "       '2.3', '0.5', '1.3', '0.2', '0.6', '1.4', '0.9', '1', '9.7'],\n",
       "      dtype=object)"
      ]
     },
     "execution_count": 4,
     "metadata": {},
     "output_type": "execute_result"
    }
   ],
   "source": [
    "games['user_score'].describe()\n",
    "games['user_score'].unique()"
   ]
  },
  {
   "cell_type": "markdown",
   "metadata": {},
   "source": [
    "\"tbd\" detected. How many?"
   ]
  },
  {
   "cell_type": "code",
   "execution_count": 5,
   "metadata": {
    "scrolled": true
   },
   "outputs": [
    {
     "data": {
      "text/html": [
       "<div>\n",
       "<style scoped>\n",
       "    .dataframe tbody tr th:only-of-type {\n",
       "        vertical-align: middle;\n",
       "    }\n",
       "\n",
       "    .dataframe tbody tr th {\n",
       "        vertical-align: top;\n",
       "    }\n",
       "\n",
       "    .dataframe thead th {\n",
       "        text-align: right;\n",
       "    }\n",
       "</style>\n",
       "<table border=\"1\" class=\"dataframe\">\n",
       "  <thead>\n",
       "    <tr style=\"text-align: right;\">\n",
       "      <th></th>\n",
       "      <th>name</th>\n",
       "      <th>platform</th>\n",
       "      <th>release_year</th>\n",
       "      <th>genre</th>\n",
       "      <th>na_sales</th>\n",
       "      <th>eu_sales</th>\n",
       "      <th>jp_sales</th>\n",
       "      <th>other_sales</th>\n",
       "      <th>critic_score</th>\n",
       "      <th>user_score</th>\n",
       "      <th>rating</th>\n",
       "    </tr>\n",
       "  </thead>\n",
       "  <tbody>\n",
       "    <tr>\n",
       "      <th>119</th>\n",
       "      <td>zumba fitness</td>\n",
       "      <td>wii</td>\n",
       "      <td>2010.0</td>\n",
       "      <td>sports</td>\n",
       "      <td>3.45</td>\n",
       "      <td>2.59</td>\n",
       "      <td>0.0</td>\n",
       "      <td>0.66</td>\n",
       "      <td>NaN</td>\n",
       "      <td>tbd</td>\n",
       "      <td>e</td>\n",
       "    </tr>\n",
       "    <tr>\n",
       "      <th>301</th>\n",
       "      <td>namco museum: 50th anniversary</td>\n",
       "      <td>ps2</td>\n",
       "      <td>2005.0</td>\n",
       "      <td>misc</td>\n",
       "      <td>2.08</td>\n",
       "      <td>1.35</td>\n",
       "      <td>0.0</td>\n",
       "      <td>0.54</td>\n",
       "      <td>61.0</td>\n",
       "      <td>tbd</td>\n",
       "      <td>e10+</td>\n",
       "    </tr>\n",
       "    <tr>\n",
       "      <th>520</th>\n",
       "      <td>zumba fitness 2</td>\n",
       "      <td>wii</td>\n",
       "      <td>2011.0</td>\n",
       "      <td>sports</td>\n",
       "      <td>1.51</td>\n",
       "      <td>1.03</td>\n",
       "      <td>0.0</td>\n",
       "      <td>0.27</td>\n",
       "      <td>NaN</td>\n",
       "      <td>tbd</td>\n",
       "      <td>t</td>\n",
       "    </tr>\n",
       "    <tr>\n",
       "      <th>645</th>\n",
       "      <td>udraw studio</td>\n",
       "      <td>wii</td>\n",
       "      <td>2010.0</td>\n",
       "      <td>misc</td>\n",
       "      <td>1.65</td>\n",
       "      <td>0.57</td>\n",
       "      <td>0.0</td>\n",
       "      <td>0.20</td>\n",
       "      <td>71.0</td>\n",
       "      <td>tbd</td>\n",
       "      <td>e</td>\n",
       "    </tr>\n",
       "    <tr>\n",
       "      <th>657</th>\n",
       "      <td>frogger's adventures: temple of the frog</td>\n",
       "      <td>gba</td>\n",
       "      <td>NaN</td>\n",
       "      <td>adventure</td>\n",
       "      <td>2.15</td>\n",
       "      <td>0.18</td>\n",
       "      <td>0.0</td>\n",
       "      <td>0.07</td>\n",
       "      <td>73.0</td>\n",
       "      <td>tbd</td>\n",
       "      <td>e</td>\n",
       "    </tr>\n",
       "    <tr>\n",
       "      <th>...</th>\n",
       "      <td>...</td>\n",
       "      <td>...</td>\n",
       "      <td>...</td>\n",
       "      <td>...</td>\n",
       "      <td>...</td>\n",
       "      <td>...</td>\n",
       "      <td>...</td>\n",
       "      <td>...</td>\n",
       "      <td>...</td>\n",
       "      <td>...</td>\n",
       "      <td>...</td>\n",
       "    </tr>\n",
       "    <tr>\n",
       "      <th>16695</th>\n",
       "      <td>planet monsters</td>\n",
       "      <td>gba</td>\n",
       "      <td>2001.0</td>\n",
       "      <td>action</td>\n",
       "      <td>0.01</td>\n",
       "      <td>0.00</td>\n",
       "      <td>0.0</td>\n",
       "      <td>0.00</td>\n",
       "      <td>67.0</td>\n",
       "      <td>tbd</td>\n",
       "      <td>e</td>\n",
       "    </tr>\n",
       "    <tr>\n",
       "      <th>16697</th>\n",
       "      <td>bust-a-move 3000</td>\n",
       "      <td>gc</td>\n",
       "      <td>2003.0</td>\n",
       "      <td>puzzle</td>\n",
       "      <td>0.01</td>\n",
       "      <td>0.00</td>\n",
       "      <td>0.0</td>\n",
       "      <td>0.00</td>\n",
       "      <td>53.0</td>\n",
       "      <td>tbd</td>\n",
       "      <td>e</td>\n",
       "    </tr>\n",
       "    <tr>\n",
       "      <th>16698</th>\n",
       "      <td>mega brain boost</td>\n",
       "      <td>ds</td>\n",
       "      <td>2008.0</td>\n",
       "      <td>puzzle</td>\n",
       "      <td>0.01</td>\n",
       "      <td>0.00</td>\n",
       "      <td>0.0</td>\n",
       "      <td>0.00</td>\n",
       "      <td>48.0</td>\n",
       "      <td>tbd</td>\n",
       "      <td>e</td>\n",
       "    </tr>\n",
       "    <tr>\n",
       "      <th>16704</th>\n",
       "      <td>plushees</td>\n",
       "      <td>ds</td>\n",
       "      <td>2008.0</td>\n",
       "      <td>simulation</td>\n",
       "      <td>0.01</td>\n",
       "      <td>0.00</td>\n",
       "      <td>0.0</td>\n",
       "      <td>0.00</td>\n",
       "      <td>NaN</td>\n",
       "      <td>tbd</td>\n",
       "      <td>e</td>\n",
       "    </tr>\n",
       "    <tr>\n",
       "      <th>16706</th>\n",
       "      <td>men in black ii: alien escape</td>\n",
       "      <td>gc</td>\n",
       "      <td>2003.0</td>\n",
       "      <td>shooter</td>\n",
       "      <td>0.01</td>\n",
       "      <td>0.00</td>\n",
       "      <td>0.0</td>\n",
       "      <td>0.00</td>\n",
       "      <td>NaN</td>\n",
       "      <td>tbd</td>\n",
       "      <td>t</td>\n",
       "    </tr>\n",
       "  </tbody>\n",
       "</table>\n",
       "<p>2424 rows × 11 columns</p>\n",
       "</div>"
      ],
      "text/plain": [
       "                                           name platform  release_year  \\\n",
       "119                               zumba fitness      wii        2010.0   \n",
       "301              namco museum: 50th anniversary      ps2        2005.0   \n",
       "520                             zumba fitness 2      wii        2011.0   \n",
       "645                                udraw studio      wii        2010.0   \n",
       "657    frogger's adventures: temple of the frog      gba           NaN   \n",
       "...                                         ...      ...           ...   \n",
       "16695                           planet monsters      gba        2001.0   \n",
       "16697                          bust-a-move 3000       gc        2003.0   \n",
       "16698                          mega brain boost       ds        2008.0   \n",
       "16704                                  plushees       ds        2008.0   \n",
       "16706             men in black ii: alien escape       gc        2003.0   \n",
       "\n",
       "            genre  na_sales  eu_sales  jp_sales  other_sales  critic_score  \\\n",
       "119        sports      3.45      2.59       0.0         0.66           NaN   \n",
       "301          misc      2.08      1.35       0.0         0.54          61.0   \n",
       "520        sports      1.51      1.03       0.0         0.27           NaN   \n",
       "645          misc      1.65      0.57       0.0         0.20          71.0   \n",
       "657     adventure      2.15      0.18       0.0         0.07          73.0   \n",
       "...           ...       ...       ...       ...          ...           ...   \n",
       "16695      action      0.01      0.00       0.0         0.00          67.0   \n",
       "16697      puzzle      0.01      0.00       0.0         0.00          53.0   \n",
       "16698      puzzle      0.01      0.00       0.0         0.00          48.0   \n",
       "16704  simulation      0.01      0.00       0.0         0.00           NaN   \n",
       "16706     shooter      0.01      0.00       0.0         0.00           NaN   \n",
       "\n",
       "      user_score rating  \n",
       "119          tbd      e  \n",
       "301          tbd   e10+  \n",
       "520          tbd      t  \n",
       "645          tbd      e  \n",
       "657          tbd      e  \n",
       "...          ...    ...  \n",
       "16695        tbd      e  \n",
       "16697        tbd      e  \n",
       "16698        tbd      e  \n",
       "16704        tbd      e  \n",
       "16706        tbd      t  \n",
       "\n",
       "[2424 rows x 11 columns]"
      ]
     },
     "metadata": {},
     "output_type": "display_data"
    }
   ],
   "source": [
    "display(games.query('user_score == \"tbd\"'))"
   ]
  },
  {
   "cell_type": "markdown",
   "metadata": {},
   "source": [
    "\"tbd\" - \"To Be Determined\", when there are not enough review for rating estimation. Let's treat that like missing values."
   ]
  },
  {
   "cell_type": "code",
   "execution_count": 6,
   "metadata": {
    "scrolled": false
   },
   "outputs": [
    {
     "data": {
      "text/plain": [
       "count    7590.000000\n",
       "mean        7.125046\n",
       "std         1.500006\n",
       "min         0.000000\n",
       "25%         6.400000\n",
       "50%         7.500000\n",
       "75%         8.200000\n",
       "max         9.700000\n",
       "Name: user_score, dtype: float64"
      ]
     },
     "metadata": {},
     "output_type": "display_data"
    },
    {
     "data": {
      "text/plain": [
       "array([8. , nan, 8.3, 8.5, 6.6, 8.4, 8.6, 7.7, 6.3, 7.4, 8.2, 9. , 7.9,\n",
       "       8.1, 8.7, 7.1, 3.4, 5.3, 4.8, 3.2, 8.9, 6.4, 7.8, 7.5, 2.6, 7.2,\n",
       "       9.2, 7. , 7.3, 4.3, 7.6, 5.7, 5. , 9.1, 6.5, 8.8, 6.9, 9.4, 6.8,\n",
       "       6.1, 6.7, 5.4, 4. , 4.9, 4.5, 9.3, 6.2, 4.2, 6. , 3.7, 4.1, 5.8,\n",
       "       5.6, 5.5, 4.4, 4.6, 5.9, 3.9, 3.1, 2.9, 5.2, 3.3, 4.7, 5.1, 3.5,\n",
       "       2.5, 1.9, 3. , 2.7, 2.2, 2. , 9.5, 2.1, 3.6, 2.8, 1.8, 3.8, 0. ,\n",
       "       1.6, 9.6, 2.4, 1.7, 1.1, 0.3, 1.5, 0.7, 1.2, 2.3, 0.5, 1.3, 0.2,\n",
       "       0.6, 1.4, 0.9, 1. , 9.7])"
      ]
     },
     "metadata": {},
     "output_type": "display_data"
    }
   ],
   "source": [
    "#changing to numerical\n",
    "games['user_score'] = pd.to_numeric(games['user_score'],errors='coerce') #ошибки заменяем на NaN - ы\n",
    "display(games['user_score'].describe())\n",
    "display(games['user_score'].unique()) #проверим как получилось"
   ]
  },
  {
   "cell_type": "markdown",
   "metadata": {},
   "source": [
    "#### Release year"
   ]
  },
  {
   "cell_type": "code",
   "execution_count": 7,
   "metadata": {},
   "outputs": [],
   "source": [
    "games['release_year'] = pd.to_datetime(games['release_year'],format= '%Y') #приведем строку с датами к датам\n",
    "games['release_year'] = games['release_year'].dt.year #Оставим год\n"
   ]
  },
  {
   "cell_type": "markdown",
   "metadata": {},
   "source": [
    "### Handling missing data"
   ]
  },
  {
   "cell_type": "code",
   "execution_count": 8,
   "metadata": {
    "scrolled": true
   },
   "outputs": [
    {
     "name": "stdout",
     "output_type": "stream",
     "text": [
      "Amount of missing values:\n"
     ]
    },
    {
     "data": {
      "text/plain": [
       "name               2\n",
       "platform           0\n",
       "release_year     269\n",
       "genre              2\n",
       "na_sales           0\n",
       "eu_sales           0\n",
       "jp_sales           0\n",
       "other_sales        0\n",
       "critic_score    8578\n",
       "user_score      9125\n",
       "rating          6766\n",
       "dtype: int64"
      ]
     },
     "metadata": {},
     "output_type": "display_data"
    },
    {
     "name": "stdout",
     "output_type": "stream",
     "text": [
      "Percentage of missing values:\n"
     ]
    },
    {
     "data": {
      "text/plain": [
       "name             0.011965\n",
       "platform         0.000000\n",
       "release_year     1.609333\n",
       "genre            0.011965\n",
       "na_sales         0.000000\n",
       "eu_sales         0.000000\n",
       "jp_sales         0.000000\n",
       "other_sales      0.000000\n",
       "critic_score    51.319174\n",
       "user_score      54.591684\n",
       "rating          40.478612\n",
       "dtype: float64"
      ]
     },
     "metadata": {},
     "output_type": "display_data"
    }
   ],
   "source": [
    "#looking at the total gaps in rows\n",
    "print('Amount of missing values:')\n",
    "display(games.isna().sum())\n",
    "print('Percentage of missing values:')   #showing missing info\n",
    "display(games.isnull().sum()*100/len(games))"
   ]
  },
  {
   "cell_type": "markdown",
   "metadata": {},
   "source": [
    "Will have to remove NaNs in genres and release year. Missing ratings will be replaced by marker values.\n"
   ]
  },
  {
   "cell_type": "markdown",
   "metadata": {},
   "source": [
    "#### Name, genre, release year"
   ]
  },
  {
   "cell_type": "code",
   "execution_count": 9,
   "metadata": {},
   "outputs": [],
   "source": [
    "#removing missing values\n",
    "games.dropna(subset = ['name','release_year','genre'], inplace=True)\n"
   ]
  },
  {
   "cell_type": "markdown",
   "metadata": {},
   "source": [
    "#### Ratings"
   ]
  },
  {
   "cell_type": "code",
   "execution_count": 10,
   "metadata": {
    "scrolled": true
   },
   "outputs": [],
   "source": [
    "empty_scores = ['critic_score','user_score'] #list of columns with gaps\n",
    "unique_genres = games['genre'].unique() #genres list\n",
    "\n",
    "#replacing gaps by marker value\n",
    "for element in empty_scores:\n",
    "    for genre in unique_genres:\n",
    "        value = -1\n",
    "        games.loc[games.loc[:,'genre'] == genre, element] = games.loc[games.loc[:,'genre'] == genre, element].fillna(value)\n"
   ]
  },
  {
   "cell_type": "markdown",
   "metadata": {},
   "source": [
    "#### Age rating"
   ]
  },
  {
   "cell_type": "markdown",
   "metadata": {},
   "source": [
    "Reaplacing missing values by \"unknown\". \n"
   ]
  },
  {
   "cell_type": "code",
   "execution_count": 11,
   "metadata": {
    "scrolled": true
   },
   "outputs": [
    {
     "data": {
      "text/plain": [
       "name            0\n",
       "platform        0\n",
       "release_year    0\n",
       "genre           0\n",
       "na_sales        0\n",
       "eu_sales        0\n",
       "jp_sales        0\n",
       "other_sales     0\n",
       "critic_score    0\n",
       "user_score      0\n",
       "rating          0\n",
       "dtype: int64"
      ]
     },
     "metadata": {},
     "output_type": "display_data"
    }
   ],
   "source": [
    "games['rating'] = games['rating'].fillna('unknown')\n",
    "\n",
    "display(games.isna().sum()) #checking out"
   ]
  },
  {
   "cell_type": "markdown",
   "metadata": {},
   "source": [
    "Interesting to check how many missing ratings for eeach game category."
   ]
  },
  {
   "cell_type": "code",
   "execution_count": 12,
   "metadata": {
    "scrolled": true
   },
   "outputs": [
    {
     "data": {
      "text/html": [
       "<div>\n",
       "<style scoped>\n",
       "    .dataframe tbody tr th:only-of-type {\n",
       "        vertical-align: middle;\n",
       "    }\n",
       "\n",
       "    .dataframe tbody tr th {\n",
       "        vertical-align: top;\n",
       "    }\n",
       "\n",
       "    .dataframe thead th {\n",
       "        text-align: right;\n",
       "    }\n",
       "</style>\n",
       "<table border=\"1\" class=\"dataframe\">\n",
       "  <thead>\n",
       "    <tr style=\"text-align: right;\">\n",
       "      <th>genre</th>\n",
       "      <th>action</th>\n",
       "      <th>adventure</th>\n",
       "      <th>fighting</th>\n",
       "      <th>misc</th>\n",
       "      <th>platform</th>\n",
       "      <th>puzzle</th>\n",
       "      <th>racing</th>\n",
       "      <th>role-playing</th>\n",
       "      <th>shooter</th>\n",
       "      <th>simulation</th>\n",
       "      <th>sports</th>\n",
       "      <th>strategy</th>\n",
       "    </tr>\n",
       "    <tr>\n",
       "      <th>rating</th>\n",
       "      <th></th>\n",
       "      <th></th>\n",
       "      <th></th>\n",
       "      <th></th>\n",
       "      <th></th>\n",
       "      <th></th>\n",
       "      <th></th>\n",
       "      <th></th>\n",
       "      <th></th>\n",
       "      <th></th>\n",
       "      <th></th>\n",
       "      <th></th>\n",
       "    </tr>\n",
       "  </thead>\n",
       "  <tbody>\n",
       "    <tr>\n",
       "      <th>ao</th>\n",
       "      <td>1.0</td>\n",
       "      <td>NaN</td>\n",
       "      <td>NaN</td>\n",
       "      <td>NaN</td>\n",
       "      <td>NaN</td>\n",
       "      <td>NaN</td>\n",
       "      <td>NaN</td>\n",
       "      <td>NaN</td>\n",
       "      <td>NaN</td>\n",
       "      <td>NaN</td>\n",
       "      <td>NaN</td>\n",
       "      <td>NaN</td>\n",
       "    </tr>\n",
       "    <tr>\n",
       "      <th>e</th>\n",
       "      <td>410.0</td>\n",
       "      <td>159.0</td>\n",
       "      <td>8.0</td>\n",
       "      <td>449.0</td>\n",
       "      <td>354.0</td>\n",
       "      <td>284.0</td>\n",
       "      <td>576.0</td>\n",
       "      <td>83.0</td>\n",
       "      <td>47.0</td>\n",
       "      <td>321.0</td>\n",
       "      <td>1162.0</td>\n",
       "      <td>68.0</td>\n",
       "    </tr>\n",
       "    <tr>\n",
       "      <th>e10+</th>\n",
       "      <td>468.0</td>\n",
       "      <td>67.0</td>\n",
       "      <td>19.0</td>\n",
       "      <td>166.0</td>\n",
       "      <td>141.0</td>\n",
       "      <td>42.0</td>\n",
       "      <td>95.0</td>\n",
       "      <td>111.0</td>\n",
       "      <td>56.0</td>\n",
       "      <td>47.0</td>\n",
       "      <td>105.0</td>\n",
       "      <td>76.0</td>\n",
       "    </tr>\n",
       "    <tr>\n",
       "      <th>ec</th>\n",
       "      <td>1.0</td>\n",
       "      <td>2.0</td>\n",
       "      <td>NaN</td>\n",
       "      <td>5.0</td>\n",
       "      <td>NaN</td>\n",
       "      <td>NaN</td>\n",
       "      <td>NaN</td>\n",
       "      <td>NaN</td>\n",
       "      <td>NaN</td>\n",
       "      <td>NaN</td>\n",
       "      <td>NaN</td>\n",
       "      <td>NaN</td>\n",
       "    </tr>\n",
       "    <tr>\n",
       "      <th>k-a</th>\n",
       "      <td>NaN</td>\n",
       "      <td>NaN</td>\n",
       "      <td>NaN</td>\n",
       "      <td>1.0</td>\n",
       "      <td>NaN</td>\n",
       "      <td>NaN</td>\n",
       "      <td>NaN</td>\n",
       "      <td>NaN</td>\n",
       "      <td>NaN</td>\n",
       "      <td>NaN</td>\n",
       "      <td>NaN</td>\n",
       "      <td>2.0</td>\n",
       "    </tr>\n",
       "    <tr>\n",
       "      <th>m</th>\n",
       "      <td>596.0</td>\n",
       "      <td>98.0</td>\n",
       "      <td>48.0</td>\n",
       "      <td>13.0</td>\n",
       "      <td>3.0</td>\n",
       "      <td>NaN</td>\n",
       "      <td>18.0</td>\n",
       "      <td>161.0</td>\n",
       "      <td>553.0</td>\n",
       "      <td>5.0</td>\n",
       "      <td>16.0</td>\n",
       "      <td>25.0</td>\n",
       "    </tr>\n",
       "    <tr>\n",
       "      <th>rp</th>\n",
       "      <td>NaN</td>\n",
       "      <td>NaN</td>\n",
       "      <td>NaN</td>\n",
       "      <td>NaN</td>\n",
       "      <td>NaN</td>\n",
       "      <td>NaN</td>\n",
       "      <td>NaN</td>\n",
       "      <td>NaN</td>\n",
       "      <td>NaN</td>\n",
       "      <td>NaN</td>\n",
       "      <td>NaN</td>\n",
       "      <td>1.0</td>\n",
       "    </tr>\n",
       "    <tr>\n",
       "      <th>t</th>\n",
       "      <td>670.0</td>\n",
       "      <td>114.0</td>\n",
       "      <td>357.0</td>\n",
       "      <td>228.0</td>\n",
       "      <td>63.0</td>\n",
       "      <td>10.0</td>\n",
       "      <td>167.0</td>\n",
       "      <td>415.0</td>\n",
       "      <td>340.0</td>\n",
       "      <td>186.0</td>\n",
       "      <td>195.0</td>\n",
       "      <td>160.0</td>\n",
       "    </tr>\n",
       "    <tr>\n",
       "      <th>unknown</th>\n",
       "      <td>1161.0</td>\n",
       "      <td>853.0</td>\n",
       "      <td>405.0</td>\n",
       "      <td>859.0</td>\n",
       "      <td>317.0</td>\n",
       "      <td>233.0</td>\n",
       "      <td>370.0</td>\n",
       "      <td>711.0</td>\n",
       "      <td>300.0</td>\n",
       "      <td>298.0</td>\n",
       "      <td>828.0</td>\n",
       "      <td>341.0</td>\n",
       "    </tr>\n",
       "  </tbody>\n",
       "</table>\n",
       "</div>"
      ],
      "text/plain": [
       "genre    action  adventure  fighting   misc  platform  puzzle  racing  \\\n",
       "rating                                                                  \n",
       "ao          1.0        NaN       NaN    NaN       NaN     NaN     NaN   \n",
       "e         410.0      159.0       8.0  449.0     354.0   284.0   576.0   \n",
       "e10+      468.0       67.0      19.0  166.0     141.0    42.0    95.0   \n",
       "ec          1.0        2.0       NaN    5.0       NaN     NaN     NaN   \n",
       "k-a         NaN        NaN       NaN    1.0       NaN     NaN     NaN   \n",
       "m         596.0       98.0      48.0   13.0       3.0     NaN    18.0   \n",
       "rp          NaN        NaN       NaN    NaN       NaN     NaN     NaN   \n",
       "t         670.0      114.0     357.0  228.0      63.0    10.0   167.0   \n",
       "unknown  1161.0      853.0     405.0  859.0     317.0   233.0   370.0   \n",
       "\n",
       "genre    role-playing  shooter  simulation  sports  strategy  \n",
       "rating                                                        \n",
       "ao                NaN      NaN         NaN     NaN       NaN  \n",
       "e                83.0     47.0       321.0  1162.0      68.0  \n",
       "e10+            111.0     56.0        47.0   105.0      76.0  \n",
       "ec                NaN      NaN         NaN     NaN       NaN  \n",
       "k-a               NaN      NaN         NaN     NaN       2.0  \n",
       "m               161.0    553.0         5.0    16.0      25.0  \n",
       "rp                NaN      NaN         NaN     NaN       1.0  \n",
       "t               415.0    340.0       186.0   195.0     160.0  \n",
       "unknown         711.0    300.0       298.0   828.0     341.0  "
      ]
     },
     "metadata": {},
     "output_type": "display_data"
    },
    {
     "data": {
      "text/html": [
       "<div>\n",
       "<style scoped>\n",
       "    .dataframe tbody tr th:only-of-type {\n",
       "        vertical-align: middle;\n",
       "    }\n",
       "\n",
       "    .dataframe tbody tr th {\n",
       "        vertical-align: top;\n",
       "    }\n",
       "\n",
       "    .dataframe thead th {\n",
       "        text-align: right;\n",
       "    }\n",
       "</style>\n",
       "<table border=\"1\" class=\"dataframe\">\n",
       "  <thead>\n",
       "    <tr style=\"text-align: right;\">\n",
       "      <th>genre</th>\n",
       "      <th>action</th>\n",
       "      <th>adventure</th>\n",
       "      <th>fighting</th>\n",
       "      <th>misc</th>\n",
       "      <th>platform</th>\n",
       "      <th>puzzle</th>\n",
       "      <th>racing</th>\n",
       "      <th>role-playing</th>\n",
       "      <th>shooter</th>\n",
       "      <th>simulation</th>\n",
       "      <th>sports</th>\n",
       "      <th>strategy</th>\n",
       "    </tr>\n",
       "    <tr>\n",
       "      <th>rating</th>\n",
       "      <th></th>\n",
       "      <th></th>\n",
       "      <th></th>\n",
       "      <th></th>\n",
       "      <th></th>\n",
       "      <th></th>\n",
       "      <th></th>\n",
       "      <th></th>\n",
       "      <th></th>\n",
       "      <th></th>\n",
       "      <th></th>\n",
       "      <th></th>\n",
       "    </tr>\n",
       "  </thead>\n",
       "  <tbody>\n",
       "    <tr>\n",
       "      <th>ao</th>\n",
       "      <td>0.030239</td>\n",
       "      <td>NaN</td>\n",
       "      <td>NaN</td>\n",
       "      <td>NaN</td>\n",
       "      <td>NaN</td>\n",
       "      <td>NaN</td>\n",
       "      <td>NaN</td>\n",
       "      <td>NaN</td>\n",
       "      <td>NaN</td>\n",
       "      <td>NaN</td>\n",
       "      <td>NaN</td>\n",
       "      <td>NaN</td>\n",
       "    </tr>\n",
       "    <tr>\n",
       "      <th>e</th>\n",
       "      <td>12.397944</td>\n",
       "      <td>12.296984</td>\n",
       "      <td>0.955795</td>\n",
       "      <td>26.089483</td>\n",
       "      <td>40.318907</td>\n",
       "      <td>49.912127</td>\n",
       "      <td>46.982055</td>\n",
       "      <td>5.604321</td>\n",
       "      <td>3.626543</td>\n",
       "      <td>37.456243</td>\n",
       "      <td>50.390286</td>\n",
       "      <td>10.104012</td>\n",
       "    </tr>\n",
       "    <tr>\n",
       "      <th>e10+</th>\n",
       "      <td>14.151799</td>\n",
       "      <td>5.181748</td>\n",
       "      <td>2.270012</td>\n",
       "      <td>9.645555</td>\n",
       "      <td>16.059226</td>\n",
       "      <td>7.381371</td>\n",
       "      <td>7.748777</td>\n",
       "      <td>7.494936</td>\n",
       "      <td>4.320988</td>\n",
       "      <td>5.484247</td>\n",
       "      <td>4.553339</td>\n",
       "      <td>11.292719</td>\n",
       "    </tr>\n",
       "    <tr>\n",
       "      <th>ec</th>\n",
       "      <td>0.030239</td>\n",
       "      <td>0.154679</td>\n",
       "      <td>NaN</td>\n",
       "      <td>0.290529</td>\n",
       "      <td>NaN</td>\n",
       "      <td>NaN</td>\n",
       "      <td>NaN</td>\n",
       "      <td>NaN</td>\n",
       "      <td>NaN</td>\n",
       "      <td>NaN</td>\n",
       "      <td>NaN</td>\n",
       "      <td>NaN</td>\n",
       "    </tr>\n",
       "    <tr>\n",
       "      <th>k-a</th>\n",
       "      <td>NaN</td>\n",
       "      <td>NaN</td>\n",
       "      <td>NaN</td>\n",
       "      <td>0.058106</td>\n",
       "      <td>NaN</td>\n",
       "      <td>NaN</td>\n",
       "      <td>NaN</td>\n",
       "      <td>NaN</td>\n",
       "      <td>NaN</td>\n",
       "      <td>NaN</td>\n",
       "      <td>NaN</td>\n",
       "      <td>0.297177</td>\n",
       "    </tr>\n",
       "    <tr>\n",
       "      <th>m</th>\n",
       "      <td>18.022377</td>\n",
       "      <td>7.579273</td>\n",
       "      <td>5.734767</td>\n",
       "      <td>0.755375</td>\n",
       "      <td>0.341686</td>\n",
       "      <td>NaN</td>\n",
       "      <td>1.468189</td>\n",
       "      <td>10.871033</td>\n",
       "      <td>42.669753</td>\n",
       "      <td>0.583431</td>\n",
       "      <td>0.693842</td>\n",
       "      <td>3.714710</td>\n",
       "    </tr>\n",
       "    <tr>\n",
       "      <th>rp</th>\n",
       "      <td>NaN</td>\n",
       "      <td>NaN</td>\n",
       "      <td>NaN</td>\n",
       "      <td>NaN</td>\n",
       "      <td>NaN</td>\n",
       "      <td>NaN</td>\n",
       "      <td>NaN</td>\n",
       "      <td>NaN</td>\n",
       "      <td>NaN</td>\n",
       "      <td>NaN</td>\n",
       "      <td>NaN</td>\n",
       "      <td>0.148588</td>\n",
       "    </tr>\n",
       "    <tr>\n",
       "      <th>t</th>\n",
       "      <td>20.260054</td>\n",
       "      <td>8.816705</td>\n",
       "      <td>42.652330</td>\n",
       "      <td>13.248112</td>\n",
       "      <td>7.175399</td>\n",
       "      <td>1.757469</td>\n",
       "      <td>13.621533</td>\n",
       "      <td>28.021607</td>\n",
       "      <td>26.234568</td>\n",
       "      <td>21.703617</td>\n",
       "      <td>8.456201</td>\n",
       "      <td>23.774146</td>\n",
       "    </tr>\n",
       "    <tr>\n",
       "      <th>unknown</th>\n",
       "      <td>35.107348</td>\n",
       "      <td>65.970611</td>\n",
       "      <td>48.387097</td>\n",
       "      <td>49.912841</td>\n",
       "      <td>36.104784</td>\n",
       "      <td>40.949033</td>\n",
       "      <td>30.179445</td>\n",
       "      <td>48.008103</td>\n",
       "      <td>23.148148</td>\n",
       "      <td>34.772462</td>\n",
       "      <td>35.906331</td>\n",
       "      <td>50.668648</td>\n",
       "    </tr>\n",
       "  </tbody>\n",
       "</table>\n",
       "</div>"
      ],
      "text/plain": [
       "genre       action  adventure   fighting       misc   platform     puzzle  \\\n",
       "rating                                                                      \n",
       "ao        0.030239        NaN        NaN        NaN        NaN        NaN   \n",
       "e        12.397944  12.296984   0.955795  26.089483  40.318907  49.912127   \n",
       "e10+     14.151799   5.181748   2.270012   9.645555  16.059226   7.381371   \n",
       "ec        0.030239   0.154679        NaN   0.290529        NaN        NaN   \n",
       "k-a            NaN        NaN        NaN   0.058106        NaN        NaN   \n",
       "m        18.022377   7.579273   5.734767   0.755375   0.341686        NaN   \n",
       "rp             NaN        NaN        NaN        NaN        NaN        NaN   \n",
       "t        20.260054   8.816705  42.652330  13.248112   7.175399   1.757469   \n",
       "unknown  35.107348  65.970611  48.387097  49.912841  36.104784  40.949033   \n",
       "\n",
       "genre       racing  role-playing    shooter  simulation     sports   strategy  \n",
       "rating                                                                         \n",
       "ao             NaN           NaN        NaN         NaN        NaN        NaN  \n",
       "e        46.982055      5.604321   3.626543   37.456243  50.390286  10.104012  \n",
       "e10+      7.748777      7.494936   4.320988    5.484247   4.553339  11.292719  \n",
       "ec             NaN           NaN        NaN         NaN        NaN        NaN  \n",
       "k-a            NaN           NaN        NaN         NaN        NaN   0.297177  \n",
       "m         1.468189     10.871033  42.669753    0.583431   0.693842   3.714710  \n",
       "rp             NaN           NaN        NaN         NaN        NaN   0.148588  \n",
       "t        13.621533     28.021607  26.234568   21.703617   8.456201  23.774146  \n",
       "unknown  30.179445     48.008103  23.148148   34.772462  35.906331  50.668648  "
      ]
     },
     "metadata": {},
     "output_type": "display_data"
    }
   ],
   "source": [
    "\n",
    "genre_rating = games.pivot_table(index='rating',columns='genre',values='name',aggfunc='count')\n",
    "display(genre_rating)\n",
    "genre_rating_perc = genre_rating \n",
    "column_list = list(genre_rating.columns)\n",
    "for element in column_list:\n",
    "    genre_rating_perc[element] = (100*genre_rating[element])/genre_rating[element].sum() #percentage for each genre\n",
    "display(genre_rating_perc)"
   ]
  },
  {
   "cell_type": "markdown",
   "metadata": {},
   "source": [
    "### Errors search"
   ]
  },
  {
   "cell_type": "code",
   "execution_count": 13,
   "metadata": {
    "scrolled": true
   },
   "outputs": [
    {
     "data": {
      "text/plain": [
       "array(['action', 'adventure', 'fighting', 'misc', 'platform', 'puzzle',\n",
       "       'racing', 'role-playing', 'shooter', 'simulation', 'sports',\n",
       "       'strategy'], dtype=object)"
      ]
     },
     "metadata": {},
     "output_type": "display_data"
    },
    {
     "data": {
      "text/plain": [
       "array(['2600', '3do', '3ds', 'dc', 'ds', 'gb', 'gba', 'gc', 'gen', 'gg',\n",
       "       'n64', 'nes', 'ng', 'pc', 'pcfx', 'ps', 'ps2', 'ps3', 'ps4', 'psp',\n",
       "       'psv', 'sat', 'scd', 'snes', 'tg16', 'wii', 'wiiu', 'ws', 'x360',\n",
       "       'xb', 'xone'], dtype=object)"
      ]
     },
     "metadata": {},
     "output_type": "display_data"
    },
    {
     "data": {
      "text/plain": [
       "array([1980., 1981., 1982., 1983., 1984., 1985., 1986., 1987., 1988.,\n",
       "       1989., 1990., 1991., 1992., 1993., 1994., 1995., 1996., 1997.,\n",
       "       1998., 1999., 2000., 2001., 2002., 2003., 2004., 2005., 2006.,\n",
       "       2007., 2008., 2009., 2010., 2011., 2012., 2013., 2014., 2015.,\n",
       "       2016.])"
      ]
     },
     "metadata": {},
     "output_type": "display_data"
    }
   ],
   "source": [
    "#checking unique genres\n",
    "display(games['genre'].sort_values().unique())\n",
    "\n",
    "#unique platforms\n",
    "display(games['platform'].sort_values().unique())\n",
    "\n",
    "#checking dates\n",
    "display(games['release_year'].sort_values().unique())\n"
   ]
  },
  {
   "cell_type": "markdown",
   "metadata": {},
   "source": [
    "Duplicates and suspicious values were not found. "
   ]
  },
  {
   "cell_type": "markdown",
   "metadata": {},
   "source": [
    "## Additional calculations"
   ]
  },
  {
   "cell_type": "markdown",
   "metadata": {},
   "source": [
    "#### Total sales"
   ]
  },
  {
   "cell_type": "code",
   "execution_count": 14,
   "metadata": {},
   "outputs": [],
   "source": [
    "#adding column with total sales\n",
    "games['total_sales'] = games['na_sales'] + games['eu_sales'] + games['jp_sales'] + games['other_sales']"
   ]
  },
  {
   "cell_type": "markdown",
   "metadata": {},
   "source": [
    "#### Grouping by release year"
   ]
  },
  {
   "cell_type": "code",
   "execution_count": 15,
   "metadata": {},
   "outputs": [
    {
     "data": {
      "text/html": [
       "<div>\n",
       "<style scoped>\n",
       "    .dataframe tbody tr th:only-of-type {\n",
       "        vertical-align: middle;\n",
       "    }\n",
       "\n",
       "    .dataframe tbody tr th {\n",
       "        vertical-align: top;\n",
       "    }\n",
       "\n",
       "    .dataframe thead th {\n",
       "        text-align: right;\n",
       "    }\n",
       "</style>\n",
       "<table border=\"1\" class=\"dataframe\">\n",
       "  <thead>\n",
       "    <tr style=\"text-align: right;\">\n",
       "      <th></th>\n",
       "      <th>release_year</th>\n",
       "      <th>platform</th>\n",
       "      <th>eu_sales</th>\n",
       "      <th>jp_sales</th>\n",
       "      <th>na_sales</th>\n",
       "      <th>other_sales</th>\n",
       "      <th>total_sales</th>\n",
       "      <th>games_released</th>\n",
       "    </tr>\n",
       "  </thead>\n",
       "  <tbody>\n",
       "    <tr>\n",
       "      <th>0</th>\n",
       "      <td>1980.0</td>\n",
       "      <td>2600</td>\n",
       "      <td>0.67</td>\n",
       "      <td>0.0</td>\n",
       "      <td>10.59</td>\n",
       "      <td>0.12</td>\n",
       "      <td>11.38</td>\n",
       "      <td>9</td>\n",
       "    </tr>\n",
       "    <tr>\n",
       "      <th>1</th>\n",
       "      <td>1981.0</td>\n",
       "      <td>2600</td>\n",
       "      <td>1.96</td>\n",
       "      <td>0.0</td>\n",
       "      <td>33.40</td>\n",
       "      <td>0.32</td>\n",
       "      <td>35.68</td>\n",
       "      <td>46</td>\n",
       "    </tr>\n",
       "    <tr>\n",
       "      <th>2</th>\n",
       "      <td>1982.0</td>\n",
       "      <td>2600</td>\n",
       "      <td>1.65</td>\n",
       "      <td>0.0</td>\n",
       "      <td>26.92</td>\n",
       "      <td>0.31</td>\n",
       "      <td>28.88</td>\n",
       "      <td>36</td>\n",
       "    </tr>\n",
       "    <tr>\n",
       "      <th>3</th>\n",
       "      <td>1983.0</td>\n",
       "      <td>2600</td>\n",
       "      <td>0.34</td>\n",
       "      <td>0.0</td>\n",
       "      <td>5.44</td>\n",
       "      <td>0.06</td>\n",
       "      <td>5.84</td>\n",
       "      <td>11</td>\n",
       "    </tr>\n",
       "    <tr>\n",
       "      <th>4</th>\n",
       "      <td>1983.0</td>\n",
       "      <td>nes</td>\n",
       "      <td>0.46</td>\n",
       "      <td>8.1</td>\n",
       "      <td>2.32</td>\n",
       "      <td>0.08</td>\n",
       "      <td>10.96</td>\n",
       "      <td>6</td>\n",
       "    </tr>\n",
       "  </tbody>\n",
       "</table>\n",
       "</div>"
      ],
      "text/plain": [
       "   release_year platform  eu_sales  jp_sales  na_sales  other_sales  \\\n",
       "0        1980.0     2600      0.67       0.0     10.59         0.12   \n",
       "1        1981.0     2600      1.96       0.0     33.40         0.32   \n",
       "2        1982.0     2600      1.65       0.0     26.92         0.31   \n",
       "3        1983.0     2600      0.34       0.0      5.44         0.06   \n",
       "4        1983.0      nes      0.46       8.1      2.32         0.08   \n",
       "\n",
       "   total_sales  games_released  \n",
       "0        11.38               9  \n",
       "1        35.68              46  \n",
       "2        28.88              36  \n",
       "3         5.84              11  \n",
       "4        10.96               6  "
      ]
     },
     "metadata": {},
     "output_type": "display_data"
    }
   ],
   "source": [
    "#creating pivot table by release year\n",
    "#sum up sales for each platform \n",
    "games_by_year = games.pivot_table(index=['release_year','platform'],values=['na_sales','eu_sales','jp_sales','other_sales','total_sales'],aggfunc='sum')\n",
    "#calculationg amount of released games for each platform:\n",
    "games_count = games.pivot_table(index=['release_year','platform'],values='name',aggfunc='count')\n",
    "games_count.columns=['games_released']\n",
    "games_by_year = games_by_year.merge(games_count,on=['release_year','platform'],how='outer') \n",
    "games_by_year = games_by_year.reset_index()\n",
    "\n",
    "display(games_by_year.head(5))\n"
   ]
  },
  {
   "cell_type": "markdown",
   "metadata": {},
   "source": [
    "#### Grouping by genre"
   ]
  },
  {
   "cell_type": "code",
   "execution_count": 16,
   "metadata": {},
   "outputs": [],
   "source": [
    "#function for grouping by column\n",
    "#with column and table names as arguments\n",
    "#function creates pivot table, summing up sales for chosen group\n",
    "#also adding total amount of released games \n",
    "def grouping(column,data):\n",
    "    resulting_table = data.pivot_table(index=[column],values=['na_sales','eu_sales','jp_sales','other_sales','total_sales'],aggfunc='sum')\n",
    "    counter = data.pivot_table(index=[column],values='name',aggfunc='count')\n",
    "    counter.columns = ['games_released']\n",
    "    resulting_table = resulting_table.merge(counter,on=[column],how='outer')\n",
    "    resulting_table = resulting_table.reset_index()\n",
    "    return resulting_table"
   ]
  },
  {
   "cell_type": "code",
   "execution_count": 17,
   "metadata": {
    "scrolled": true
   },
   "outputs": [
    {
     "data": {
      "text/html": [
       "<div>\n",
       "<style scoped>\n",
       "    .dataframe tbody tr th:only-of-type {\n",
       "        vertical-align: middle;\n",
       "    }\n",
       "\n",
       "    .dataframe tbody tr th {\n",
       "        vertical-align: top;\n",
       "    }\n",
       "\n",
       "    .dataframe thead th {\n",
       "        text-align: right;\n",
       "    }\n",
       "</style>\n",
       "<table border=\"1\" class=\"dataframe\">\n",
       "  <thead>\n",
       "    <tr style=\"text-align: right;\">\n",
       "      <th></th>\n",
       "      <th>genre</th>\n",
       "      <th>eu_sales</th>\n",
       "      <th>jp_sales</th>\n",
       "      <th>na_sales</th>\n",
       "      <th>other_sales</th>\n",
       "      <th>total_sales</th>\n",
       "      <th>games_released</th>\n",
       "    </tr>\n",
       "  </thead>\n",
       "  <tbody>\n",
       "    <tr>\n",
       "      <th>0</th>\n",
       "      <td>action</td>\n",
       "      <td>510.99</td>\n",
       "      <td>160.14</td>\n",
       "      <td>863.17</td>\n",
       "      <td>182.22</td>\n",
       "      <td>1716.52</td>\n",
       "      <td>3307</td>\n",
       "    </tr>\n",
       "    <tr>\n",
       "      <th>1</th>\n",
       "      <td>adventure</td>\n",
       "      <td>63.20</td>\n",
       "      <td>52.24</td>\n",
       "      <td>101.52</td>\n",
       "      <td>16.37</td>\n",
       "      <td>233.33</td>\n",
       "      <td>1293</td>\n",
       "    </tr>\n",
       "    <tr>\n",
       "      <th>2</th>\n",
       "      <td>fighting</td>\n",
       "      <td>99.00</td>\n",
       "      <td>87.28</td>\n",
       "      <td>220.51</td>\n",
       "      <td>35.87</td>\n",
       "      <td>442.66</td>\n",
       "      <td>837</td>\n",
       "    </tr>\n",
       "    <tr>\n",
       "      <th>3</th>\n",
       "      <td>misc</td>\n",
       "      <td>210.60</td>\n",
       "      <td>107.02</td>\n",
       "      <td>399.57</td>\n",
       "      <td>73.10</td>\n",
       "      <td>790.29</td>\n",
       "      <td>1721</td>\n",
       "    </tr>\n",
       "    <tr>\n",
       "      <th>4</th>\n",
       "      <td>platform</td>\n",
       "      <td>199.39</td>\n",
       "      <td>130.71</td>\n",
       "      <td>444.44</td>\n",
       "      <td>51.01</td>\n",
       "      <td>825.55</td>\n",
       "      <td>878</td>\n",
       "    </tr>\n",
       "  </tbody>\n",
       "</table>\n",
       "</div>"
      ],
      "text/plain": [
       "       genre  eu_sales  jp_sales  na_sales  other_sales  total_sales  \\\n",
       "0     action    510.99    160.14    863.17       182.22      1716.52   \n",
       "1  adventure     63.20     52.24    101.52        16.37       233.33   \n",
       "2   fighting     99.00     87.28    220.51        35.87       442.66   \n",
       "3       misc    210.60    107.02    399.57        73.10       790.29   \n",
       "4   platform    199.39    130.71    444.44        51.01       825.55   \n",
       "\n",
       "   games_released  \n",
       "0            3307  \n",
       "1            1293  \n",
       "2             837  \n",
       "3            1721  \n",
       "4             878  "
      ]
     },
     "metadata": {},
     "output_type": "display_data"
    }
   ],
   "source": [
    "#using function for grouping by genre\n",
    "games_by_genre = grouping('genre',games)\n",
    "\n",
    "display(games_by_genre.head(5))\n"
   ]
  },
  {
   "cell_type": "markdown",
   "metadata": {},
   "source": [
    "#### Grouping by platform"
   ]
  },
  {
   "cell_type": "code",
   "execution_count": 18,
   "metadata": {},
   "outputs": [
    {
     "data": {
      "text/html": [
       "<div>\n",
       "<style scoped>\n",
       "    .dataframe tbody tr th:only-of-type {\n",
       "        vertical-align: middle;\n",
       "    }\n",
       "\n",
       "    .dataframe tbody tr th {\n",
       "        vertical-align: top;\n",
       "    }\n",
       "\n",
       "    .dataframe thead th {\n",
       "        text-align: right;\n",
       "    }\n",
       "</style>\n",
       "<table border=\"1\" class=\"dataframe\">\n",
       "  <thead>\n",
       "    <tr style=\"text-align: right;\">\n",
       "      <th></th>\n",
       "      <th>platform</th>\n",
       "      <th>eu_sales</th>\n",
       "      <th>jp_sales</th>\n",
       "      <th>na_sales</th>\n",
       "      <th>other_sales</th>\n",
       "      <th>total_sales</th>\n",
       "      <th>games_released</th>\n",
       "    </tr>\n",
       "  </thead>\n",
       "  <tbody>\n",
       "    <tr>\n",
       "      <th>0</th>\n",
       "      <td>2600</td>\n",
       "      <td>4.86</td>\n",
       "      <td>0.00</td>\n",
       "      <td>80.78</td>\n",
       "      <td>0.84</td>\n",
       "      <td>86.48</td>\n",
       "      <td>116</td>\n",
       "    </tr>\n",
       "    <tr>\n",
       "      <th>1</th>\n",
       "      <td>3do</td>\n",
       "      <td>0.00</td>\n",
       "      <td>0.10</td>\n",
       "      <td>0.00</td>\n",
       "      <td>0.00</td>\n",
       "      <td>0.10</td>\n",
       "      <td>3</td>\n",
       "    </tr>\n",
       "    <tr>\n",
       "      <th>2</th>\n",
       "      <td>3ds</td>\n",
       "      <td>61.27</td>\n",
       "      <td>100.62</td>\n",
       "      <td>82.65</td>\n",
       "      <td>13.27</td>\n",
       "      <td>257.81</td>\n",
       "      <td>512</td>\n",
       "    </tr>\n",
       "    <tr>\n",
       "      <th>3</th>\n",
       "      <td>dc</td>\n",
       "      <td>1.69</td>\n",
       "      <td>8.56</td>\n",
       "      <td>5.43</td>\n",
       "      <td>0.27</td>\n",
       "      <td>15.95</td>\n",
       "      <td>52</td>\n",
       "    </tr>\n",
       "    <tr>\n",
       "      <th>4</th>\n",
       "      <td>ds</td>\n",
       "      <td>188.41</td>\n",
       "      <td>175.02</td>\n",
       "      <td>380.31</td>\n",
       "      <td>59.04</td>\n",
       "      <td>802.78</td>\n",
       "      <td>2121</td>\n",
       "    </tr>\n",
       "  </tbody>\n",
       "</table>\n",
       "</div>"
      ],
      "text/plain": [
       "  platform  eu_sales  jp_sales  na_sales  other_sales  total_sales  \\\n",
       "0     2600      4.86      0.00     80.78         0.84        86.48   \n",
       "1      3do      0.00      0.10      0.00         0.00         0.10   \n",
       "2      3ds     61.27    100.62     82.65        13.27       257.81   \n",
       "3       dc      1.69      8.56      5.43         0.27        15.95   \n",
       "4       ds    188.41    175.02    380.31        59.04       802.78   \n",
       "\n",
       "   games_released  \n",
       "0             116  \n",
       "1               3  \n",
       "2             512  \n",
       "3              52  \n",
       "4            2121  "
      ]
     },
     "metadata": {},
     "output_type": "display_data"
    }
   ],
   "source": [
    "games_by_platform = grouping('platform',games)\n",
    "display(games_by_platform.head(5))"
   ]
  },
  {
   "cell_type": "markdown",
   "metadata": {},
   "source": [
    "#### Grouping by age rating"
   ]
  },
  {
   "cell_type": "code",
   "execution_count": 19,
   "metadata": {},
   "outputs": [
    {
     "data": {
      "text/html": [
       "<div>\n",
       "<style scoped>\n",
       "    .dataframe tbody tr th:only-of-type {\n",
       "        vertical-align: middle;\n",
       "    }\n",
       "\n",
       "    .dataframe tbody tr th {\n",
       "        vertical-align: top;\n",
       "    }\n",
       "\n",
       "    .dataframe thead th {\n",
       "        text-align: right;\n",
       "    }\n",
       "</style>\n",
       "<table border=\"1\" class=\"dataframe\">\n",
       "  <thead>\n",
       "    <tr style=\"text-align: right;\">\n",
       "      <th></th>\n",
       "      <th>rating</th>\n",
       "      <th>eu_sales</th>\n",
       "      <th>jp_sales</th>\n",
       "      <th>na_sales</th>\n",
       "      <th>other_sales</th>\n",
       "      <th>total_sales</th>\n",
       "      <th>games_released</th>\n",
       "    </tr>\n",
       "  </thead>\n",
       "  <tbody>\n",
       "    <tr>\n",
       "      <th>0</th>\n",
       "      <td>ao</td>\n",
       "      <td>0.61</td>\n",
       "      <td>0.00</td>\n",
       "      <td>1.26</td>\n",
       "      <td>0.09</td>\n",
       "      <td>1.96</td>\n",
       "      <td>1</td>\n",
       "    </tr>\n",
       "    <tr>\n",
       "      <th>1</th>\n",
       "      <td>e</td>\n",
       "      <td>703.87</td>\n",
       "      <td>197.96</td>\n",
       "      <td>1274.24</td>\n",
       "      <td>231.54</td>\n",
       "      <td>2407.61</td>\n",
       "      <td>3921</td>\n",
       "    </tr>\n",
       "    <tr>\n",
       "      <th>2</th>\n",
       "      <td>e10+</td>\n",
       "      <td>183.35</td>\n",
       "      <td>40.20</td>\n",
       "      <td>345.50</td>\n",
       "      <td>71.93</td>\n",
       "      <td>640.98</td>\n",
       "      <td>1393</td>\n",
       "    </tr>\n",
       "    <tr>\n",
       "      <th>3</th>\n",
       "      <td>ec</td>\n",
       "      <td>0.11</td>\n",
       "      <td>0.00</td>\n",
       "      <td>1.53</td>\n",
       "      <td>0.11</td>\n",
       "      <td>1.75</td>\n",
       "      <td>8</td>\n",
       "    </tr>\n",
       "    <tr>\n",
       "      <th>4</th>\n",
       "      <td>k-a</td>\n",
       "      <td>0.27</td>\n",
       "      <td>1.46</td>\n",
       "      <td>2.56</td>\n",
       "      <td>0.03</td>\n",
       "      <td>4.32</td>\n",
       "      <td>3</td>\n",
       "    </tr>\n",
       "  </tbody>\n",
       "</table>\n",
       "</div>"
      ],
      "text/plain": [
       "  rating  eu_sales  jp_sales  na_sales  other_sales  total_sales  \\\n",
       "0     ao      0.61      0.00      1.26         0.09         1.96   \n",
       "1      e    703.87    197.96   1274.24       231.54      2407.61   \n",
       "2   e10+    183.35     40.20    345.50        71.93       640.98   \n",
       "3     ec      0.11      0.00      1.53         0.11         1.75   \n",
       "4    k-a      0.27      1.46      2.56         0.03         4.32   \n",
       "\n",
       "   games_released  \n",
       "0               1  \n",
       "1            3921  \n",
       "2            1393  \n",
       "3               8  \n",
       "4               3  "
      ]
     },
     "metadata": {},
     "output_type": "display_data"
    }
   ],
   "source": [
    "games_by_ESRB = grouping('rating',games)\n",
    "display(games_by_ESRB.head(5))"
   ]
  },
  {
   "cell_type": "markdown",
   "metadata": {},
   "source": [
    "#### Other supporting tables"
   ]
  },
  {
   "cell_type": "code",
   "execution_count": 20,
   "metadata": {},
   "outputs": [],
   "source": [
    "#platforms list:\n",
    "platforms = games['platform'].sort_values().unique()\n",
    "#genres list:\n",
    "genres = games['genre'].sort_values().unique()"
   ]
  },
  {
   "cell_type": "markdown",
   "metadata": {},
   "source": [
    "## Exploratory data analysis"
   ]
  },
  {
   "cell_type": "markdown",
   "metadata": {},
   "source": [
    "### Dictionaries"
   ]
  },
  {
   "cell_type": "code",
   "execution_count": 21,
   "metadata": {},
   "outputs": [],
   "source": [
    "#making dictionaries for plot annotation\n",
    "entity_dict = {'mean_sales':'mean_sales','total_sales':'total_sales','name':'name','platform':'platform', 'release_year':'year', 'genre':'genre', 'na_sales':'na_sales', 'eu_sales':'eu_sales', 'jp_sales':'jp_sales', 'other_sales':'other_sales', 'critic_score':'critic_score', 'user_score':'user_score', 'rating':'ESRB rating','games_released':'games' }\n",
    "unit_dict = {'mean_sales':'M copies','total_sales':'M copies','name':'','platform':'', 'release_year':'', 'genre':'', 'na_sales':'M copies', 'eu_sales':'M copies', 'jp_sales':'M copies', 'other_sales':'M copies', 'critic_score':'', 'user_score':'', 'rating':'','games_released':'pc.'}"
   ]
  },
  {
   "cell_type": "markdown",
   "metadata": {},
   "source": [
    "### Additional functions"
   ]
  },
  {
   "cell_type": "code",
   "execution_count": 22,
   "metadata": {
    "scrolled": true
   },
   "outputs": [
    {
     "name": "stdout",
     "output_type": "stream",
     "text": [
      "<class 'pandas.core.frame.DataFrame'>\n",
      "Int64Index: 16444 entries, 0 to 16714\n",
      "Data columns (total 12 columns):\n",
      " #   Column        Non-Null Count  Dtype  \n",
      "---  ------        --------------  -----  \n",
      " 0   name          16444 non-null  object \n",
      " 1   platform      16444 non-null  object \n",
      " 2   release_year  16444 non-null  float64\n",
      " 3   genre         16444 non-null  object \n",
      " 4   na_sales      16444 non-null  float64\n",
      " 5   eu_sales      16444 non-null  float64\n",
      " 6   jp_sales      16444 non-null  float64\n",
      " 7   other_sales   16444 non-null  float64\n",
      " 8   critic_score  16444 non-null  float64\n",
      " 9   user_score    16444 non-null  float64\n",
      " 10  rating        16444 non-null  object \n",
      " 11  total_sales   16444 non-null  float64\n",
      "dtypes: float64(8), object(4)\n",
      "memory usage: 1.6+ MB\n"
     ]
    },
    {
     "data": {
      "text/plain": [
       "None"
      ]
     },
     "metadata": {},
     "output_type": "display_data"
    }
   ],
   "source": [
    "display(games.info()) "
   ]
  },
  {
   "cell_type": "markdown",
   "metadata": {},
   "source": [
    "#### Functions for visualization"
   ]
  },
  {
   "cell_type": "markdown",
   "metadata": {},
   "source": [
    "##### Bar charts"
   ]
  },
  {
   "cell_type": "code",
   "execution_count": 23,
   "metadata": {},
   "outputs": [],
   "source": [
    "# bar chart for argument, variable, table\n",
    "def bar_chart(argument,variable,data):\n",
    "    x = data[argument]\n",
    "    y = data[variable]\n",
    "    fig,ax = plt.subplots(figsize=(12,6))\n",
    "    ax.bar(x,y)\n",
    "    title = variable + ' by ' + argument          #name               \n",
    "    xlabel = entity_dict[argument]#axis names\n",
    "    ylabel = entity_dict[variable]\n",
    "    \n",
    "    if unit_dict[argument] != '':   #adding unit if there is one in the dictionary\n",
    "        xlabel += ', ' + unit_dict[argument] \n",
    "    if unit_dict[variable] != '':   #adding unit\n",
    "        ylabel += ', ' + unit_dict[variable] \n",
    "    \n",
    "    ax.set_xlabel(xlabel)    #adding axis name                               \n",
    "    ax.set_ylabel(ylabel)\n",
    "    ax.set_title(title)\n",
    "   \n"
   ]
  },
  {
   "cell_type": "code",
   "execution_count": 24,
   "metadata": {},
   "outputs": [],
   "source": [
    "#bar chart sorted by ascending variable\n",
    "def bar_sorted(argument,variable,data):\n",
    "    data = data.sort_values(by=variable) #sorting in ascending order\n",
    "    x = data[argument]\n",
    "    y = data[variable]\n",
    "    fig,ax = plt.subplots(figsize=(12,6))\n",
    "    ax.bar(x,y)\n",
    "    title = variable + ' by ' + argument          #name   \n",
    "    \n",
    "    xlabel = entity_dict[argument]#axis names\n",
    "    ylabel = entity_dict[variable]\n",
    "    \n",
    "    if unit_dict[argument] != '':   #units from the dicts\n",
    "        xlabel += ', ' + unit_dict[argument] \n",
    "    if unit_dict[variable] != '':   #units from the dicts\n",
    "        ylabel += ', ' + unit_dict[variable] \n",
    "    \n",
    "    ax.set_xlabel(xlabel)    #adding axis name                              \n",
    "    ax.set_ylabel(ylabel)\n",
    "    ax.set_title(title)\n",
    "   "
   ]
  },
  {
   "cell_type": "markdown",
   "metadata": {},
   "source": [
    "##### Just plots"
   ]
  },
  {
   "cell_type": "code",
   "execution_count": 25,
   "metadata": {},
   "outputs": [],
   "source": [
    "  \n",
    "#plot for argument, variable, table, platform list\n",
    "\n",
    "def tzar_plot(argument,variable,data,sub_list):\n",
    "    fig,ax = plt.subplots(figsize=(10,6))\n",
    "    for element in sub_list: \n",
    "    \n",
    "        x = data.query('platform == @element')[argument] \n",
    "        y = data.query('platform == @element')[variable]\n",
    "        ax.plot(x,y,label=element, alpha=0.8)\n",
    "    \n",
    "    xlabel = entity_dict[argument]#axis names\n",
    "    ylabel = entity_dict[variable]\n",
    "    \n",
    "    if unit_dict[argument] != '':   #units from the dicts\n",
    "        xlabel += ', ' + unit_dict[argument] \n",
    "    if unit_dict[variable] != '':   #units from the dicts\n",
    "        ylabel += ', ' + unit_dict[variable]\n",
    "        \n",
    "    ax.set_xlabel(xlabel)                                    \n",
    "    ax.set_ylabel(ylabel)\n",
    "    \n",
    "    title = variable + ' by ' + argument\n",
    "    ax.set_title(title)\n",
    "    \n",
    "    ax.legend()\n",
    "    ax.tick_params(which='major', length=5, width=2)\n",
    "    ax.tick_params(which='minor', length=5, width=1)\n",
    "    ax.grid(which='major', linewidth=1.2)\n",
    "    ax.grid(which='minor', linestyle='--', color='gray', linewidth=0.5)\n",
    "    plt.show()"
   ]
  },
  {
   "cell_type": "markdown",
   "metadata": {},
   "source": [
    "##### Box plot"
   ]
  },
  {
   "cell_type": "code",
   "execution_count": 26,
   "metadata": {},
   "outputs": [],
   "source": [
    "#many boxplots for variable, table, platforms list\n",
    "#boxes on different subplots\n",
    "def boxes(variable,data,sub_list):\n",
    "    number = len(sub_list) #number of plots\n",
    "    number_i = number - 1 \n",
    "    rows_number = int(np.ceil(number/2)) #2 in a row\n",
    "    \n",
    "    rows_number_i = rows_number - 1\n",
    "    height = rows_number*8\n",
    "    fig,ax = plt.subplots(rows_number,2,figsize=(32,height))\n",
    "    \n",
    "    for i in range (0,rows_number):  #row\n",
    "        for j in range (0,2):   #column\n",
    "            text = sub_list[2*i+j] #name \n",
    "            ylabel = entity_dict[variable]\n",
    "            if unit_dict[variable] != '':   #unit\n",
    "                ylabel += ', ' + unit_dict[variable]\n",
    "            \n",
    "            ax[i,j].boxplot(data[data['platform'] == sub_list[2*i+j]][variable]) #making plot\n",
    "            ax[i,j].set_title(text)\n",
    "            ax[i,j].set_ylabel(ylabel)\n",
    "           \n",
    "           \n"
   ]
  },
  {
   "cell_type": "markdown",
   "metadata": {},
   "source": [
    "#### Hypotheses check"
   ]
  },
  {
   "cell_type": "code",
   "execution_count": 27,
   "metadata": {},
   "outputs": [],
   "source": [
    "#making function for hypotheses check\n",
    "#function for checking hypotheses about the equality of the mean of two general populations\n",
    "#getting 2 samples, text, and significance lewel\n",
    "def mean_comparison(sample1,sample2,H0,alpha): \n",
    "    result = st.ttest_ind(sample1,sample2)\n",
    "    print('Null hypothesis:', H0)\n",
    "    print('p-value:', result.pvalue)\n",
    "    if result.pvalue < alpha:\n",
    "        print('There is a reason to reject the null hypothesis')\n",
    "    else:\n",
    "        print('There is no reason to reject the null hypothesis')"
   ]
  },
  {
   "cell_type": "markdown",
   "metadata": {},
   "source": [
    "#### Mean, variance and standard deviation"
   ]
  },
  {
   "cell_type": "code",
   "execution_count": 28,
   "metadata": {},
   "outputs": [],
   "source": [
    "#function for calculation of mean, variance and standard deviation\n",
    "def mean_info(variable,table,group): #variable, in which table, variable for grouping\n",
    "    \n",
    "    grouped = table.pivot_table(index=group,values=variable) #calculating mean values for every group\n",
    "    grouped = grouped.reset_index()\n",
    "    grouped.columns = [group,'mean']\n",
    "    \n",
    "    iteration_list = table[group].unique() #list of unique groups\n",
    "    dispersion = []\n",
    "    for element in iteration_list: #calculating variance\n",
    "        var_group = np.var(table[table[group] ==element][variable]) #variance for every group\n",
    "        dispersion.append(var_group)\n",
    "    grouped['variation'] = dispersion\n",
    "    \n",
    "    grouped['stdiv'] = np.sqrt(grouped['variation']) #adding standard deviation\n",
    "    \n",
    "    return grouped  #returning table with calculated values"
   ]
  },
  {
   "cell_type": "markdown",
   "metadata": {},
   "source": [
    "### Identification of the relevant period for the next year prognosis"
   ]
  },
  {
   "cell_type": "markdown",
   "metadata": {},
   "source": [
    "#### Amount of games by year"
   ]
  },
  {
   "cell_type": "markdown",
   "metadata": {},
   "source": [
    "How many games were released in a year over the whole taken period."
   ]
  },
  {
   "cell_type": "code",
   "execution_count": 29,
   "metadata": {
    "scrolled": false
   },
   "outputs": [
    {
     "data": {
      "image/png": "[encoded data removed]",
      "text/plain": [
       "<Figure size 864x432 with 1 Axes>"
      ]
     },
     "metadata": {
      "needs_background": "light"
     },
     "output_type": "display_data"
    }
   ],
   "source": [
    "bar_chart('release_year','games_released',games_by_year) #from additional functions"
   ]
  },
  {
   "cell_type": "markdown",
   "metadata": {},
   "source": [
    "Before 1994-95 not many games were being released every year. After 2001 till the end of 2009 the amount of released games had been increased dramatically, and then dropped again. Must probably that time mobile gaming took its place."
   ]
  },
  {
   "cell_type": "markdown",
   "metadata": {},
   "source": [
    "#### Sales change"
   ]
  },
  {
   "cell_type": "markdown",
   "metadata": {},
   "source": [
    "Lets look at the sales by platform."
   ]
  },
  {
   "cell_type": "code",
   "execution_count": 30,
   "metadata": {
    "scrolled": true
   },
   "outputs": [
    {
     "data": {
      "text/html": [
       "<div>\n",
       "<style scoped>\n",
       "    .dataframe tbody tr th:only-of-type {\n",
       "        vertical-align: middle;\n",
       "    }\n",
       "\n",
       "    .dataframe tbody tr th {\n",
       "        vertical-align: top;\n",
       "    }\n",
       "\n",
       "    .dataframe thead th {\n",
       "        text-align: right;\n",
       "    }\n",
       "</style>\n",
       "<table border=\"1\" class=\"dataframe\">\n",
       "  <thead>\n",
       "    <tr style=\"text-align: right;\">\n",
       "      <th></th>\n",
       "      <th>games_released</th>\n",
       "      <th>total_sales</th>\n",
       "    </tr>\n",
       "    <tr>\n",
       "      <th>platform</th>\n",
       "      <th></th>\n",
       "      <th></th>\n",
       "    </tr>\n",
       "  </thead>\n",
       "  <tbody>\n",
       "    <tr>\n",
       "      <th>ps2</th>\n",
       "      <td>2127</td>\n",
       "      <td>1233.56</td>\n",
       "    </tr>\n",
       "    <tr>\n",
       "      <th>x360</th>\n",
       "      <td>1232</td>\n",
       "      <td>961.24</td>\n",
       "    </tr>\n",
       "    <tr>\n",
       "      <th>ps3</th>\n",
       "      <td>1306</td>\n",
       "      <td>931.34</td>\n",
       "    </tr>\n",
       "    <tr>\n",
       "      <th>wii</th>\n",
       "      <td>1286</td>\n",
       "      <td>891.18</td>\n",
       "    </tr>\n",
       "    <tr>\n",
       "      <th>ds</th>\n",
       "      <td>2121</td>\n",
       "      <td>802.78</td>\n",
       "    </tr>\n",
       "    <tr>\n",
       "      <th>ps</th>\n",
       "      <td>1190</td>\n",
       "      <td>727.58</td>\n",
       "    </tr>\n",
       "    <tr>\n",
       "      <th>ps4</th>\n",
       "      <td>392</td>\n",
       "      <td>314.14</td>\n",
       "    </tr>\n",
       "    <tr>\n",
       "      <th>gba</th>\n",
       "      <td>811</td>\n",
       "      <td>312.88</td>\n",
       "    </tr>\n",
       "    <tr>\n",
       "      <th>psp</th>\n",
       "      <td>1193</td>\n",
       "      <td>289.53</td>\n",
       "    </tr>\n",
       "    <tr>\n",
       "      <th>3ds</th>\n",
       "      <td>512</td>\n",
       "      <td>257.81</td>\n",
       "    </tr>\n",
       "    <tr>\n",
       "      <th>pc</th>\n",
       "      <td>957</td>\n",
       "      <td>255.76</td>\n",
       "    </tr>\n",
       "    <tr>\n",
       "      <th>gb</th>\n",
       "      <td>97</td>\n",
       "      <td>254.43</td>\n",
       "    </tr>\n",
       "    <tr>\n",
       "      <th>xb</th>\n",
       "      <td>803</td>\n",
       "      <td>251.57</td>\n",
       "    </tr>\n",
       "    <tr>\n",
       "      <th>nes</th>\n",
       "      <td>98</td>\n",
       "      <td>251.05</td>\n",
       "    </tr>\n",
       "    <tr>\n",
       "      <th>n64</th>\n",
       "      <td>316</td>\n",
       "      <td>218.01</td>\n",
       "    </tr>\n",
       "  </tbody>\n",
       "</table>\n",
       "</div>"
      ],
      "text/plain": [
       "          games_released  total_sales\n",
       "platform                             \n",
       "ps2                 2127      1233.56\n",
       "x360                1232       961.24\n",
       "ps3                 1306       931.34\n",
       "wii                 1286       891.18\n",
       "ds                  2121       802.78\n",
       "ps                  1190       727.58\n",
       "ps4                  392       314.14\n",
       "gba                  811       312.88\n",
       "psp                 1193       289.53\n",
       "3ds                  512       257.81\n",
       "pc                   957       255.76\n",
       "gb                    97       254.43\n",
       "xb                   803       251.57\n",
       "nes                   98       251.05\n",
       "n64                  316       218.01"
      ]
     },
     "metadata": {},
     "output_type": "display_data"
    },
    {
     "data": {
      "text/html": [
       "<div>\n",
       "<style scoped>\n",
       "    .dataframe tbody tr th:only-of-type {\n",
       "        vertical-align: middle;\n",
       "    }\n",
       "\n",
       "    .dataframe tbody tr th {\n",
       "        vertical-align: top;\n",
       "    }\n",
       "\n",
       "    .dataframe thead th {\n",
       "        text-align: right;\n",
       "    }\n",
       "</style>\n",
       "<table border=\"1\" class=\"dataframe\">\n",
       "  <thead>\n",
       "    <tr style=\"text-align: right;\">\n",
       "      <th></th>\n",
       "      <th>games_released</th>\n",
       "      <th>total_sales</th>\n",
       "    </tr>\n",
       "  </thead>\n",
       "  <tbody>\n",
       "    <tr>\n",
       "      <th>count</th>\n",
       "      <td>31.000000</td>\n",
       "      <td>31.000000</td>\n",
       "    </tr>\n",
       "    <tr>\n",
       "      <th>mean</th>\n",
       "      <td>530.451613</td>\n",
       "      <td>284.334516</td>\n",
       "    </tr>\n",
       "    <tr>\n",
       "      <th>std</th>\n",
       "      <td>617.367467</td>\n",
       "      <td>343.954144</td>\n",
       "    </tr>\n",
       "    <tr>\n",
       "      <th>min</th>\n",
       "      <td>1.000000</td>\n",
       "      <td>0.030000</td>\n",
       "    </tr>\n",
       "    <tr>\n",
       "      <th>25%</th>\n",
       "      <td>39.500000</td>\n",
       "      <td>22.150000</td>\n",
       "    </tr>\n",
       "    <tr>\n",
       "      <th>50%</th>\n",
       "      <td>247.000000</td>\n",
       "      <td>200.040000</td>\n",
       "    </tr>\n",
       "    <tr>\n",
       "      <th>75%</th>\n",
       "      <td>884.000000</td>\n",
       "      <td>301.205000</td>\n",
       "    </tr>\n",
       "    <tr>\n",
       "      <th>max</th>\n",
       "      <td>2127.000000</td>\n",
       "      <td>1233.560000</td>\n",
       "    </tr>\n",
       "  </tbody>\n",
       "</table>\n",
       "</div>"
      ],
      "text/plain": [
       "       games_released  total_sales\n",
       "count       31.000000    31.000000\n",
       "mean       530.451613   284.334516\n",
       "std        617.367467   343.954144\n",
       "min          1.000000     0.030000\n",
       "25%         39.500000    22.150000\n",
       "50%        247.000000   200.040000\n",
       "75%        884.000000   301.205000\n",
       "max       2127.000000  1233.560000"
      ]
     },
     "execution_count": 30,
     "metadata": {},
     "output_type": "execute_result"
    }
   ],
   "source": [
    "platforms_total_sales = games_by_year.pivot_table(index='platform',values=['total_sales','games_released'],aggfunc='sum')\n",
    "#showing first 15 trading platforms:\n",
    "display(platforms_total_sales.sort_values(by='total_sales',ascending=False).head(15))\n",
    "#and descriptions of them\n",
    "platforms_total_sales.describe()\n"
   ]
  },
  {
   "cell_type": "markdown",
   "metadata": {},
   "source": [
    "Lets take 25% of the best, which sales comprise more than 300M copies and follow their sales history.\n"
   ]
  },
  {
   "cell_type": "code",
   "execution_count": 31,
   "metadata": {
    "scrolled": true
   },
   "outputs": [
    {
     "name": "stderr",
     "output_type": "stream",
     "text": [
      "C:\\Users\\Anastasia\\anaconda3\\envs\\praktikum_env\\lib\\site-packages\\matplotlib\\cbook\\__init__.py:1402: FutureWarning: Support for multi-dimensional indexing (e.g. `obj[:, None]`) is deprecated and will be removed in a future version.  Convert to a numpy array before indexing instead.\n",
      "  x[:, None]\n",
      "C:\\Users\\Anastasia\\anaconda3\\envs\\praktikum_env\\lib\\site-packages\\matplotlib\\axes\\_base.py:276: FutureWarning: Support for multi-dimensional indexing (e.g. `obj[:, None]`) is deprecated and will be removed in a future version.  Convert to a numpy array before indexing instead.\n",
      "  x = x[:, np.newaxis]\n",
      "C:\\Users\\Anastasia\\anaconda3\\envs\\praktikum_env\\lib\\site-packages\\matplotlib\\axes\\_base.py:278: FutureWarning: Support for multi-dimensional indexing (e.g. `obj[:, None]`) is deprecated and will be removed in a future version.  Convert to a numpy array before indexing instead.\n",
      "  y = y[:, np.newaxis]\n"
     ]
    },
    {
     "data": {
      "image/png": "[encoded data removed]",
      "text/plain": [
       "<Figure size 720x432 with 1 Axes>"
      ]
     },
     "metadata": {
      "needs_background": "light"
     },
     "output_type": "display_data"
    }
   ],
   "source": [
    "best_list = ['ps2','x360','ps3','wii','ds','ps','ps4','gba']\n",
    "tzar_plot('release_year','total_sales',games_by_year,best_list) #function from additional functions\n"
   ]
  },
  {
   "cell_type": "markdown",
   "metadata": {},
   "source": [
    "Most of the platforms have existed for 5 years, two of them - x360 and ps3 - about 10 years. By 2016 leaders exited the market, except ps4. Lets look at sales after 2013, when new platforms appeared."
   ]
  },
  {
   "cell_type": "code",
   "execution_count": 32,
   "metadata": {},
   "outputs": [
    {
     "data": {
      "text/html": [
       "<div>\n",
       "<style scoped>\n",
       "    .dataframe tbody tr th:only-of-type {\n",
       "        vertical-align: middle;\n",
       "    }\n",
       "\n",
       "    .dataframe tbody tr th {\n",
       "        vertical-align: top;\n",
       "    }\n",
       "\n",
       "    .dataframe thead th {\n",
       "        text-align: right;\n",
       "    }\n",
       "</style>\n",
       "<table border=\"1\" class=\"dataframe\">\n",
       "  <thead>\n",
       "    <tr style=\"text-align: right;\">\n",
       "      <th></th>\n",
       "      <th>release_year</th>\n",
       "      <th>platform</th>\n",
       "      <th>eu_sales</th>\n",
       "      <th>jp_sales</th>\n",
       "      <th>na_sales</th>\n",
       "      <th>other_sales</th>\n",
       "      <th>total_sales</th>\n",
       "      <th>games_released</th>\n",
       "    </tr>\n",
       "  </thead>\n",
       "  <tbody>\n",
       "    <tr>\n",
       "      <th>198</th>\n",
       "      <td>2013.0</td>\n",
       "      <td>3ds</td>\n",
       "      <td>14.84</td>\n",
       "      <td>23.57</td>\n",
       "      <td>15.56</td>\n",
       "      <td>2.60</td>\n",
       "      <td>56.57</td>\n",
       "      <td>91</td>\n",
       "    </tr>\n",
       "    <tr>\n",
       "      <th>199</th>\n",
       "      <td>2013.0</td>\n",
       "      <td>ds</td>\n",
       "      <td>0.85</td>\n",
       "      <td>0.00</td>\n",
       "      <td>0.57</td>\n",
       "      <td>0.12</td>\n",
       "      <td>1.54</td>\n",
       "      <td>8</td>\n",
       "    </tr>\n",
       "    <tr>\n",
       "      <th>200</th>\n",
       "      <td>2013.0</td>\n",
       "      <td>pc</td>\n",
       "      <td>7.39</td>\n",
       "      <td>0.00</td>\n",
       "      <td>3.88</td>\n",
       "      <td>1.11</td>\n",
       "      <td>12.38</td>\n",
       "      <td>38</td>\n",
       "    </tr>\n",
       "    <tr>\n",
       "      <th>201</th>\n",
       "      <td>2013.0</td>\n",
       "      <td>ps3</td>\n",
       "      <td>42.27</td>\n",
       "      <td>12.13</td>\n",
       "      <td>41.45</td>\n",
       "      <td>17.40</td>\n",
       "      <td>113.25</td>\n",
       "      <td>126</td>\n",
       "    </tr>\n",
       "    <tr>\n",
       "      <th>202</th>\n",
       "      <td>2013.0</td>\n",
       "      <td>ps4</td>\n",
       "      <td>11.05</td>\n",
       "      <td>0.94</td>\n",
       "      <td>10.13</td>\n",
       "      <td>3.87</td>\n",
       "      <td>25.99</td>\n",
       "      <td>16</td>\n",
       "    </tr>\n",
       "  </tbody>\n",
       "</table>\n",
       "</div>"
      ],
      "text/plain": [
       "     release_year platform  eu_sales  jp_sales  na_sales  other_sales  \\\n",
       "198        2013.0      3ds     14.84     23.57     15.56         2.60   \n",
       "199        2013.0       ds      0.85      0.00      0.57         0.12   \n",
       "200        2013.0       pc      7.39      0.00      3.88         1.11   \n",
       "201        2013.0      ps3     42.27     12.13     41.45        17.40   \n",
       "202        2013.0      ps4     11.05      0.94     10.13         3.87   \n",
       "\n",
       "     total_sales  games_released  \n",
       "198        56.57              91  \n",
       "199         1.54               8  \n",
       "200        12.38              38  \n",
       "201       113.25             126  \n",
       "202        25.99              16  "
      ]
     },
     "metadata": {},
     "output_type": "display_data"
    }
   ],
   "source": [
    "after_2013 = games_by_year.query('release_year >= 2013') #chosing dates after 2013\n",
    "games_after_2013 = games.query('release_year >= 2013')\n",
    "after_2013_platforms = after_2013['platform'].sort_values().unique() #list of platforms after 2013\n",
    "display(after_2013.head(5))"
   ]
  },
  {
   "cell_type": "markdown",
   "metadata": {},
   "source": [
    "### Defining leaders among platforms"
   ]
  },
  {
   "cell_type": "code",
   "execution_count": 34,
   "metadata": {},
   "outputs": [
    {
     "name": "stderr",
     "output_type": "stream",
     "text": [
      "C:\\Users\\Anastasia\\anaconda3\\envs\\praktikum_env\\lib\\site-packages\\matplotlib\\cbook\\__init__.py:1402: FutureWarning: Support for multi-dimensional indexing (e.g. `obj[:, None]`) is deprecated and will be removed in a future version.  Convert to a numpy array before indexing instead.\n",
      "  x[:, None]\n",
      "C:\\Users\\Anastasia\\anaconda3\\envs\\praktikum_env\\lib\\site-packages\\matplotlib\\axes\\_base.py:276: FutureWarning: Support for multi-dimensional indexing (e.g. `obj[:, None]`) is deprecated and will be removed in a future version.  Convert to a numpy array before indexing instead.\n",
      "  x = x[:, np.newaxis]\n",
      "C:\\Users\\Anastasia\\anaconda3\\envs\\praktikum_env\\lib\\site-packages\\matplotlib\\axes\\_base.py:278: FutureWarning: Support for multi-dimensional indexing (e.g. `obj[:, None]`) is deprecated and will be removed in a future version.  Convert to a numpy array before indexing instead.\n",
      "  y = y[:, np.newaxis]\n"
     ]
    },
    {
     "data": {
      "image/png": "[encoded data removed]",
      "text/plain": [
       "<Figure size 720x432 with 1 Axes>"
      ]
     },
     "metadata": {
      "needs_background": "light"
     },
     "output_type": "display_data"
    },
    {
     "data": {
      "text/html": [
       "<div>\n",
       "<style scoped>\n",
       "    .dataframe tbody tr th:only-of-type {\n",
       "        vertical-align: middle;\n",
       "    }\n",
       "\n",
       "    .dataframe tbody tr th {\n",
       "        vertical-align: top;\n",
       "    }\n",
       "\n",
       "    .dataframe thead th {\n",
       "        text-align: right;\n",
       "    }\n",
       "</style>\n",
       "<table border=\"1\" class=\"dataframe\">\n",
       "  <thead>\n",
       "    <tr style=\"text-align: right;\">\n",
       "      <th></th>\n",
       "      <th>platform</th>\n",
       "      <th>games_released</th>\n",
       "      <th>total_sales</th>\n",
       "    </tr>\n",
       "  </thead>\n",
       "  <tbody>\n",
       "    <tr>\n",
       "      <th>4</th>\n",
       "      <td>ps4</td>\n",
       "      <td>392</td>\n",
       "      <td>314.14</td>\n",
       "    </tr>\n",
       "    <tr>\n",
       "      <th>3</th>\n",
       "      <td>ps3</td>\n",
       "      <td>345</td>\n",
       "      <td>181.43</td>\n",
       "    </tr>\n",
       "    <tr>\n",
       "      <th>10</th>\n",
       "      <td>xone</td>\n",
       "      <td>247</td>\n",
       "      <td>159.32</td>\n",
       "    </tr>\n",
       "    <tr>\n",
       "      <th>0</th>\n",
       "      <td>3ds</td>\n",
       "      <td>303</td>\n",
       "      <td>143.25</td>\n",
       "    </tr>\n",
       "    <tr>\n",
       "      <th>9</th>\n",
       "      <td>x360</td>\n",
       "      <td>186</td>\n",
       "      <td>136.80</td>\n",
       "    </tr>\n",
       "    <tr>\n",
       "      <th>8</th>\n",
       "      <td>wiiu</td>\n",
       "      <td>115</td>\n",
       "      <td>64.63</td>\n",
       "    </tr>\n",
       "    <tr>\n",
       "      <th>2</th>\n",
       "      <td>pc</td>\n",
       "      <td>189</td>\n",
       "      <td>39.43</td>\n",
       "    </tr>\n",
       "    <tr>\n",
       "      <th>6</th>\n",
       "      <td>psv</td>\n",
       "      <td>358</td>\n",
       "      <td>32.99</td>\n",
       "    </tr>\n",
       "    <tr>\n",
       "      <th>7</th>\n",
       "      <td>wii</td>\n",
       "      <td>23</td>\n",
       "      <td>13.66</td>\n",
       "    </tr>\n",
       "    <tr>\n",
       "      <th>5</th>\n",
       "      <td>psp</td>\n",
       "      <td>67</td>\n",
       "      <td>3.50</td>\n",
       "    </tr>\n",
       "    <tr>\n",
       "      <th>1</th>\n",
       "      <td>ds</td>\n",
       "      <td>8</td>\n",
       "      <td>1.54</td>\n",
       "    </tr>\n",
       "  </tbody>\n",
       "</table>\n",
       "</div>"
      ],
      "text/plain": [
       "   platform  games_released  total_sales\n",
       "4       ps4             392       314.14\n",
       "3       ps3             345       181.43\n",
       "10     xone             247       159.32\n",
       "0       3ds             303       143.25\n",
       "9      x360             186       136.80\n",
       "8      wiiu             115        64.63\n",
       "2        pc             189        39.43\n",
       "6       psv             358        32.99\n",
       "7       wii              23        13.66\n",
       "5       psp              67         3.50\n",
       "1        ds               8         1.54"
      ]
     },
     "metadata": {},
     "output_type": "display_data"
    }
   ],
   "source": [
    "tzar_plot('release_year','total_sales',after_2013,after_2013_platforms)\n",
    "sales_by_platform_2013 = after_2013.pivot_table(index='platform',values=['total_sales','games_released'],aggfunc='sum')\n",
    "sales_by_platform_2013 = sales_by_platform_2013.reset_index()\n",
    "display(sales_by_platform_2013.sort_values(by='total_sales',ascending=False))"
   ]
  },
  {
   "cell_type": "code",
   "execution_count": 35,
   "metadata": {
    "scrolled": true
   },
   "outputs": [
    {
     "name": "stderr",
     "output_type": "stream",
     "text": [
      "C:\\Users\\Anastasia\\anaconda3\\envs\\praktikum_env\\lib\\site-packages\\matplotlib\\cbook\\__init__.py:1402: FutureWarning: Support for multi-dimensional indexing (e.g. `obj[:, None]`) is deprecated and will be removed in a future version.  Convert to a numpy array before indexing instead.\n",
      "  x[:, None]\n",
      "C:\\Users\\Anastasia\\anaconda3\\envs\\praktikum_env\\lib\\site-packages\\matplotlib\\axes\\_base.py:276: FutureWarning: Support for multi-dimensional indexing (e.g. `obj[:, None]`) is deprecated and will be removed in a future version.  Convert to a numpy array before indexing instead.\n",
      "  x = x[:, np.newaxis]\n",
      "C:\\Users\\Anastasia\\anaconda3\\envs\\praktikum_env\\lib\\site-packages\\matplotlib\\axes\\_base.py:278: FutureWarning: Support for multi-dimensional indexing (e.g. `obj[:, None]`) is deprecated and will be removed in a future version.  Convert to a numpy array before indexing instead.\n",
      "  y = y[:, np.newaxis]\n"
     ]
    },
    {
     "data": {
      "image/png": "[encoded data removed]",
      "text/plain": [
       "<Figure size 720x432 with 1 Axes>"
      ]
     },
     "metadata": {
      "needs_background": "light"
     },
     "output_type": "display_data"
    },
    {
     "data": {
      "image/png": "[encoded data removed]",
      "text/plain": [
       "<Figure size 720x432 with 1 Axes>"
      ]
     },
     "metadata": {
      "needs_background": "light"
     },
     "output_type": "display_data"
    }
   ],
   "source": [
    "#lets devide plots \n",
    "group_1 = sales_by_platform_2013[sales_by_platform_2013['total_sales'] > 100]['platform']\n",
    "group_2 = sales_by_platform_2013[(sales_by_platform_2013['total_sales'] < 100)]['platform']\n",
    "\n",
    "tzar_plot('release_year','total_sales',after_2013,group_1)\n",
    "tzar_plot('release_year','total_sales',after_2013,group_2)\n"
   ]
  },
  {
   "cell_type": "markdown",
   "metadata": {},
   "source": [
    "By 2015 all sales have decreased. Only ps4,xone and 3ds sales in recent years show better results. PC sales are more or less stable during the long period."
   ]
  },
  {
   "cell_type": "markdown",
   "metadata": {},
   "source": [
    "### Box-plots for global sales after 2013"
   ]
  },
  {
   "cell_type": "code",
   "execution_count": 36,
   "metadata": {},
   "outputs": [
    {
     "data": {
      "image/png": "[encoded data removed]",
      "text/plain": [
       "<Figure size 720x432 with 4 Axes>"
      ]
     },
     "metadata": {
      "needs_background": "light"
     },
     "output_type": "display_data"
    }
   ],
   "source": [
    "#making box-plots for chosen platforms\n",
    "pl=['ps4','xone','3ds','pc']\n",
    "fig,ax = plt.subplots(1,4,figsize=(10,6))\n",
    "   \n",
    "ylabel = entity_dict['total_sales'] + ', ' + unit_dict['total_sales']\n",
    "for i in range (0,4):\n",
    "    text = pl[i]\n",
    "    ax[i].boxplot(games_after_2013[games_after_2013['platform'] == pl[i]]['total_sales']) \n",
    "    ax[i].set_title(text)\n",
    "    ax[i].set_ylabel(ylabel)        \n",
    "    ax[i].set_ylim(0,16)      "
   ]
  },
  {
   "cell_type": "markdown",
   "metadata": {},
   "source": [
    "### Influence of ratings on the example of ps4"
   ]
  },
  {
   "cell_type": "code",
   "execution_count": 37,
   "metadata": {
    "scrolled": true
   },
   "outputs": [
    {
     "data": {
      "text/html": [
       "<div>\n",
       "<style scoped>\n",
       "    .dataframe tbody tr th:only-of-type {\n",
       "        vertical-align: middle;\n",
       "    }\n",
       "\n",
       "    .dataframe tbody tr th {\n",
       "        vertical-align: top;\n",
       "    }\n",
       "\n",
       "    .dataframe thead th {\n",
       "        text-align: right;\n",
       "    }\n",
       "</style>\n",
       "<table border=\"1\" class=\"dataframe\">\n",
       "  <thead>\n",
       "    <tr style=\"text-align: right;\">\n",
       "      <th></th>\n",
       "      <th>release_year</th>\n",
       "      <th>na_sales</th>\n",
       "      <th>eu_sales</th>\n",
       "      <th>jp_sales</th>\n",
       "      <th>other_sales</th>\n",
       "      <th>critic_score</th>\n",
       "      <th>user_score</th>\n",
       "      <th>total_sales</th>\n",
       "    </tr>\n",
       "  </thead>\n",
       "  <tbody>\n",
       "    <tr>\n",
       "      <th>release_year</th>\n",
       "      <td>1.000000</td>\n",
       "      <td>-0.264593</td>\n",
       "      <td>-0.194378</td>\n",
       "      <td>-0.126683</td>\n",
       "      <td>-0.235330</td>\n",
       "      <td>-0.021142</td>\n",
       "      <td>0.092788</td>\n",
       "      <td>-0.237611</td>\n",
       "    </tr>\n",
       "    <tr>\n",
       "      <th>na_sales</th>\n",
       "      <td>-0.264593</td>\n",
       "      <td>1.000000</td>\n",
       "      <td>0.715813</td>\n",
       "      <td>0.531527</td>\n",
       "      <td>0.915598</td>\n",
       "      <td>0.415008</td>\n",
       "      <td>0.012087</td>\n",
       "      <td>0.894186</td>\n",
       "    </tr>\n",
       "    <tr>\n",
       "      <th>eu_sales</th>\n",
       "      <td>-0.194378</td>\n",
       "      <td>0.715813</td>\n",
       "      <td>1.000000</td>\n",
       "      <td>0.520915</td>\n",
       "      <td>0.935284</td>\n",
       "      <td>0.346720</td>\n",
       "      <td>-0.018208</td>\n",
       "      <td>0.951760</td>\n",
       "    </tr>\n",
       "    <tr>\n",
       "      <th>jp_sales</th>\n",
       "      <td>-0.126683</td>\n",
       "      <td>0.531527</td>\n",
       "      <td>0.520915</td>\n",
       "      <td>1.000000</td>\n",
       "      <td>0.567749</td>\n",
       "      <td>0.322358</td>\n",
       "      <td>0.173069</td>\n",
       "      <td>0.593180</td>\n",
       "    </tr>\n",
       "    <tr>\n",
       "      <th>other_sales</th>\n",
       "      <td>-0.235330</td>\n",
       "      <td>0.915598</td>\n",
       "      <td>0.935284</td>\n",
       "      <td>0.567749</td>\n",
       "      <td>1.000000</td>\n",
       "      <td>0.409191</td>\n",
       "      <td>-0.001810</td>\n",
       "      <td>0.997804</td>\n",
       "    </tr>\n",
       "    <tr>\n",
       "      <th>critic_score</th>\n",
       "      <td>-0.021142</td>\n",
       "      <td>0.415008</td>\n",
       "      <td>0.346720</td>\n",
       "      <td>0.322358</td>\n",
       "      <td>0.409191</td>\n",
       "      <td>1.000000</td>\n",
       "      <td>0.496739</td>\n",
       "      <td>0.406568</td>\n",
       "    </tr>\n",
       "    <tr>\n",
       "      <th>user_score</th>\n",
       "      <td>0.092788</td>\n",
       "      <td>0.012087</td>\n",
       "      <td>-0.018208</td>\n",
       "      <td>0.173069</td>\n",
       "      <td>-0.001810</td>\n",
       "      <td>0.496739</td>\n",
       "      <td>1.000000</td>\n",
       "      <td>0.001260</td>\n",
       "    </tr>\n",
       "    <tr>\n",
       "      <th>total_sales</th>\n",
       "      <td>-0.237611</td>\n",
       "      <td>0.894186</td>\n",
       "      <td>0.951760</td>\n",
       "      <td>0.593180</td>\n",
       "      <td>0.997804</td>\n",
       "      <td>0.406568</td>\n",
       "      <td>0.001260</td>\n",
       "      <td>1.000000</td>\n",
       "    </tr>\n",
       "  </tbody>\n",
       "</table>\n",
       "</div>"
      ],
      "text/plain": [
       "              release_year  na_sales  eu_sales  jp_sales  other_sales  \\\n",
       "release_year      1.000000 -0.264593 -0.194378 -0.126683    -0.235330   \n",
       "na_sales         -0.264593  1.000000  0.715813  0.531527     0.915598   \n",
       "eu_sales         -0.194378  0.715813  1.000000  0.520915     0.935284   \n",
       "jp_sales         -0.126683  0.531527  0.520915  1.000000     0.567749   \n",
       "other_sales      -0.235330  0.915598  0.935284  0.567749     1.000000   \n",
       "critic_score     -0.021142  0.415008  0.346720  0.322358     0.409191   \n",
       "user_score        0.092788  0.012087 -0.018208  0.173069    -0.001810   \n",
       "total_sales      -0.237611  0.894186  0.951760  0.593180     0.997804   \n",
       "\n",
       "              critic_score  user_score  total_sales  \n",
       "release_year     -0.021142    0.092788    -0.237611  \n",
       "na_sales          0.415008    0.012087     0.894186  \n",
       "eu_sales          0.346720   -0.018208     0.951760  \n",
       "jp_sales          0.322358    0.173069     0.593180  \n",
       "other_sales       0.409191   -0.001810     0.997804  \n",
       "critic_score      1.000000    0.496739     0.406568  \n",
       "user_score        0.496739    1.000000     0.001260  \n",
       "total_sales       0.406568    0.001260     1.000000  "
      ]
     },
     "metadata": {},
     "output_type": "display_data"
    },
    {
     "data": {
      "image/png": "[encoded data removed]",
      "text/plain": [
       "<Figure size 432x288 with 1 Axes>"
      ]
     },
     "metadata": {
      "needs_background": "light"
     },
     "output_type": "display_data"
    },
    {
     "data": {
      "image/png": "[encoded data removed]",
      "text/plain": [
       "<Figure size 432x288 with 1 Axes>"
      ]
     },
     "metadata": {
      "needs_background": "light"
     },
     "output_type": "display_data"
    }
   ],
   "source": [
    "#chosing ps4 data:\n",
    "ps4_critic = games_after_2013.query('(platform == \"ps4\")&(critic_score >=0)') #chosing existing ratings\n",
    "ps4_user = games_after_2013.query('(platform == \"ps4\")&(user_score >=0)')\n",
    "display(ps4_critic.corr()) #correlation table\n",
    "ps4_critic.plot(x='critic_score',y='total_sales',kind='scatter') #scatter plot\n",
    "plt.title('total sales by critic_score for ps4 after 2013')\n",
    "plt.show()\n",
    "ps4_user.plot(x='user_score',y='total_sales',kind='scatter') #scatter plot for users rating\n",
    "plt.title('total sales by user_score for ps4 after 2013')\n",
    "plt.show()"
   ]
  },
  {
   "cell_type": "markdown",
   "metadata": {},
   "source": [
    "- Global sales of ps4 show weak correlation with critics ratings and weaker with users ratings."
   ]
  },
  {
   "cell_type": "markdown",
   "metadata": {},
   "source": [
    "#### Comparison with other platforms"
   ]
  },
  {
   "cell_type": "code",
   "execution_count": 38,
   "metadata": {
    "scrolled": true
   },
   "outputs": [
    {
     "name": "stdout",
     "output_type": "stream",
     "text": [
      "Корреляция глобальных продаж с отзывами\n"
     ]
    },
    {
     "name": "stderr",
     "output_type": "stream",
     "text": [
      "C:\\Users\\Anastasia\\anaconda3\\envs\\praktikum_env\\lib\\site-packages\\numpy\\lib\\function_base.py:2683: RuntimeWarning: Degrees of freedom <= 0 for slice\n",
      "  c = cov(x, y, rowvar, dtype=dtype)\n"
     ]
    },
    {
     "data": {
      "text/html": [
       "<div>\n",
       "<style scoped>\n",
       "    .dataframe tbody tr th:only-of-type {\n",
       "        vertical-align: middle;\n",
       "    }\n",
       "\n",
       "    .dataframe tbody tr th {\n",
       "        vertical-align: top;\n",
       "    }\n",
       "\n",
       "    .dataframe thead th {\n",
       "        text-align: right;\n",
       "    }\n",
       "</style>\n",
       "<table border=\"1\" class=\"dataframe\">\n",
       "  <thead>\n",
       "    <tr style=\"text-align: right;\">\n",
       "      <th></th>\n",
       "      <th>platform</th>\n",
       "      <th>critic_score</th>\n",
       "      <th>user_score</th>\n",
       "    </tr>\n",
       "  </thead>\n",
       "  <tbody>\n",
       "    <tr>\n",
       "      <th>0</th>\n",
       "      <td>ps3</td>\n",
       "      <td>0.334285</td>\n",
       "      <td>0.002394</td>\n",
       "    </tr>\n",
       "    <tr>\n",
       "      <th>1</th>\n",
       "      <td>x360</td>\n",
       "      <td>0.350345</td>\n",
       "      <td>-0.011742</td>\n",
       "    </tr>\n",
       "    <tr>\n",
       "      <th>2</th>\n",
       "      <td>ps4</td>\n",
       "      <td>0.406568</td>\n",
       "      <td>-0.031957</td>\n",
       "    </tr>\n",
       "    <tr>\n",
       "      <th>3</th>\n",
       "      <td>3ds</td>\n",
       "      <td>0.357057</td>\n",
       "      <td>0.241504</td>\n",
       "    </tr>\n",
       "    <tr>\n",
       "      <th>4</th>\n",
       "      <td>xone</td>\n",
       "      <td>0.416998</td>\n",
       "      <td>-0.068925</td>\n",
       "    </tr>\n",
       "    <tr>\n",
       "      <th>5</th>\n",
       "      <td>wiiu</td>\n",
       "      <td>0.376415</td>\n",
       "      <td>0.419330</td>\n",
       "    </tr>\n",
       "    <tr>\n",
       "      <th>6</th>\n",
       "      <td>wii</td>\n",
       "      <td>NaN</td>\n",
       "      <td>0.682942</td>\n",
       "    </tr>\n",
       "    <tr>\n",
       "      <th>7</th>\n",
       "      <td>pc</td>\n",
       "      <td>0.196030</td>\n",
       "      <td>-0.093842</td>\n",
       "    </tr>\n",
       "    <tr>\n",
       "      <th>8</th>\n",
       "      <td>psv</td>\n",
       "      <td>0.254742</td>\n",
       "      <td>0.000942</td>\n",
       "    </tr>\n",
       "    <tr>\n",
       "      <th>9</th>\n",
       "      <td>ds</td>\n",
       "      <td>NaN</td>\n",
       "      <td>NaN</td>\n",
       "    </tr>\n",
       "    <tr>\n",
       "      <th>10</th>\n",
       "      <td>psp</td>\n",
       "      <td>NaN</td>\n",
       "      <td>-1.000000</td>\n",
       "    </tr>\n",
       "  </tbody>\n",
       "</table>\n",
       "</div>"
      ],
      "text/plain": [
       "   platform  critic_score  user_score\n",
       "0       ps3      0.334285    0.002394\n",
       "1      x360      0.350345   -0.011742\n",
       "2       ps4      0.406568   -0.031957\n",
       "3       3ds      0.357057    0.241504\n",
       "4      xone      0.416998   -0.068925\n",
       "5      wiiu      0.376415    0.419330\n",
       "6       wii           NaN    0.682942\n",
       "7        pc      0.196030   -0.093842\n",
       "8       psv      0.254742    0.000942\n",
       "9        ds           NaN         NaN\n",
       "10      psp           NaN   -1.000000"
      ]
     },
     "metadata": {},
     "output_type": "display_data"
    }
   ],
   "source": [
    "#platforms list with sales after 2013:\n",
    "platforms_2013 = games_after_2013['platform'].unique()\n",
    "d = {'platform':platforms_2013} #dictionary for rows and cols with correlations\n",
    "platforms_score_corr = pd.DataFrame(data=d) #getting together table based on dictionry\n",
    "platforms_score_corr.name = 'Корреляция глобальных продаж с отзывами'\n",
    "\n",
    "#mking function for calculation of correlation between global sales and ratings\n",
    "def fill_corr(name):\n",
    "    query = games_after_2013[(games_after_2013['platform']==name)&(games_after_2013[variable]>=0)] #chosing platform and positive rating\n",
    "    corr = query['total_sales'].corr(query[variable]) \n",
    "    return corr\n",
    "for element in ['critic_score','user_score']:\n",
    "    variable = element \n",
    "    platforms_score_corr[element] = platforms_score_corr['platform'].apply(fill_corr)\n",
    "print(platforms_score_corr.name)\n",
    "display(platforms_score_corr)"
   ]
  },
  {
   "cell_type": "code",
   "execution_count": 39,
   "metadata": {},
   "outputs": [
    {
     "data": {
      "text/plain": [
       "count    23.0\n",
       "mean     -1.0\n",
       "std       0.0\n",
       "min      -1.0\n",
       "25%      -1.0\n",
       "50%      -1.0\n",
       "75%      -1.0\n",
       "max      -1.0\n",
       "Name: critic_score, dtype: float64"
      ]
     },
     "metadata": {},
     "output_type": "display_data"
    }
   ],
   "source": [
    "display(games_after_2013.query('(platform ==\"wii\")')['critic_score'].describe()) #проверям, почему появились NaN"
   ]
  },
  {
   "cell_type": "markdown",
   "metadata": {},
   "source": [
    "Correlation of ratings and global sales varies for each platform."
   ]
  },
  {
   "cell_type": "markdown",
   "metadata": {},
   "source": [
    "### Games distribution by genre"
   ]
  },
  {
   "cell_type": "code",
   "execution_count": 40,
   "metadata": {
    "scrolled": true
   },
   "outputs": [
    {
     "data": {
      "image/png": "[encoded data removed]",
      "text/plain": [
       "<Figure size 864x432 with 1 Axes>"
      ]
     },
     "metadata": {
      "needs_background": "light"
     },
     "output_type": "display_data"
    },
    {
     "data": {
      "image/png": "[encoded data removed]",
      "text/plain": [
       "<Figure size 864x432 with 1 Axes>"
      ]
     },
     "metadata": {
      "needs_background": "light"
     },
     "output_type": "display_data"
    }
   ],
   "source": [
    "games_by_genre_2013 = grouping('genre',games_after_2013) #grouping by genre with function from additional functions\n",
    "games_by_genre_2013 = games_by_genre_2013.sort_values(by='total_sales') \n",
    "games_by_genre_2013['mean_sales'] = games_by_genre_2013['total_sales']/games_by_genre_2013['games_released']\n",
    "bar_chart('genre','total_sales',games_by_genre_2013)\n",
    "bar_sorted('genre','mean_sales',games_by_genre_2013)"
   ]
  },
  {
   "cell_type": "markdown",
   "metadata": {},
   "source": [
    "Sales of some genres differ dramatically: action games are being sold much more often than strategies. Total sales depict best-selling genres, while mean sales show games of which genre have the biggest sales. Mean sales are more informative, when we want to chose certain game, not the genre."
   ]
  },
  {
   "cell_type": "markdown",
   "metadata": {},
   "source": [
    "## Differences between regions"
   ]
  },
  {
   "cell_type": "markdown",
   "metadata": {},
   "source": [
    "### Popular platforms"
   ]
  },
  {
   "cell_type": "code",
   "execution_count": 41,
   "metadata": {},
   "outputs": [
    {
     "name": "stdout",
     "output_type": "stream",
     "text": [
      "The most popular platforms in regions:\n"
     ]
    },
    {
     "data": {
      "text/html": [
       "<div>\n",
       "<style scoped>\n",
       "    .dataframe tbody tr th:only-of-type {\n",
       "        vertical-align: middle;\n",
       "    }\n",
       "\n",
       "    .dataframe tbody tr th {\n",
       "        vertical-align: top;\n",
       "    }\n",
       "\n",
       "    .dataframe thead tr th {\n",
       "        text-align: left;\n",
       "    }\n",
       "</style>\n",
       "<table border=\"1\" class=\"dataframe\">\n",
       "  <thead>\n",
       "    <tr>\n",
       "      <th></th>\n",
       "      <th colspan=\"2\" halign=\"left\">top-5 na</th>\n",
       "      <th colspan=\"2\" halign=\"left\">top-5 eu</th>\n",
       "      <th colspan=\"2\" halign=\"left\">top-5 jp</th>\n",
       "    </tr>\n",
       "    <tr>\n",
       "      <th></th>\n",
       "      <th>platform</th>\n",
       "      <th>sales</th>\n",
       "      <th>platform</th>\n",
       "      <th>sales</th>\n",
       "      <th>platform</th>\n",
       "      <th>sales</th>\n",
       "    </tr>\n",
       "  </thead>\n",
       "  <tbody>\n",
       "    <tr>\n",
       "      <th>0</th>\n",
       "      <td>ps4</td>\n",
       "      <td>108.74</td>\n",
       "      <td>ps4</td>\n",
       "      <td>141.09</td>\n",
       "      <td>3ds</td>\n",
       "      <td>67.81</td>\n",
       "    </tr>\n",
       "    <tr>\n",
       "      <th>1</th>\n",
       "      <td>xone</td>\n",
       "      <td>93.12</td>\n",
       "      <td>ps3</td>\n",
       "      <td>67.81</td>\n",
       "      <td>ps3</td>\n",
       "      <td>23.35</td>\n",
       "    </tr>\n",
       "    <tr>\n",
       "      <th>2</th>\n",
       "      <td>x360</td>\n",
       "      <td>81.66</td>\n",
       "      <td>xone</td>\n",
       "      <td>51.59</td>\n",
       "      <td>psv</td>\n",
       "      <td>18.59</td>\n",
       "    </tr>\n",
       "    <tr>\n",
       "      <th>3</th>\n",
       "      <td>ps3</td>\n",
       "      <td>63.50</td>\n",
       "      <td>x360</td>\n",
       "      <td>42.52</td>\n",
       "      <td>ps4</td>\n",
       "      <td>15.96</td>\n",
       "    </tr>\n",
       "    <tr>\n",
       "      <th>4</th>\n",
       "      <td>3ds</td>\n",
       "      <td>38.20</td>\n",
       "      <td>3ds</td>\n",
       "      <td>30.96</td>\n",
       "      <td>wiiu</td>\n",
       "      <td>10.88</td>\n",
       "    </tr>\n",
       "  </tbody>\n",
       "</table>\n",
       "</div>"
      ],
      "text/plain": [
       "  top-5 na         top-5 eu         top-5 jp       \n",
       "  platform   sales platform   sales platform  sales\n",
       "0      ps4  108.74      ps4  141.09      3ds  67.81\n",
       "1     xone   93.12      ps3   67.81      ps3  23.35\n",
       "2     x360   81.66     xone   51.59      psv  18.59\n",
       "3      ps3   63.50     x360   42.52      ps4  15.96\n",
       "4      3ds   38.20      3ds   30.96     wiiu  10.88"
      ]
     },
     "metadata": {},
     "output_type": "display_data"
    }
   ],
   "source": [
    "games_by_platform_2013 = grouping('platform',games_after_2013) #grouping by platform\n",
    "\n",
    "na_platforms = games_by_platform_2013.loc[:,['platform','na_sales']]\n",
    "eu_platforms = games_by_platform_2013.loc[:,['platform','eu_sales']]\n",
    "jp_platforms = games_by_platform_2013.loc[:,['platform','jp_sales']]\n",
    "\n",
    "na_top5 = na_platforms.sort_values(by='na_sales',ascending=False).head(5) #table with top-5\n",
    "na_top5 = na_top5.reset_index(drop=True) \n",
    "\n",
    "eu_top5 = eu_platforms.sort_values(by='eu_sales',ascending=False).head(5)\n",
    "eu_top5 = eu_top5.reset_index(drop=True)\n",
    "\n",
    "jp_top5 = jp_platforms.sort_values(by='jp_sales',ascending=False).head(5)\n",
    "jp_top5 = jp_top5.reset_index(drop=True)\n",
    "\n",
    "top5_regions = ['top-5 na','top-5 eu','top-5 jp'] \n",
    "top5_platforms = pd.concat([na_top5,eu_top5,jp_top5],axis=1,)\n",
    "top5_platforms.columns=pd.MultiIndex.from_product([top5_regions, ['platform', 'sales']])\n",
    "print('The most popular platforms in regions:')\n",
    "display(top5_platforms)"
   ]
  },
  {
   "cell_type": "markdown",
   "metadata": {},
   "source": [
    "### Popular genres"
   ]
  },
  {
   "cell_type": "code",
   "execution_count": 42,
   "metadata": {},
   "outputs": [
    {
     "name": "stdout",
     "output_type": "stream",
     "text": [
      "The most popular genres in regions:\n"
     ]
    },
    {
     "data": {
      "text/html": [
       "<div>\n",
       "<style scoped>\n",
       "    .dataframe tbody tr th:only-of-type {\n",
       "        vertical-align: middle;\n",
       "    }\n",
       "\n",
       "    .dataframe tbody tr th {\n",
       "        vertical-align: top;\n",
       "    }\n",
       "\n",
       "    .dataframe thead tr th {\n",
       "        text-align: left;\n",
       "    }\n",
       "</style>\n",
       "<table border=\"1\" class=\"dataframe\">\n",
       "  <thead>\n",
       "    <tr>\n",
       "      <th></th>\n",
       "      <th colspan=\"2\" halign=\"left\">top-5 na</th>\n",
       "      <th colspan=\"2\" halign=\"left\">top-5 eu</th>\n",
       "      <th colspan=\"2\" halign=\"left\">top-5 jp</th>\n",
       "    </tr>\n",
       "    <tr>\n",
       "      <th></th>\n",
       "      <th>genre</th>\n",
       "      <th>sales</th>\n",
       "      <th>genre</th>\n",
       "      <th>sales</th>\n",
       "      <th>genre</th>\n",
       "      <th>sales</th>\n",
       "    </tr>\n",
       "  </thead>\n",
       "  <tbody>\n",
       "    <tr>\n",
       "      <th>0</th>\n",
       "      <td>action</td>\n",
       "      <td>126.05</td>\n",
       "      <td>action</td>\n",
       "      <td>118.13</td>\n",
       "      <td>role-playing</td>\n",
       "      <td>51.04</td>\n",
       "    </tr>\n",
       "    <tr>\n",
       "      <th>1</th>\n",
       "      <td>shooter</td>\n",
       "      <td>109.74</td>\n",
       "      <td>shooter</td>\n",
       "      <td>87.86</td>\n",
       "      <td>action</td>\n",
       "      <td>40.49</td>\n",
       "    </tr>\n",
       "    <tr>\n",
       "      <th>2</th>\n",
       "      <td>sports</td>\n",
       "      <td>65.27</td>\n",
       "      <td>sports</td>\n",
       "      <td>60.52</td>\n",
       "      <td>misc</td>\n",
       "      <td>9.20</td>\n",
       "    </tr>\n",
       "    <tr>\n",
       "      <th>3</th>\n",
       "      <td>role-playing</td>\n",
       "      <td>46.40</td>\n",
       "      <td>role-playing</td>\n",
       "      <td>36.97</td>\n",
       "      <td>fighting</td>\n",
       "      <td>7.65</td>\n",
       "    </tr>\n",
       "    <tr>\n",
       "      <th>4</th>\n",
       "      <td>misc</td>\n",
       "      <td>27.49</td>\n",
       "      <td>racing</td>\n",
       "      <td>20.19</td>\n",
       "      <td>shooter</td>\n",
       "      <td>6.61</td>\n",
       "    </tr>\n",
       "  </tbody>\n",
       "</table>\n",
       "</div>"
      ],
      "text/plain": [
       "       top-5 na              top-5 eu              top-5 jp       \n",
       "          genre   sales         genre   sales         genre  sales\n",
       "0        action  126.05        action  118.13  role-playing  51.04\n",
       "1       shooter  109.74       shooter   87.86        action  40.49\n",
       "2        sports   65.27        sports   60.52          misc   9.20\n",
       "3  role-playing   46.40  role-playing   36.97      fighting   7.65\n",
       "4          misc   27.49        racing   20.19       shooter   6.61"
      ]
     },
     "metadata": {},
     "output_type": "display_data"
    }
   ],
   "source": [
    "na_genres = games_by_genre_2013.loc[:,['genre','na_sales']]\n",
    "eu_genres = games_by_genre_2013.loc[:,['genre','eu_sales']]\n",
    "jp_genres = games_by_genre_2013.loc[:,['genre','jp_sales']]\n",
    "\n",
    "na_genres_top = na_genres.sort_values(by='na_sales',ascending=False).head(5).reset_index(drop=True)\n",
    "eu_genres_top = eu_genres.sort_values(by='eu_sales',ascending=False).head(5).reset_index(drop=True)\n",
    "jp_genres_top = jp_genres.sort_values(by='jp_sales',ascending=False).head(5).reset_index(drop=True)\n",
    "\n",
    "top5_genres = pd.concat([na_genres_top,eu_genres_top,jp_genres_top],axis=1,) \n",
    "top5_genres.columns=pd.MultiIndex.from_product([top5_regions, ['genre', 'sales']])\n",
    "print('The most popular genres in regions:')\n",
    "display(top5_genres)\n",
    "\n"
   ]
  },
  {
   "cell_type": "markdown",
   "metadata": {},
   "source": [
    "### Influence of age rating on sales in regions\n"
   ]
  },
  {
   "cell_type": "code",
   "execution_count": 43,
   "metadata": {},
   "outputs": [
    {
     "data": {
      "image/png": "[encoded data removed]",
      "text/plain": [
       "<Figure size 864x432 with 1 Axes>"
      ]
     },
     "metadata": {
      "needs_background": "light"
     },
     "output_type": "display_data"
    },
    {
     "data": {
      "image/png": "[encoded data removed]",
      "text/plain": [
       "<Figure size 864x432 with 1 Axes>"
      ]
     },
     "metadata": {
      "needs_background": "light"
     },
     "output_type": "display_data"
    },
    {
     "data": {
      "image/png": "[encoded data removed]",
      "text/plain": [
       "<Figure size 864x432 with 1 Axes>"
      ]
     },
     "metadata": {
      "needs_background": "light"
     },
     "output_type": "display_data"
    }
   ],
   "source": [
    "#making boxplots for region sales by rating\n",
    "regions = ['na_sales','eu_sales','jp_sales']\n",
    "games_by_ESRB_2013 = grouping('rating',games_after_2013)\n",
    "games_by_ESRB_2013 = games_by_ESRB_2013.query('rating !=\"unknown\"') #excluding unknown ratings\n",
    "for element in regions:\n",
    "    bar_sorted('rating',element,games_by_ESRB_2013)"
   ]
  },
  {
   "cell_type": "markdown",
   "metadata": {},
   "source": [
    "## Hypotheses check"
   ]
  },
  {
   "cell_type": "markdown",
   "metadata": {},
   "source": [
    "### Comparison of user ratings for XboxOne and PC"
   ]
  },
  {
   "cell_type": "code",
   "execution_count": 44,
   "metadata": {},
   "outputs": [
    {
     "name": "stdout",
     "output_type": "stream",
     "text": [
      "Mean users rating of the game among platforms:\n"
     ]
    },
    {
     "data": {
      "text/html": [
       "<div>\n",
       "<style scoped>\n",
       "    .dataframe tbody tr th:only-of-type {\n",
       "        vertical-align: middle;\n",
       "    }\n",
       "\n",
       "    .dataframe tbody tr th {\n",
       "        vertical-align: top;\n",
       "    }\n",
       "\n",
       "    .dataframe thead th {\n",
       "        text-align: right;\n",
       "    }\n",
       "</style>\n",
       "<table border=\"1\" class=\"dataframe\">\n",
       "  <thead>\n",
       "    <tr style=\"text-align: right;\">\n",
       "      <th></th>\n",
       "      <th>platform</th>\n",
       "      <th>mean</th>\n",
       "      <th>variation</th>\n",
       "      <th>stdiv</th>\n",
       "    </tr>\n",
       "  </thead>\n",
       "  <tbody>\n",
       "    <tr>\n",
       "      <th>2</th>\n",
       "      <td>pc</td>\n",
       "      <td>6.269677</td>\n",
       "      <td>2.121797</td>\n",
       "      <td>1.456639</td>\n",
       "    </tr>\n",
       "    <tr>\n",
       "      <th>10</th>\n",
       "      <td>xone</td>\n",
       "      <td>6.521429</td>\n",
       "      <td>6.002500</td>\n",
       "      <td>2.450000</td>\n",
       "    </tr>\n",
       "  </tbody>\n",
       "</table>\n",
       "</div>"
      ],
      "text/plain": [
       "   platform      mean  variation     stdiv\n",
       "2        pc  6.269677   2.121797  1.456639\n",
       "10     xone  6.521429   6.002500  2.450000"
      ]
     },
     "metadata": {},
     "output_type": "display_data"
    }
   ],
   "source": [
    "#mean ratings of platforms\n",
    "print('Mean users rating of the game among platforms:')\n",
    "xone_pc_list = ['xone','pc'] #platform list\n",
    "xone_pc = mean_info('user_score',games_after_2013.query('user_score >= 0'),'platform') #function for mean, variance and standard deviation\n",
    "                                                             \n",
    "display(xone_pc.query('platform in @xone_pc_list'))"
   ]
  },
  {
   "cell_type": "code",
   "execution_count": 45,
   "metadata": {},
   "outputs": [
    {
     "name": "stdout",
     "output_type": "stream",
     "text": [
      "Null hypothesis: Mean users ratings of XboxOne and PC are the same\n",
      "p-value: 0.14012658403611647\n",
      "There is no reason to reject the null hypothesis\n"
     ]
    }
   ],
   "source": [
    "#checking assumption about equality of the mean ratings for xone and pc \n",
    "xone_scores = games_after_2013.query('(platform == \"xone\")&(user_score >= 0)')['user_score']\n",
    "pc_scores = games_after_2013.query('(platform == \"pc\")&(user_score >= 0)')['user_score']\n",
    "H1 = 'Mean users ratings of XboxOne and PC are the same' #Null hypothesis\n",
    "alpha = 0.01 #significance level\n",
    "mean_comparison(xone_scores,pc_scores,H1,alpha) "
   ]
  },
  {
   "cell_type": "markdown",
   "metadata": {},
   "source": [
    "### Comparison of genres \"Action\" and \"Sports\""
   ]
  },
  {
   "cell_type": "code",
   "execution_count": 46,
   "metadata": {},
   "outputs": [
    {
     "data": {
      "text/html": [
       "<div>\n",
       "<style scoped>\n",
       "    .dataframe tbody tr th:only-of-type {\n",
       "        vertical-align: middle;\n",
       "    }\n",
       "\n",
       "    .dataframe tbody tr th {\n",
       "        vertical-align: top;\n",
       "    }\n",
       "\n",
       "    .dataframe thead th {\n",
       "        text-align: right;\n",
       "    }\n",
       "</style>\n",
       "<table border=\"1\" class=\"dataframe\">\n",
       "  <thead>\n",
       "    <tr style=\"text-align: right;\">\n",
       "      <th></th>\n",
       "      <th>genre</th>\n",
       "      <th>mean</th>\n",
       "      <th>variation</th>\n",
       "      <th>stdiv</th>\n",
       "    </tr>\n",
       "  </thead>\n",
       "  <tbody>\n",
       "    <tr>\n",
       "      <th>0</th>\n",
       "      <td>action</td>\n",
       "      <td>6.837532</td>\n",
       "      <td>1.764812</td>\n",
       "      <td>1.328462</td>\n",
       "    </tr>\n",
       "    <tr>\n",
       "      <th>10</th>\n",
       "      <td>sports</td>\n",
       "      <td>5.238125</td>\n",
       "      <td>1.660364</td>\n",
       "      <td>1.288551</td>\n",
       "    </tr>\n",
       "  </tbody>\n",
       "</table>\n",
       "</div>"
      ],
      "text/plain": [
       "     genre      mean  variation     stdiv\n",
       "0   action  6.837532   1.764812  1.328462\n",
       "10  sports  5.238125   1.660364  1.288551"
      ]
     },
     "metadata": {},
     "output_type": "display_data"
    }
   ],
   "source": [
    "#mean ratings of these genres\n",
    "action_sports_list = ['action','sports']\n",
    "action_sports = mean_info('user_score',games_after_2013.query('user_score >= 0'),'genre')\n",
    "display(action_sports.query('genre in @action_sports_list'))"
   ]
  },
  {
   "cell_type": "code",
   "execution_count": 47,
   "metadata": {},
   "outputs": [
    {
     "name": "stdout",
     "output_type": "stream",
     "text": [
      "Null hypothesis: Mean users ratings of genres \"Action\" and \"Sports\" are the same\n",
      "p-value: 1.0517832389140023e-27\n",
      "There is a reason to reject the null hypothesis\n"
     ]
    }
   ],
   "source": [
    "#checking assumption about equality of means\n",
    "action_scores = games_after_2013.query('(genre == \"action\")&(user_score >= 0)')['user_score']\n",
    "sport_scores = games_after_2013.query('(genre == \"sports\")&(user_score >= 0)')['user_score']\n",
    "H2 = 'Mean users ratings of genres \"Action\" and \"Sports\" are the same'\n",
    "mean_comparison(action_scores,sport_scores,H2,alpha) "
   ]
  },
  {
   "cell_type": "markdown",
   "metadata": {},
   "source": [
    "## Results and discussion"
   ]
  },
  {
   "cell_type": "markdown",
   "metadata": {},
   "source": [
    " **For \"actual\" period from 2013**\n",
    " \n",
    " - top-5 genres are:\n",
    "  - action\n",
    "  - shooter\n",
    "  - sports\n",
    "  - role-playing\n",
    "  - misc\n",
    " - despite \"action\" genre being very popular(a lot of low-selling games), \"shooter\" games themselves on average are more popular  \n",
    " <br>\n",
    " \n",
    " - popular genres pattern differs slightly in different regions: in Japan role-playing games are the most popular, while in Europe and America they are at the 4th place. The most popular in America and Europe \"actions\" are at the 2nd place in Japan, \"shooters\" are 5th in Japan instead of 2nd in Europe and America\n",
    "<br>\n",
    "\n",
    " - during the last 3 years sales of ps4 and xone have not yet decreased to a minimum and could be considered as potentially more profitable than older ones\n",
    " - ps4 is the most popular platform in North America and Europe, 4th in Japan;  xone is not in the top-5 in Japan, but on 2d place in America and on 3d in Europe \n",
    " - sales within platfors have correlates with ratings in a different rate, but mostly users ratings have weaker correlation with sales than critics ratings \n",
    "  - ps4 and xone sales have weak correleation with critics ratings and weaker with users ratings\n",
    "  - xone sales have weak correlation with critics rating and no correlation with users rating\n",
    "     \n",
    " <br>  \n",
    " \n",
    " - in 2013 gamers got older and in every region games of \"e\" category (everyone) shifted to the 2nd place; in Europe and North America games for adult with rating \"m\" (mature) came on the 1st place;in Japan games for teenagers - \"t\" are at the 1st place \n",
    "  <br>\n",
    "    Moreover, one should consider that missing age rating data distributet not uniformly among genres and platforms, which could mean, that real differences can vary. "
   ]
  }
 ],
 "metadata": {
  "kernelspec": {
   "display_name": "Python 3",
   "language": "python",
   "name": "python3"
  },
  "language_info": {
   "codemirror_mode": {
    "name": "ipython",
    "version": 3
   },
   "file_extension": ".py",
   "mimetype": "text/x-python",
   "name": "python",
   "nbconvert_exporter": "python",
   "pygments_lexer": "ipython3",
   "version": "3.7.10"
  },
  "toc": {
   "base_numbering": 1,
   "nav_menu": {},
   "number_sections": true,
   "sideBar": true,
   "skip_h1_title": true,
   "title_cell": "Table of Contents",
   "title_sidebar": "Contents",
   "toc_cell": false,
   "toc_position": {
    "height": "757px",
    "left": "82px",
    "top": "111.125px",
    "width": "302px"
   },
   "toc_section_display": true,
   "toc_window_display": true
  }
 },
 "nbformat": 4,
 "nbformat_minor": 2
}
